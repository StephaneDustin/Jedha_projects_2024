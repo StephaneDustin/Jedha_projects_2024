{
 "cells": [
  {
   "cell_type": "markdown",
   "metadata": {},
   "source": [
    "          ------------------------------------------------------------------------------------\n",
    "          ---------------------- WELCOME TO THE WALMART PROJECT -------------------------------------\n",
    "          ------------------------------------------------------------------------------------"
   ]
  },
  {
   "cell_type": "markdown",
   "metadata": {},
   "source": [
    "                    ------------- Supervised Machine Learning ------------------------"
   ]
  },
  {
   "cell_type": "markdown",
   "metadata": {},
   "source": [
    "To complete this project, your team should:\n",
    "\n",
    "    - Create some visualizations\n",
    "    - Train at least one linear regression model on the dataset, that predicts the amount of weekly sales as a function of the other variables\n",
    "    - Assess the performances of the model by using a metric that is relevant for regression problems\n",
    "    - Interpret the coefficients of the model to identify what features are important for the prediction\n",
    "    - Train at least one model with regularization (Lasso or Ridge) to reduce overfitting\n"
   ]
  },
  {
   "cell_type": "markdown",
   "metadata": {},
   "source": [
    "                 ******************************************************************"
   ]
  },
  {
   "cell_type": "markdown",
   "metadata": {},
   "source": [
    "                --------------- PART I : EXPLORATORY DATA ANALYSIS -------------"
   ]
  },
  {
   "cell_type": "markdown",
   "metadata": {},
   "source": [
    "                ********************************************************************"
   ]
  },
  {
   "cell_type": "code",
   "execution_count": 18,
   "metadata": {},
   "outputs": [],
   "source": [
    "# Import libraries \n",
    "import pandas as pd\n",
    "import numpy as np\n",
    "\n",
    "import matplotlib.pyplot as plt\n",
    "import seaborn as sns\n",
    "\n",
    "import plotly.express as px"
   ]
  },
  {
   "cell_type": "code",
   "execution_count": 19,
   "metadata": {},
   "outputs": [
    {
     "data": {
      "text/html": [
       "<div>\n",
       "<style scoped>\n",
       "    .dataframe tbody tr th:only-of-type {\n",
       "        vertical-align: middle;\n",
       "    }\n",
       "\n",
       "    .dataframe tbody tr th {\n",
       "        vertical-align: top;\n",
       "    }\n",
       "\n",
       "    .dataframe thead th {\n",
       "        text-align: right;\n",
       "    }\n",
       "</style>\n",
       "<table border=\"1\" class=\"dataframe\">\n",
       "  <thead>\n",
       "    <tr style=\"text-align: right;\">\n",
       "      <th></th>\n",
       "      <th>Store</th>\n",
       "      <th>Date</th>\n",
       "      <th>Weekly_Sales</th>\n",
       "      <th>Holiday_Flag</th>\n",
       "      <th>Temperature</th>\n",
       "      <th>Fuel_Price</th>\n",
       "      <th>CPI</th>\n",
       "      <th>Unemployment</th>\n",
       "    </tr>\n",
       "  </thead>\n",
       "  <tbody>\n",
       "    <tr>\n",
       "      <th>0</th>\n",
       "      <td>6.0</td>\n",
       "      <td>18-02-2011</td>\n",
       "      <td>1572117.54</td>\n",
       "      <td>NaN</td>\n",
       "      <td>59.61</td>\n",
       "      <td>3.045</td>\n",
       "      <td>214.777523</td>\n",
       "      <td>6.858</td>\n",
       "    </tr>\n",
       "    <tr>\n",
       "      <th>1</th>\n",
       "      <td>13.0</td>\n",
       "      <td>25-03-2011</td>\n",
       "      <td>1807545.43</td>\n",
       "      <td>0.0</td>\n",
       "      <td>42.38</td>\n",
       "      <td>3.435</td>\n",
       "      <td>128.616064</td>\n",
       "      <td>7.470</td>\n",
       "    </tr>\n",
       "    <tr>\n",
       "      <th>2</th>\n",
       "      <td>17.0</td>\n",
       "      <td>27-07-2012</td>\n",
       "      <td>NaN</td>\n",
       "      <td>0.0</td>\n",
       "      <td>NaN</td>\n",
       "      <td>NaN</td>\n",
       "      <td>130.719581</td>\n",
       "      <td>5.936</td>\n",
       "    </tr>\n",
       "    <tr>\n",
       "      <th>3</th>\n",
       "      <td>11.0</td>\n",
       "      <td>NaN</td>\n",
       "      <td>1244390.03</td>\n",
       "      <td>0.0</td>\n",
       "      <td>84.57</td>\n",
       "      <td>NaN</td>\n",
       "      <td>214.556497</td>\n",
       "      <td>7.346</td>\n",
       "    </tr>\n",
       "    <tr>\n",
       "      <th>4</th>\n",
       "      <td>6.0</td>\n",
       "      <td>28-05-2010</td>\n",
       "      <td>1644470.66</td>\n",
       "      <td>0.0</td>\n",
       "      <td>78.89</td>\n",
       "      <td>2.759</td>\n",
       "      <td>212.412888</td>\n",
       "      <td>7.092</td>\n",
       "    </tr>\n",
       "    <tr>\n",
       "      <th>5</th>\n",
       "      <td>4.0</td>\n",
       "      <td>28-05-2010</td>\n",
       "      <td>1857533.70</td>\n",
       "      <td>0.0</td>\n",
       "      <td>NaN</td>\n",
       "      <td>2.756</td>\n",
       "      <td>126.160226</td>\n",
       "      <td>7.896</td>\n",
       "    </tr>\n",
       "    <tr>\n",
       "      <th>6</th>\n",
       "      <td>15.0</td>\n",
       "      <td>03-06-2011</td>\n",
       "      <td>695396.19</td>\n",
       "      <td>0.0</td>\n",
       "      <td>69.80</td>\n",
       "      <td>4.069</td>\n",
       "      <td>134.855161</td>\n",
       "      <td>7.658</td>\n",
       "    </tr>\n",
       "    <tr>\n",
       "      <th>7</th>\n",
       "      <td>20.0</td>\n",
       "      <td>03-02-2012</td>\n",
       "      <td>2203523.20</td>\n",
       "      <td>0.0</td>\n",
       "      <td>39.93</td>\n",
       "      <td>3.617</td>\n",
       "      <td>213.023622</td>\n",
       "      <td>6.961</td>\n",
       "    </tr>\n",
       "    <tr>\n",
       "      <th>8</th>\n",
       "      <td>14.0</td>\n",
       "      <td>10-12-2010</td>\n",
       "      <td>2600519.26</td>\n",
       "      <td>0.0</td>\n",
       "      <td>30.54</td>\n",
       "      <td>3.109</td>\n",
       "      <td>NaN</td>\n",
       "      <td>NaN</td>\n",
       "    </tr>\n",
       "    <tr>\n",
       "      <th>9</th>\n",
       "      <td>3.0</td>\n",
       "      <td>NaN</td>\n",
       "      <td>418925.47</td>\n",
       "      <td>0.0</td>\n",
       "      <td>60.12</td>\n",
       "      <td>3.555</td>\n",
       "      <td>224.132020</td>\n",
       "      <td>6.833</td>\n",
       "    </tr>\n",
       "  </tbody>\n",
       "</table>\n",
       "</div>"
      ],
      "text/plain": [
       "   Store        Date  Weekly_Sales  Holiday_Flag  Temperature  Fuel_Price  \\\n",
       "0    6.0  18-02-2011    1572117.54           NaN        59.61       3.045   \n",
       "1   13.0  25-03-2011    1807545.43           0.0        42.38       3.435   \n",
       "2   17.0  27-07-2012           NaN           0.0          NaN         NaN   \n",
       "3   11.0         NaN    1244390.03           0.0        84.57         NaN   \n",
       "4    6.0  28-05-2010    1644470.66           0.0        78.89       2.759   \n",
       "5    4.0  28-05-2010    1857533.70           0.0          NaN       2.756   \n",
       "6   15.0  03-06-2011     695396.19           0.0        69.80       4.069   \n",
       "7   20.0  03-02-2012    2203523.20           0.0        39.93       3.617   \n",
       "8   14.0  10-12-2010    2600519.26           0.0        30.54       3.109   \n",
       "9    3.0         NaN     418925.47           0.0        60.12       3.555   \n",
       "\n",
       "          CPI  Unemployment  \n",
       "0  214.777523         6.858  \n",
       "1  128.616064         7.470  \n",
       "2  130.719581         5.936  \n",
       "3  214.556497         7.346  \n",
       "4  212.412888         7.092  \n",
       "5  126.160226         7.896  \n",
       "6  134.855161         7.658  \n",
       "7  213.023622         6.961  \n",
       "8         NaN           NaN  \n",
       "9  224.132020         6.833  "
      ]
     },
     "execution_count": 19,
     "metadata": {},
     "output_type": "execute_result"
    }
   ],
   "source": [
    "# opening csv file \n",
    "df = pd.read_csv('Walmart_Store_sales.csv')\n",
    "df.head(10)"
   ]
  },
  {
   "cell_type": "code",
   "execution_count": 20,
   "metadata": {},
   "outputs": [
    {
     "data": {
      "text/html": [
       "<div>\n",
       "<style scoped>\n",
       "    .dataframe tbody tr th:only-of-type {\n",
       "        vertical-align: middle;\n",
       "    }\n",
       "\n",
       "    .dataframe tbody tr th {\n",
       "        vertical-align: top;\n",
       "    }\n",
       "\n",
       "    .dataframe thead th {\n",
       "        text-align: right;\n",
       "    }\n",
       "</style>\n",
       "<table border=\"1\" class=\"dataframe\">\n",
       "  <thead>\n",
       "    <tr style=\"text-align: right;\">\n",
       "      <th></th>\n",
       "      <th>Store</th>\n",
       "      <th>Date</th>\n",
       "      <th>Weekly_Sales</th>\n",
       "      <th>Holiday_Flag</th>\n",
       "      <th>Temperature</th>\n",
       "      <th>Fuel_Price</th>\n",
       "      <th>CPI</th>\n",
       "      <th>Unemployment</th>\n",
       "    </tr>\n",
       "  </thead>\n",
       "  <tbody>\n",
       "    <tr>\n",
       "      <th>140</th>\n",
       "      <td>3.0</td>\n",
       "      <td>07-01-2011</td>\n",
       "      <td>NaN</td>\n",
       "      <td>0.0</td>\n",
       "      <td>53.35</td>\n",
       "      <td>2.976</td>\n",
       "      <td>214.695510</td>\n",
       "      <td>7.551</td>\n",
       "    </tr>\n",
       "    <tr>\n",
       "      <th>141</th>\n",
       "      <td>5.0</td>\n",
       "      <td>12-11-2010</td>\n",
       "      <td>301827.36</td>\n",
       "      <td>0.0</td>\n",
       "      <td>62.37</td>\n",
       "      <td>NaN</td>\n",
       "      <td>212.560411</td>\n",
       "      <td>6.768</td>\n",
       "    </tr>\n",
       "    <tr>\n",
       "      <th>142</th>\n",
       "      <td>3.0</td>\n",
       "      <td>07-10-2011</td>\n",
       "      <td>403342.40</td>\n",
       "      <td>0.0</td>\n",
       "      <td>75.54</td>\n",
       "      <td>3.285</td>\n",
       "      <td>NaN</td>\n",
       "      <td>7.197</td>\n",
       "    </tr>\n",
       "    <tr>\n",
       "      <th>143</th>\n",
       "      <td>3.0</td>\n",
       "      <td>04-06-2010</td>\n",
       "      <td>396968.80</td>\n",
       "      <td>0.0</td>\n",
       "      <td>78.53</td>\n",
       "      <td>2.705</td>\n",
       "      <td>214.495838</td>\n",
       "      <td>7.343</td>\n",
       "    </tr>\n",
       "    <tr>\n",
       "      <th>144</th>\n",
       "      <td>3.0</td>\n",
       "      <td>19-10-2012</td>\n",
       "      <td>424513.08</td>\n",
       "      <td>0.0</td>\n",
       "      <td>73.44</td>\n",
       "      <td>3.594</td>\n",
       "      <td>226.968844</td>\n",
       "      <td>6.034</td>\n",
       "    </tr>\n",
       "    <tr>\n",
       "      <th>145</th>\n",
       "      <td>14.0</td>\n",
       "      <td>18-06-2010</td>\n",
       "      <td>2248645.59</td>\n",
       "      <td>0.0</td>\n",
       "      <td>72.62</td>\n",
       "      <td>2.780</td>\n",
       "      <td>182.442420</td>\n",
       "      <td>8.899</td>\n",
       "    </tr>\n",
       "    <tr>\n",
       "      <th>146</th>\n",
       "      <td>7.0</td>\n",
       "      <td>NaN</td>\n",
       "      <td>716388.81</td>\n",
       "      <td>NaN</td>\n",
       "      <td>20.74</td>\n",
       "      <td>2.778</td>\n",
       "      <td>NaN</td>\n",
       "      <td>NaN</td>\n",
       "    </tr>\n",
       "    <tr>\n",
       "      <th>147</th>\n",
       "      <td>17.0</td>\n",
       "      <td>11-06-2010</td>\n",
       "      <td>845252.21</td>\n",
       "      <td>0.0</td>\n",
       "      <td>57.14</td>\n",
       "      <td>2.841</td>\n",
       "      <td>126.111903</td>\n",
       "      <td>NaN</td>\n",
       "    </tr>\n",
       "    <tr>\n",
       "      <th>148</th>\n",
       "      <td>8.0</td>\n",
       "      <td>12-08-2011</td>\n",
       "      <td>856796.10</td>\n",
       "      <td>0.0</td>\n",
       "      <td>86.05</td>\n",
       "      <td>3.638</td>\n",
       "      <td>219.007525</td>\n",
       "      <td>NaN</td>\n",
       "    </tr>\n",
       "    <tr>\n",
       "      <th>149</th>\n",
       "      <td>19.0</td>\n",
       "      <td>20-04-2012</td>\n",
       "      <td>1255087.26</td>\n",
       "      <td>0.0</td>\n",
       "      <td>55.20</td>\n",
       "      <td>4.170</td>\n",
       "      <td>137.923067</td>\n",
       "      <td>8.150</td>\n",
       "    </tr>\n",
       "  </tbody>\n",
       "</table>\n",
       "</div>"
      ],
      "text/plain": [
       "     Store        Date  Weekly_Sales  Holiday_Flag  Temperature  Fuel_Price  \\\n",
       "140    3.0  07-01-2011           NaN           0.0        53.35       2.976   \n",
       "141    5.0  12-11-2010     301827.36           0.0        62.37         NaN   \n",
       "142    3.0  07-10-2011     403342.40           0.0        75.54       3.285   \n",
       "143    3.0  04-06-2010     396968.80           0.0        78.53       2.705   \n",
       "144    3.0  19-10-2012     424513.08           0.0        73.44       3.594   \n",
       "145   14.0  18-06-2010    2248645.59           0.0        72.62       2.780   \n",
       "146    7.0         NaN     716388.81           NaN        20.74       2.778   \n",
       "147   17.0  11-06-2010     845252.21           0.0        57.14       2.841   \n",
       "148    8.0  12-08-2011     856796.10           0.0        86.05       3.638   \n",
       "149   19.0  20-04-2012    1255087.26           0.0        55.20       4.170   \n",
       "\n",
       "            CPI  Unemployment  \n",
       "140  214.695510         7.551  \n",
       "141  212.560411         6.768  \n",
       "142         NaN         7.197  \n",
       "143  214.495838         7.343  \n",
       "144  226.968844         6.034  \n",
       "145  182.442420         8.899  \n",
       "146         NaN           NaN  \n",
       "147  126.111903           NaN  \n",
       "148  219.007525           NaN  \n",
       "149  137.923067         8.150  "
      ]
     },
     "execution_count": 20,
     "metadata": {},
     "output_type": "execute_result"
    }
   ],
   "source": [
    "# always good to have a look too at the end of a dataset\n",
    "df.tail(10)"
   ]
  },
  {
   "cell_type": "code",
   "execution_count": 21,
   "metadata": {},
   "outputs": [
    {
     "data": {
      "text/plain": [
       "(150, 8)"
      ]
     },
     "execution_count": 21,
     "metadata": {},
     "output_type": "execute_result"
    }
   ],
   "source": [
    "df.shape"
   ]
  },
  {
   "cell_type": "markdown",
   "metadata": {},
   "source": [
    "8 columns and 150 rows is the shape of this dataset, which appears to be a small one"
   ]
  },
  {
   "cell_type": "code",
   "execution_count": 22,
   "metadata": {},
   "outputs": [
    {
     "name": "stdout",
     "output_type": "stream",
     "text": [
      "<class 'pandas.core.frame.DataFrame'>\n",
      "RangeIndex: 150 entries, 0 to 149\n",
      "Data columns (total 8 columns):\n",
      " #   Column        Non-Null Count  Dtype  \n",
      "---  ------        --------------  -----  \n",
      " 0   Store         150 non-null    float64\n",
      " 1   Date          132 non-null    object \n",
      " 2   Weekly_Sales  136 non-null    float64\n",
      " 3   Holiday_Flag  138 non-null    float64\n",
      " 4   Temperature   132 non-null    float64\n",
      " 5   Fuel_Price    136 non-null    float64\n",
      " 6   CPI           138 non-null    float64\n",
      " 7   Unemployment  135 non-null    float64\n",
      "dtypes: float64(7), object(1)\n",
      "memory usage: 9.5+ KB\n"
     ]
    }
   ],
   "source": [
    "df.info()"
   ]
  },
  {
   "cell_type": "code",
   "execution_count": 23,
   "metadata": {},
   "outputs": [
    {
     "data": {
      "text/html": [
       "<div>\n",
       "<style scoped>\n",
       "    .dataframe tbody tr th:only-of-type {\n",
       "        vertical-align: middle;\n",
       "    }\n",
       "\n",
       "    .dataframe tbody tr th {\n",
       "        vertical-align: top;\n",
       "    }\n",
       "\n",
       "    .dataframe thead th {\n",
       "        text-align: right;\n",
       "    }\n",
       "</style>\n",
       "<table border=\"1\" class=\"dataframe\">\n",
       "  <thead>\n",
       "    <tr style=\"text-align: right;\">\n",
       "      <th></th>\n",
       "      <th>Store</th>\n",
       "      <th>Weekly_Sales</th>\n",
       "      <th>Holiday_Flag</th>\n",
       "      <th>Temperature</th>\n",
       "      <th>Fuel_Price</th>\n",
       "      <th>CPI</th>\n",
       "      <th>Unemployment</th>\n",
       "    </tr>\n",
       "  </thead>\n",
       "  <tbody>\n",
       "    <tr>\n",
       "      <th>count</th>\n",
       "      <td>150.000000</td>\n",
       "      <td>1.360000e+02</td>\n",
       "      <td>138.000000</td>\n",
       "      <td>132.000000</td>\n",
       "      <td>136.000000</td>\n",
       "      <td>138.000000</td>\n",
       "      <td>135.000000</td>\n",
       "    </tr>\n",
       "    <tr>\n",
       "      <th>mean</th>\n",
       "      <td>9.866667</td>\n",
       "      <td>1.249536e+06</td>\n",
       "      <td>0.079710</td>\n",
       "      <td>61.398106</td>\n",
       "      <td>3.320853</td>\n",
       "      <td>179.898509</td>\n",
       "      <td>7.598430</td>\n",
       "    </tr>\n",
       "    <tr>\n",
       "      <th>std</th>\n",
       "      <td>6.231191</td>\n",
       "      <td>6.474630e+05</td>\n",
       "      <td>0.271831</td>\n",
       "      <td>18.378901</td>\n",
       "      <td>0.478149</td>\n",
       "      <td>40.274956</td>\n",
       "      <td>1.577173</td>\n",
       "    </tr>\n",
       "    <tr>\n",
       "      <th>min</th>\n",
       "      <td>1.000000</td>\n",
       "      <td>2.689290e+05</td>\n",
       "      <td>0.000000</td>\n",
       "      <td>18.790000</td>\n",
       "      <td>2.514000</td>\n",
       "      <td>126.111903</td>\n",
       "      <td>5.143000</td>\n",
       "    </tr>\n",
       "    <tr>\n",
       "      <th>25%</th>\n",
       "      <td>4.000000</td>\n",
       "      <td>6.050757e+05</td>\n",
       "      <td>0.000000</td>\n",
       "      <td>45.587500</td>\n",
       "      <td>2.852250</td>\n",
       "      <td>131.970831</td>\n",
       "      <td>6.597500</td>\n",
       "    </tr>\n",
       "    <tr>\n",
       "      <th>50%</th>\n",
       "      <td>9.000000</td>\n",
       "      <td>1.261424e+06</td>\n",
       "      <td>0.000000</td>\n",
       "      <td>62.985000</td>\n",
       "      <td>3.451000</td>\n",
       "      <td>197.908893</td>\n",
       "      <td>7.470000</td>\n",
       "    </tr>\n",
       "    <tr>\n",
       "      <th>75%</th>\n",
       "      <td>15.750000</td>\n",
       "      <td>1.806386e+06</td>\n",
       "      <td>0.000000</td>\n",
       "      <td>76.345000</td>\n",
       "      <td>3.706250</td>\n",
       "      <td>214.934616</td>\n",
       "      <td>8.150000</td>\n",
       "    </tr>\n",
       "    <tr>\n",
       "      <th>max</th>\n",
       "      <td>20.000000</td>\n",
       "      <td>2.771397e+06</td>\n",
       "      <td>1.000000</td>\n",
       "      <td>91.650000</td>\n",
       "      <td>4.193000</td>\n",
       "      <td>226.968844</td>\n",
       "      <td>14.313000</td>\n",
       "    </tr>\n",
       "  </tbody>\n",
       "</table>\n",
       "</div>"
      ],
      "text/plain": [
       "            Store  Weekly_Sales  Holiday_Flag  Temperature  Fuel_Price  \\\n",
       "count  150.000000  1.360000e+02    138.000000   132.000000  136.000000   \n",
       "mean     9.866667  1.249536e+06      0.079710    61.398106    3.320853   \n",
       "std      6.231191  6.474630e+05      0.271831    18.378901    0.478149   \n",
       "min      1.000000  2.689290e+05      0.000000    18.790000    2.514000   \n",
       "25%      4.000000  6.050757e+05      0.000000    45.587500    2.852250   \n",
       "50%      9.000000  1.261424e+06      0.000000    62.985000    3.451000   \n",
       "75%     15.750000  1.806386e+06      0.000000    76.345000    3.706250   \n",
       "max     20.000000  2.771397e+06      1.000000    91.650000    4.193000   \n",
       "\n",
       "              CPI  Unemployment  \n",
       "count  138.000000    135.000000  \n",
       "mean   179.898509      7.598430  \n",
       "std     40.274956      1.577173  \n",
       "min    126.111903      5.143000  \n",
       "25%    131.970831      6.597500  \n",
       "50%    197.908893      7.470000  \n",
       "75%    214.934616      8.150000  \n",
       "max    226.968844     14.313000  "
      ]
     },
     "execution_count": 23,
     "metadata": {},
     "output_type": "execute_result"
    }
   ],
   "source": [
    "df.describe()"
   ]
  },
  {
   "cell_type": "code",
   "execution_count": 24,
   "metadata": {},
   "outputs": [
    {
     "data": {
      "text/html": [
       "<div>\n",
       "<style scoped>\n",
       "    .dataframe tbody tr th:only-of-type {\n",
       "        vertical-align: middle;\n",
       "    }\n",
       "\n",
       "    .dataframe tbody tr th {\n",
       "        vertical-align: top;\n",
       "    }\n",
       "\n",
       "    .dataframe thead th {\n",
       "        text-align: right;\n",
       "    }\n",
       "</style>\n",
       "<table border=\"1\" class=\"dataframe\">\n",
       "  <thead>\n",
       "    <tr style=\"text-align: right;\">\n",
       "      <th></th>\n",
       "      <th>Store</th>\n",
       "      <th>Date</th>\n",
       "      <th>Weekly_Sales</th>\n",
       "      <th>Holiday_Flag</th>\n",
       "      <th>Temperature</th>\n",
       "      <th>Fuel_Price</th>\n",
       "      <th>CPI</th>\n",
       "      <th>Unemployment</th>\n",
       "    </tr>\n",
       "  </thead>\n",
       "  <tbody>\n",
       "    <tr>\n",
       "      <th>0</th>\n",
       "      <td>False</td>\n",
       "      <td>False</td>\n",
       "      <td>False</td>\n",
       "      <td>True</td>\n",
       "      <td>False</td>\n",
       "      <td>False</td>\n",
       "      <td>False</td>\n",
       "      <td>False</td>\n",
       "    </tr>\n",
       "    <tr>\n",
       "      <th>1</th>\n",
       "      <td>False</td>\n",
       "      <td>False</td>\n",
       "      <td>False</td>\n",
       "      <td>False</td>\n",
       "      <td>False</td>\n",
       "      <td>False</td>\n",
       "      <td>False</td>\n",
       "      <td>False</td>\n",
       "    </tr>\n",
       "    <tr>\n",
       "      <th>2</th>\n",
       "      <td>False</td>\n",
       "      <td>False</td>\n",
       "      <td>True</td>\n",
       "      <td>False</td>\n",
       "      <td>True</td>\n",
       "      <td>True</td>\n",
       "      <td>False</td>\n",
       "      <td>False</td>\n",
       "    </tr>\n",
       "    <tr>\n",
       "      <th>3</th>\n",
       "      <td>False</td>\n",
       "      <td>True</td>\n",
       "      <td>False</td>\n",
       "      <td>False</td>\n",
       "      <td>False</td>\n",
       "      <td>True</td>\n",
       "      <td>False</td>\n",
       "      <td>False</td>\n",
       "    </tr>\n",
       "    <tr>\n",
       "      <th>4</th>\n",
       "      <td>False</td>\n",
       "      <td>False</td>\n",
       "      <td>False</td>\n",
       "      <td>False</td>\n",
       "      <td>False</td>\n",
       "      <td>False</td>\n",
       "      <td>False</td>\n",
       "      <td>False</td>\n",
       "    </tr>\n",
       "    <tr>\n",
       "      <th>...</th>\n",
       "      <td>...</td>\n",
       "      <td>...</td>\n",
       "      <td>...</td>\n",
       "      <td>...</td>\n",
       "      <td>...</td>\n",
       "      <td>...</td>\n",
       "      <td>...</td>\n",
       "      <td>...</td>\n",
       "    </tr>\n",
       "    <tr>\n",
       "      <th>145</th>\n",
       "      <td>False</td>\n",
       "      <td>False</td>\n",
       "      <td>False</td>\n",
       "      <td>False</td>\n",
       "      <td>False</td>\n",
       "      <td>False</td>\n",
       "      <td>False</td>\n",
       "      <td>False</td>\n",
       "    </tr>\n",
       "    <tr>\n",
       "      <th>146</th>\n",
       "      <td>False</td>\n",
       "      <td>True</td>\n",
       "      <td>False</td>\n",
       "      <td>True</td>\n",
       "      <td>False</td>\n",
       "      <td>False</td>\n",
       "      <td>True</td>\n",
       "      <td>True</td>\n",
       "    </tr>\n",
       "    <tr>\n",
       "      <th>147</th>\n",
       "      <td>False</td>\n",
       "      <td>False</td>\n",
       "      <td>False</td>\n",
       "      <td>False</td>\n",
       "      <td>False</td>\n",
       "      <td>False</td>\n",
       "      <td>False</td>\n",
       "      <td>True</td>\n",
       "    </tr>\n",
       "    <tr>\n",
       "      <th>148</th>\n",
       "      <td>False</td>\n",
       "      <td>False</td>\n",
       "      <td>False</td>\n",
       "      <td>False</td>\n",
       "      <td>False</td>\n",
       "      <td>False</td>\n",
       "      <td>False</td>\n",
       "      <td>True</td>\n",
       "    </tr>\n",
       "    <tr>\n",
       "      <th>149</th>\n",
       "      <td>False</td>\n",
       "      <td>False</td>\n",
       "      <td>False</td>\n",
       "      <td>False</td>\n",
       "      <td>False</td>\n",
       "      <td>False</td>\n",
       "      <td>False</td>\n",
       "      <td>False</td>\n",
       "    </tr>\n",
       "  </tbody>\n",
       "</table>\n",
       "<p>150 rows × 8 columns</p>\n",
       "</div>"
      ],
      "text/plain": [
       "     Store   Date  Weekly_Sales  Holiday_Flag  Temperature  Fuel_Price    CPI  \\\n",
       "0    False  False         False          True        False       False  False   \n",
       "1    False  False         False         False        False       False  False   \n",
       "2    False  False          True         False         True        True  False   \n",
       "3    False   True         False         False        False        True  False   \n",
       "4    False  False         False         False        False       False  False   \n",
       "..     ...    ...           ...           ...          ...         ...    ...   \n",
       "145  False  False         False         False        False       False  False   \n",
       "146  False   True         False          True        False       False   True   \n",
       "147  False  False         False         False        False       False  False   \n",
       "148  False  False         False         False        False       False  False   \n",
       "149  False  False         False         False        False       False  False   \n",
       "\n",
       "     Unemployment  \n",
       "0           False  \n",
       "1           False  \n",
       "2           False  \n",
       "3           False  \n",
       "4           False  \n",
       "..            ...  \n",
       "145         False  \n",
       "146          True  \n",
       "147          True  \n",
       "148          True  \n",
       "149         False  \n",
       "\n",
       "[150 rows x 8 columns]"
      ]
     },
     "execution_count": 24,
     "metadata": {},
     "output_type": "execute_result"
    }
   ],
   "source": [
    "df.isnull()"
   ]
  },
  {
   "cell_type": "code",
   "execution_count": 25,
   "metadata": {},
   "outputs": [
    {
     "data": {
      "text/plain": [
       "Store            0\n",
       "Date            18\n",
       "Weekly_Sales    14\n",
       "Holiday_Flag    12\n",
       "Temperature     18\n",
       "Fuel_Price      14\n",
       "CPI             12\n",
       "Unemployment    15\n",
       "dtype: int64"
      ]
     },
     "execution_count": 25,
     "metadata": {},
     "output_type": "execute_result"
    }
   ],
   "source": [
    "df.isnull().sum()"
   ]
  },
  {
   "cell_type": "code",
   "execution_count": 26,
   "metadata": {},
   "outputs": [
    {
     "data": {
      "text/plain": [
       "(136, 8)"
      ]
     },
     "execution_count": 26,
     "metadata": {},
     "output_type": "execute_result"
    }
   ],
   "source": [
    "# supprimer les lignes où la target présente des valeurs nulles\n",
    "df = df.dropna(subset=['Weekly_Sales'])\n",
    "df.shape"
   ]
  },
  {
   "cell_type": "markdown",
   "metadata": {},
   "source": [
    "Visualize temperatures in a boxplot to see outliers"
   ]
  },
  {
   "cell_type": "code",
   "execution_count": 27,
   "metadata": {},
   "outputs": [
    {
     "data": {
      "image/png": "[encoded data removed]",
      "text/plain": [
       "<Figure size 600x400 with 1 Axes>"
      ]
     },
     "metadata": {},
     "output_type": "display_data"
    }
   ],
   "source": [
    "plt.figure(figsize=(6, 4))  \n",
    "plt.boxplot(df['Temperature'].dropna(), vert=False) \n",
    "plt.title('Boxplot de la température en Fahrenheit')\n",
    "plt.xlabel('Température')\n",
    "plt.show()"
   ]
  },
  {
   "cell_type": "markdown",
   "metadata": {},
   "source": [
    "C=(F−32)×95​ pour convertir une température Fahrenheit en Celsius.  \n",
    "Ici les valeurs extrèmes sont donc environ -6°C et +32°C (médiane à +13°C) donc pas d'outliers."
   ]
  },
  {
   "cell_type": "code",
   "execution_count": 28,
   "metadata": {},
   "outputs": [
    {
     "data": {
      "image/png": "[encoded data removed]",
      "text/plain": [
       "<Figure size 600x400 with 1 Axes>"
      ]
     },
     "metadata": {},
     "output_type": "display_data"
    }
   ],
   "source": [
    "holiday_counts = df['Holiday_Flag'].value_counts()\n",
    "\n",
    "# let's print a bar plot\n",
    "plt.figure(figsize=(6, 4))\n",
    "holiday_counts.plot(kind='bar')\n",
    "plt.title('Nombre de jours fériés vs jours normaux')\n",
    "plt.xlabel('Est-ce un jour férié? (0 = Non, 1 = Oui)')\n",
    "plt.ylabel('Nombre de jours')\n",
    "plt.xticks(rotation=0) \n",
    "plt.show()"
   ]
  },
  {
   "cell_type": "code",
   "execution_count": 29,
   "metadata": {},
   "outputs": [
    {
     "name": "stdout",
     "output_type": "stream",
     "text": [
      "0.0    116\n",
      "1.0      9\n",
      "Name: Holiday_Flag, dtype: int64\n"
     ]
    }
   ],
   "source": [
    "print (holiday_counts)"
   ]
  },
  {
   "cell_type": "code",
   "execution_count": 30,
   "metadata": {},
   "outputs": [
    {
     "data": {
      "image/png": "[encoded data removed]",
      "text/plain": [
       "<Figure size 800x600 with 1 Axes>"
      ]
     },
     "metadata": {},
     "output_type": "display_data"
    }
   ],
   "source": [
    "# 2. Boxplot des ventes hebdomadaires\n",
    "plt.figure(figsize=(8, 6))\n",
    "sns.boxplot(x=df['Weekly_Sales'])\n",
    "plt.title('Boxplot des Ventes Hebdomadaires')\n",
    "plt.xlabel('Ventes Hebdomadaires')\n",
    "plt.show()"
   ]
  },
  {
   "cell_type": "markdown",
   "metadata": {},
   "source": [
    "Cette distribution ne présente pas d'outliers."
   ]
  },
  {
   "cell_type": "code",
   "execution_count": 31,
   "metadata": {},
   "outputs": [
    {
     "data": {
      "image/png": "[encoded data removed]",
      "text/plain": [
       "<Figure size 1000x600 with 1 Axes>"
      ]
     },
     "metadata": {},
     "output_type": "display_data"
    }
   ],
   "source": [
    "plt.figure(figsize=(10, 6))\n",
    "sns.boxplot(x='Holiday_Flag', y='Weekly_Sales', data=df)\n",
    "plt.title('Ventes Hebdomadaires par Statut de Jour Férié')\n",
    "plt.xlabel('Jour Férié (0 = Non, 1 = Oui)')\n",
    "plt.ylabel('Ventes Hebdomadaires')\n",
    "plt.xticks([0, 1], ['Non Férié', 'Férié'])\n",
    "plt.show()"
   ]
  },
  {
   "cell_type": "code",
   "execution_count": 32,
   "metadata": {},
   "outputs": [
    {
     "data": {
      "text/html": [
       "<div>\n",
       "<style scoped>\n",
       "    .dataframe tbody tr th:only-of-type {\n",
       "        vertical-align: middle;\n",
       "    }\n",
       "\n",
       "    .dataframe tbody tr th {\n",
       "        vertical-align: top;\n",
       "    }\n",
       "\n",
       "    .dataframe thead th {\n",
       "        text-align: right;\n",
       "    }\n",
       "</style>\n",
       "<table border=\"1\" class=\"dataframe\">\n",
       "  <thead>\n",
       "    <tr style=\"text-align: right;\">\n",
       "      <th></th>\n",
       "      <th>Store</th>\n",
       "      <th>Date</th>\n",
       "      <th>Weekly_Sales</th>\n",
       "      <th>Holiday_Flag</th>\n",
       "      <th>Temperature</th>\n",
       "      <th>Fuel_Price</th>\n",
       "      <th>CPI</th>\n",
       "      <th>Unemployment</th>\n",
       "    </tr>\n",
       "  </thead>\n",
       "  <tbody>\n",
       "    <tr>\n",
       "      <th>144</th>\n",
       "      <td>3.0</td>\n",
       "      <td>19-10-2012</td>\n",
       "      <td>424513.08</td>\n",
       "      <td>0.0</td>\n",
       "      <td>73.44</td>\n",
       "      <td>3.594</td>\n",
       "      <td>226.968844</td>\n",
       "      <td>6.034</td>\n",
       "    </tr>\n",
       "    <tr>\n",
       "      <th>145</th>\n",
       "      <td>14.0</td>\n",
       "      <td>18-06-2010</td>\n",
       "      <td>2248645.59</td>\n",
       "      <td>0.0</td>\n",
       "      <td>72.62</td>\n",
       "      <td>2.780</td>\n",
       "      <td>182.442420</td>\n",
       "      <td>8.899</td>\n",
       "    </tr>\n",
       "    <tr>\n",
       "      <th>147</th>\n",
       "      <td>17.0</td>\n",
       "      <td>11-06-2010</td>\n",
       "      <td>845252.21</td>\n",
       "      <td>0.0</td>\n",
       "      <td>57.14</td>\n",
       "      <td>2.841</td>\n",
       "      <td>126.111903</td>\n",
       "      <td>NaN</td>\n",
       "    </tr>\n",
       "    <tr>\n",
       "      <th>148</th>\n",
       "      <td>8.0</td>\n",
       "      <td>12-08-2011</td>\n",
       "      <td>856796.10</td>\n",
       "      <td>0.0</td>\n",
       "      <td>86.05</td>\n",
       "      <td>3.638</td>\n",
       "      <td>219.007525</td>\n",
       "      <td>NaN</td>\n",
       "    </tr>\n",
       "    <tr>\n",
       "      <th>149</th>\n",
       "      <td>19.0</td>\n",
       "      <td>20-04-2012</td>\n",
       "      <td>1255087.26</td>\n",
       "      <td>0.0</td>\n",
       "      <td>55.20</td>\n",
       "      <td>4.170</td>\n",
       "      <td>137.923067</td>\n",
       "      <td>8.150</td>\n",
       "    </tr>\n",
       "  </tbody>\n",
       "</table>\n",
       "</div>"
      ],
      "text/plain": [
       "     Store        Date  Weekly_Sales  Holiday_Flag  Temperature  Fuel_Price  \\\n",
       "144    3.0  19-10-2012     424513.08           0.0        73.44       3.594   \n",
       "145   14.0  18-06-2010    2248645.59           0.0        72.62       2.780   \n",
       "147   17.0  11-06-2010     845252.21           0.0        57.14       2.841   \n",
       "148    8.0  12-08-2011     856796.10           0.0        86.05       3.638   \n",
       "149   19.0  20-04-2012    1255087.26           0.0        55.20       4.170   \n",
       "\n",
       "            CPI  Unemployment  \n",
       "144  226.968844         6.034  \n",
       "145  182.442420         8.899  \n",
       "147  126.111903           NaN  \n",
       "148  219.007525           NaN  \n",
       "149  137.923067         8.150  "
      ]
     },
     "execution_count": 32,
     "metadata": {},
     "output_type": "execute_result"
    }
   ],
   "source": [
    "df.dropna(subset=['Date', 'Weekly_Sales'], inplace= True)\n",
    "df.tail()"
   ]
  },
  {
   "cell_type": "code",
   "execution_count": 33,
   "metadata": {},
   "outputs": [
    {
     "data": {
      "image/png": "[encoded data removed]",
      "text/plain": [
       "<Figure size 800x600 with 1 Axes>"
      ]
     },
     "metadata": {},
     "output_type": "display_data"
    }
   ],
   "source": [
    "\n",
    "# Calculer le volume total des ventes pour les jours fériés et non fériés\n",
    "total_sales_holiday = df[df['Holiday_Flag'] == 1]['Weekly_Sales'].sum()\n",
    "total_sales_non_holiday = df[df['Holiday_Flag'] == 0]['Weekly_Sales'].sum()\n",
    "\n",
    "# Préparer les données pour le graphique\n",
    "total_sales_data = {'Holiday': ['Non Férié', 'Férié'], 'Total Sales': [total_sales_non_holiday, total_sales_holiday]}\n",
    "\n",
    "# Créer un DataFrame\n",
    "total_sales_df = pd.DataFrame(total_sales_data)\n",
    "\n",
    "# Créer un graphique à barres\n",
    "plt.figure(figsize=(8, 6))\n",
    "sns.barplot(x='Holiday', y='Total Sales', data=total_sales_df)\n",
    "plt.title('Volume total des ventes selon selon si jour Férié ou non')\n",
    "plt.ylabel('Volume Total des Ventes')\n",
    "plt.xlabel('Jour érié ou non')\n",
    "plt.show()\n"
   ]
  },
  {
   "cell_type": "markdown",
   "metadata": {},
   "source": [
    "This has to be adjusted in comparison with the mean-sales per day-off compared to the mean-sales  \n",
    "per working-day, as there is more working day in the dataset  \n",
    "(and in real life too, as I was told...)"
   ]
  },
  {
   "cell_type": "code",
   "execution_count": 34,
   "metadata": {},
   "outputs": [
    {
     "name": "stdout",
     "output_type": "stream",
     "text": [
      "Average sales during working days : 1250538.2953465348\n",
      "Average sales during days off : 1291931.46625\n"
     ]
    }
   ],
   "source": [
    "\n",
    "# mean-sales volume for Holiday_Flag == 0\n",
    "average_sales_non_holiday = df[df['Holiday_Flag'] == 0]['Weekly_Sales'].mean()\n",
    "\n",
    "# mean-sales volume for Holiday_Flag == 1\n",
    "average_sales_holiday = df[df['Holiday_Flag'] == 1]['Weekly_Sales'].mean()\n",
    "\n",
    "print(f\"Average sales during working days : {average_sales_non_holiday}\")\n",
    "print(f\"Average sales during days off : {average_sales_holiday}\")\n"
   ]
  },
  {
   "cell_type": "code",
   "execution_count": 35,
   "metadata": {},
   "outputs": [
    {
     "data": {
      "image/png": "[encoded data removed]",
      "text/plain": [
       "<Figure size 800x600 with 1 Axes>"
      ]
     },
     "metadata": {},
     "output_type": "display_data"
    }
   ],
   "source": [
    "# Créer un graphique à barres pour les moyennes de ventes\n",
    "categories = ['Working days :-(', 'Days off :-)']\n",
    "average_sales = [average_sales_non_holiday, average_sales_holiday]\n",
    "\n",
    "plt.figure(figsize=(8, 6))\n",
    "plt.bar(categories, average_sales, color=['blue', 'orange'])\n",
    "plt.title('Average sales by day status')\n",
    "plt.xlabel('Holiday day or not ?')\n",
    "plt.ylabel('Average sales vs holiday flag')\n",
    "plt.show()"
   ]
  },
  {
   "cell_type": "markdown",
   "metadata": {},
   "source": [
    "Voyons l'influence de la température sur les ventes:"
   ]
  },
  {
   "cell_type": "code",
   "execution_count": 36,
   "metadata": {},
   "outputs": [
    {
     "data": {
      "image/png": "[encoded data removed]",
      "text/plain": [
       "<Figure size 1500x500 with 1 Axes>"
      ]
     },
     "metadata": {},
     "output_type": "display_data"
    }
   ],
   "source": [
    "sns.lmplot(data=df,y='Weekly_Sales',x='Temperature',height=5,aspect=3)\n",
    "plt.show()"
   ]
  },
  {
   "cell_type": "markdown",
   "metadata": {},
   "source": [
    "Sensiblement, le chiffres des ventes semble diminuer lorsque la température augmente mais la dispersion  \n",
    "(variabilité) des points suggère que ce marqueur n'est pas le plus approprié en terme de prédiction des ventes."
   ]
  },
  {
   "cell_type": "markdown",
   "metadata": {},
   "source": [
    "Voyons les ventes moyennes par magasin."
   ]
  },
  {
   "cell_type": "code",
   "execution_count": 37,
   "metadata": {},
   "outputs": [
    {
     "data": {
      "image/png": "[encoded data removed]",
      "text/plain": [
       "<Figure size 2000x800 with 1 Axes>"
      ]
     },
     "metadata": {},
     "output_type": "display_data"
    }
   ],
   "source": [
    "\n",
    "# Moyenne des ventes hebdomadaires par magasin\n",
    "average_sales_per_store = df.groupby('Store')['Weekly_Sales'].mean().reset_index()\n",
    "average_sales_per_store.columns = ['Store', 'Average_Weekly_Sales']\n",
    "average_sales_per_store_sorted = average_sales_per_store.sort_values(by='Average_Weekly_Sales', ascending=False)\n",
    "average_sales_per_store_sorted.reset_index(drop=True, inplace=True)\n",
    "\n",
    "plt.figure(figsize=(20, 8))\n",
    "plt.bar(average_sales_per_store_sorted.index, average_sales_per_store_sorted['Average_Weekly_Sales'], color='skyblue')\n",
    "plt.title('Moyenne des ventes hebdomadaires par magasin')\n",
    "plt.xlabel('Magasins (Store)')\n",
    "plt.ylabel('Ventes hebdomadaires moyennes')\n",
    "plt.xticks(average_sales_per_store_sorted.index, average_sales_per_store_sorted['Store'])\n",
    "plt.tight_layout()\n",
    "plt.show()\n"
   ]
  },
  {
   "cell_type": "markdown",
   "metadata": {},
   "source": [
    "Ce graphe montre l'importance du magasin dans le chiffre moyen des ventes. Par exemple le magasin n°4 a un  \n",
    "chiffre de vente moyen 4 fois plus élevé que le n°5.  \n",
    "Il faudrait voir quelles raisons structurelles pourraient aussi expliquer cela, comme la taille des magasins par exemple."
   ]
  },
  {
   "cell_type": "code",
   "execution_count": 38,
   "metadata": {},
   "outputs": [
    {
     "data": {
      "text/html": [
       "<div>\n",
       "<style scoped>\n",
       "    .dataframe tbody tr th:only-of-type {\n",
       "        vertical-align: middle;\n",
       "    }\n",
       "\n",
       "    .dataframe tbody tr th {\n",
       "        vertical-align: top;\n",
       "    }\n",
       "\n",
       "    .dataframe thead th {\n",
       "        text-align: right;\n",
       "    }\n",
       "</style>\n",
       "<table border=\"1\" class=\"dataframe\">\n",
       "  <thead>\n",
       "    <tr style=\"text-align: right;\">\n",
       "      <th></th>\n",
       "      <th>Store</th>\n",
       "      <th>Date</th>\n",
       "      <th>Weekly_Sales</th>\n",
       "      <th>Holiday_Flag</th>\n",
       "      <th>Temperature</th>\n",
       "      <th>Fuel_Price</th>\n",
       "      <th>CPI</th>\n",
       "      <th>Unemployment</th>\n",
       "    </tr>\n",
       "  </thead>\n",
       "  <tbody>\n",
       "    <tr>\n",
       "      <th>67</th>\n",
       "      <td>3.0</td>\n",
       "      <td>2010-02-05</td>\n",
       "      <td>461622.22</td>\n",
       "      <td>0.0</td>\n",
       "      <td>45.71</td>\n",
       "      <td>2.572</td>\n",
       "      <td>214.424881</td>\n",
       "      <td>7.368</td>\n",
       "    </tr>\n",
       "    <tr>\n",
       "      <th>44</th>\n",
       "      <td>1.0</td>\n",
       "      <td>2010-02-12</td>\n",
       "      <td>1641957.44</td>\n",
       "      <td>1.0</td>\n",
       "      <td>38.51</td>\n",
       "      <td>2.548</td>\n",
       "      <td>211.242170</td>\n",
       "      <td>8.106</td>\n",
       "    </tr>\n",
       "    <tr>\n",
       "      <th>107</th>\n",
       "      <td>8.0</td>\n",
       "      <td>2010-02-12</td>\n",
       "      <td>994801.40</td>\n",
       "      <td>1.0</td>\n",
       "      <td>33.34</td>\n",
       "      <td>2.548</td>\n",
       "      <td>214.621419</td>\n",
       "      <td>6.299</td>\n",
       "    </tr>\n",
       "    <tr>\n",
       "      <th>115</th>\n",
       "      <td>15.0</td>\n",
       "      <td>2010-02-19</td>\n",
       "      <td>660838.75</td>\n",
       "      <td>0.0</td>\n",
       "      <td>NaN</td>\n",
       "      <td>2.909</td>\n",
       "      <td>131.637000</td>\n",
       "      <td>NaN</td>\n",
       "    </tr>\n",
       "    <tr>\n",
       "      <th>112</th>\n",
       "      <td>2.0</td>\n",
       "      <td>2010-02-19</td>\n",
       "      <td>2124451.54</td>\n",
       "      <td>0.0</td>\n",
       "      <td>39.69</td>\n",
       "      <td>2.514</td>\n",
       "      <td>210.945160</td>\n",
       "      <td>NaN</td>\n",
       "    </tr>\n",
       "  </tbody>\n",
       "</table>\n",
       "</div>"
      ],
      "text/plain": [
       "     Store       Date  Weekly_Sales  Holiday_Flag  Temperature  Fuel_Price  \\\n",
       "67     3.0 2010-02-05     461622.22           0.0        45.71       2.572   \n",
       "44     1.0 2010-02-12    1641957.44           1.0        38.51       2.548   \n",
       "107    8.0 2010-02-12     994801.40           1.0        33.34       2.548   \n",
       "115   15.0 2010-02-19     660838.75           0.0          NaN       2.909   \n",
       "112    2.0 2010-02-19    2124451.54           0.0        39.69       2.514   \n",
       "\n",
       "            CPI  Unemployment  \n",
       "67   214.424881         7.368  \n",
       "44   211.242170         8.106  \n",
       "107  214.621419         6.299  \n",
       "115  131.637000           NaN  \n",
       "112  210.945160           NaN  "
      ]
     },
     "execution_count": 38,
     "metadata": {},
     "output_type": "execute_result"
    }
   ],
   "source": [
    "df['Date'] = pd.to_datetime(df['Date'], format='%d-%m-%Y')\n",
    "df= df.sort_values('Date')\n",
    "df.head()"
   ]
  },
  {
   "cell_type": "markdown",
   "metadata": {},
   "source": [
    "                  *******************************************************************"
   ]
  },
  {
   "cell_type": "markdown",
   "metadata": {},
   "source": [
    "                    -------------- PART II : PREPROCESSING --------------------"
   ]
  },
  {
   "cell_type": "markdown",
   "metadata": {},
   "source": [
    "                  ******************************************************************"
   ]
  },
  {
   "cell_type": "markdown",
   "metadata": {},
   "source": [
    "We have some missing values in CPI column : we can pick up CPI value on internet for each date in dataframe where CPI value is Nan. Then replace missing values."
   ]
  },
  {
   "cell_type": "code",
   "execution_count": 39,
   "metadata": {},
   "outputs": [],
   "source": [
    "\n",
    "# pick up on internet missing CPI value\n",
    "missing_CPI = {'2010-12-10': 218.803,\n",
    "    '2010-08-20' : 218.312,\n",
    "    '2011-12-16' : 225.672,\n",
    "    '2012-01-13' : 226.665,\n",
    "    '2012-02-10' : 227.663,\n",
    "    '2010-12-17' : 219.179,\n",
    "    '2011-07-29' : 225.922,\n",
    "    '2010-09-24' : 218.439,\n",
    "    '2010-02-26' : 216.741,\n",
    "    '2011-10-07' : 226.421}"
   ]
  },
  {
   "cell_type": "code",
   "execution_count": 40,
   "metadata": {},
   "outputs": [],
   "source": [
    "\n",
    "# Convert dictionnary keys of missing_CPI in datetime if they still not are\n",
    "missing_CPI = {pd.to_datetime(date): cpi for date, cpi in missing_CPI.items()}\n",
    "\n",
    "# Then replace NaN in 'CPI' column using the missing_CPI dictionnary\n",
    "df.loc[df['CPI'].isnull() & df['Date'].isin(missing_CPI), 'CPI'] = df['Date'].map(missing_CPI)"
   ]
  },
  {
   "cell_type": "code",
   "execution_count": 41,
   "metadata": {},
   "outputs": [
    {
     "data": {
      "text/html": [
       "<div>\n",
       "<style scoped>\n",
       "    .dataframe tbody tr th:only-of-type {\n",
       "        vertical-align: middle;\n",
       "    }\n",
       "\n",
       "    .dataframe tbody tr th {\n",
       "        vertical-align: top;\n",
       "    }\n",
       "\n",
       "    .dataframe thead th {\n",
       "        text-align: right;\n",
       "    }\n",
       "</style>\n",
       "<table border=\"1\" class=\"dataframe\">\n",
       "  <thead>\n",
       "    <tr style=\"text-align: right;\">\n",
       "      <th></th>\n",
       "      <th>Store</th>\n",
       "      <th>Date</th>\n",
       "      <th>Weekly_Sales</th>\n",
       "      <th>Holiday_Flag</th>\n",
       "      <th>Temperature</th>\n",
       "      <th>Fuel_Price</th>\n",
       "      <th>CPI</th>\n",
       "      <th>Unemployment</th>\n",
       "    </tr>\n",
       "  </thead>\n",
       "  <tbody>\n",
       "    <tr>\n",
       "      <th>67</th>\n",
       "      <td>3.0</td>\n",
       "      <td>2010-02-05</td>\n",
       "      <td>461622.22</td>\n",
       "      <td>0.0</td>\n",
       "      <td>45.71</td>\n",
       "      <td>2.572</td>\n",
       "      <td>214.424881</td>\n",
       "      <td>7.368</td>\n",
       "    </tr>\n",
       "    <tr>\n",
       "      <th>44</th>\n",
       "      <td>1.0</td>\n",
       "      <td>2010-02-12</td>\n",
       "      <td>1641957.44</td>\n",
       "      <td>1.0</td>\n",
       "      <td>38.51</td>\n",
       "      <td>2.548</td>\n",
       "      <td>211.242170</td>\n",
       "      <td>8.106</td>\n",
       "    </tr>\n",
       "    <tr>\n",
       "      <th>107</th>\n",
       "      <td>8.0</td>\n",
       "      <td>2010-02-12</td>\n",
       "      <td>994801.40</td>\n",
       "      <td>1.0</td>\n",
       "      <td>33.34</td>\n",
       "      <td>2.548</td>\n",
       "      <td>214.621419</td>\n",
       "      <td>6.299</td>\n",
       "    </tr>\n",
       "    <tr>\n",
       "      <th>115</th>\n",
       "      <td>15.0</td>\n",
       "      <td>2010-02-19</td>\n",
       "      <td>660838.75</td>\n",
       "      <td>0.0</td>\n",
       "      <td>NaN</td>\n",
       "      <td>2.909</td>\n",
       "      <td>131.637000</td>\n",
       "      <td>NaN</td>\n",
       "    </tr>\n",
       "    <tr>\n",
       "      <th>112</th>\n",
       "      <td>2.0</td>\n",
       "      <td>2010-02-19</td>\n",
       "      <td>2124451.54</td>\n",
       "      <td>0.0</td>\n",
       "      <td>39.69</td>\n",
       "      <td>2.514</td>\n",
       "      <td>210.945160</td>\n",
       "      <td>NaN</td>\n",
       "    </tr>\n",
       "    <tr>\n",
       "      <th>106</th>\n",
       "      <td>14.0</td>\n",
       "      <td>2010-02-26</td>\n",
       "      <td>2095591.63</td>\n",
       "      <td>0.0</td>\n",
       "      <td>34.89</td>\n",
       "      <td>NaN</td>\n",
       "      <td>216.741000</td>\n",
       "      <td>8.992</td>\n",
       "    </tr>\n",
       "    <tr>\n",
       "      <th>96</th>\n",
       "      <td>8.0</td>\n",
       "      <td>2010-03-12</td>\n",
       "      <td>860336.16</td>\n",
       "      <td>0.0</td>\n",
       "      <td>49.76</td>\n",
       "      <td>NaN</td>\n",
       "      <td>214.749245</td>\n",
       "      <td>6.299</td>\n",
       "    </tr>\n",
       "    <tr>\n",
       "      <th>23</th>\n",
       "      <td>19.0</td>\n",
       "      <td>2010-03-26</td>\n",
       "      <td>1427023.45</td>\n",
       "      <td>0.0</td>\n",
       "      <td>39.07</td>\n",
       "      <td>2.963</td>\n",
       "      <td>131.863129</td>\n",
       "      <td>8.350</td>\n",
       "    </tr>\n",
       "  </tbody>\n",
       "</table>\n",
       "</div>"
      ],
      "text/plain": [
       "     Store       Date  Weekly_Sales  Holiday_Flag  Temperature  Fuel_Price  \\\n",
       "67     3.0 2010-02-05     461622.22           0.0        45.71       2.572   \n",
       "44     1.0 2010-02-12    1641957.44           1.0        38.51       2.548   \n",
       "107    8.0 2010-02-12     994801.40           1.0        33.34       2.548   \n",
       "115   15.0 2010-02-19     660838.75           0.0          NaN       2.909   \n",
       "112    2.0 2010-02-19    2124451.54           0.0        39.69       2.514   \n",
       "106   14.0 2010-02-26    2095591.63           0.0        34.89         NaN   \n",
       "96     8.0 2010-03-12     860336.16           0.0        49.76         NaN   \n",
       "23    19.0 2010-03-26    1427023.45           0.0        39.07       2.963   \n",
       "\n",
       "            CPI  Unemployment  \n",
       "67   214.424881         7.368  \n",
       "44   211.242170         8.106  \n",
       "107  214.621419         6.299  \n",
       "115  131.637000           NaN  \n",
       "112  210.945160           NaN  \n",
       "106  216.741000         8.992  \n",
       "96   214.749245         6.299  \n",
       "23   131.863129         8.350  "
      ]
     },
     "execution_count": 41,
     "metadata": {},
     "output_type": "execute_result"
    }
   ],
   "source": [
    "df.head(8)"
   ]
  },
  {
   "cell_type": "code",
   "execution_count": 42,
   "metadata": {},
   "outputs": [
    {
     "data": {
      "text/html": [
       "<div>\n",
       "<style scoped>\n",
       "    .dataframe tbody tr th:only-of-type {\n",
       "        vertical-align: middle;\n",
       "    }\n",
       "\n",
       "    .dataframe tbody tr th {\n",
       "        vertical-align: top;\n",
       "    }\n",
       "\n",
       "    .dataframe thead th {\n",
       "        text-align: right;\n",
       "    }\n",
       "</style>\n",
       "<table border=\"1\" class=\"dataframe\">\n",
       "  <thead>\n",
       "    <tr style=\"text-align: right;\">\n",
       "      <th></th>\n",
       "      <th>Store</th>\n",
       "      <th>Date</th>\n",
       "      <th>Weekly_Sales</th>\n",
       "      <th>Holiday_Flag</th>\n",
       "      <th>Temperature</th>\n",
       "      <th>Fuel_Price</th>\n",
       "      <th>CPI</th>\n",
       "      <th>Unemployment</th>\n",
       "    </tr>\n",
       "  </thead>\n",
       "  <tbody>\n",
       "    <tr>\n",
       "      <th>67</th>\n",
       "      <td>3.0</td>\n",
       "      <td>2010-02-05</td>\n",
       "      <td>461622.22</td>\n",
       "      <td>0.0</td>\n",
       "      <td>45.71</td>\n",
       "      <td>2.572</td>\n",
       "      <td>214.424881</td>\n",
       "      <td>7.368</td>\n",
       "    </tr>\n",
       "    <tr>\n",
       "      <th>44</th>\n",
       "      <td>1.0</td>\n",
       "      <td>2010-02-12</td>\n",
       "      <td>1641957.44</td>\n",
       "      <td>1.0</td>\n",
       "      <td>38.51</td>\n",
       "      <td>2.548</td>\n",
       "      <td>211.242170</td>\n",
       "      <td>8.106</td>\n",
       "    </tr>\n",
       "    <tr>\n",
       "      <th>107</th>\n",
       "      <td>8.0</td>\n",
       "      <td>2010-02-12</td>\n",
       "      <td>994801.40</td>\n",
       "      <td>1.0</td>\n",
       "      <td>33.34</td>\n",
       "      <td>2.548</td>\n",
       "      <td>214.621419</td>\n",
       "      <td>6.299</td>\n",
       "    </tr>\n",
       "    <tr>\n",
       "      <th>115</th>\n",
       "      <td>15.0</td>\n",
       "      <td>2010-02-19</td>\n",
       "      <td>660838.75</td>\n",
       "      <td>0.0</td>\n",
       "      <td>NaN</td>\n",
       "      <td>2.909</td>\n",
       "      <td>131.637000</td>\n",
       "      <td>NaN</td>\n",
       "    </tr>\n",
       "    <tr>\n",
       "      <th>112</th>\n",
       "      <td>2.0</td>\n",
       "      <td>2010-02-19</td>\n",
       "      <td>2124451.54</td>\n",
       "      <td>0.0</td>\n",
       "      <td>39.69</td>\n",
       "      <td>2.514</td>\n",
       "      <td>210.945160</td>\n",
       "      <td>NaN</td>\n",
       "    </tr>\n",
       "    <tr>\n",
       "      <th>106</th>\n",
       "      <td>14.0</td>\n",
       "      <td>2010-02-26</td>\n",
       "      <td>2095591.63</td>\n",
       "      <td>0.0</td>\n",
       "      <td>34.89</td>\n",
       "      <td>NaN</td>\n",
       "      <td>216.741000</td>\n",
       "      <td>8.992</td>\n",
       "    </tr>\n",
       "    <tr>\n",
       "      <th>96</th>\n",
       "      <td>8.0</td>\n",
       "      <td>2010-03-12</td>\n",
       "      <td>860336.16</td>\n",
       "      <td>0.0</td>\n",
       "      <td>49.76</td>\n",
       "      <td>NaN</td>\n",
       "      <td>214.749245</td>\n",
       "      <td>6.299</td>\n",
       "    </tr>\n",
       "    <tr>\n",
       "      <th>23</th>\n",
       "      <td>19.0</td>\n",
       "      <td>2010-03-26</td>\n",
       "      <td>1427023.45</td>\n",
       "      <td>0.0</td>\n",
       "      <td>39.07</td>\n",
       "      <td>2.963</td>\n",
       "      <td>131.863129</td>\n",
       "      <td>8.350</td>\n",
       "    </tr>\n",
       "    <tr>\n",
       "      <th>20</th>\n",
       "      <td>7.0</td>\n",
       "      <td>2010-04-02</td>\n",
       "      <td>561145.14</td>\n",
       "      <td>0.0</td>\n",
       "      <td>38.26</td>\n",
       "      <td>2.725</td>\n",
       "      <td>189.704822</td>\n",
       "      <td>8.963</td>\n",
       "    </tr>\n",
       "    <tr>\n",
       "      <th>28</th>\n",
       "      <td>17.0</td>\n",
       "      <td>2010-04-16</td>\n",
       "      <td>757738.76</td>\n",
       "      <td>0.0</td>\n",
       "      <td>45.22</td>\n",
       "      <td>2.915</td>\n",
       "      <td>126.562100</td>\n",
       "      <td>6.635</td>\n",
       "    </tr>\n",
       "    <tr>\n",
       "      <th>15</th>\n",
       "      <td>6.0</td>\n",
       "      <td>2010-04-30</td>\n",
       "      <td>1498080.16</td>\n",
       "      <td>NaN</td>\n",
       "      <td>68.91</td>\n",
       "      <td>2.780</td>\n",
       "      <td>211.894272</td>\n",
       "      <td>7.092</td>\n",
       "    </tr>\n",
       "    <tr>\n",
       "      <th>97</th>\n",
       "      <td>5.0</td>\n",
       "      <td>2010-04-30</td>\n",
       "      <td>298697.84</td>\n",
       "      <td>0.0</td>\n",
       "      <td>67.53</td>\n",
       "      <td>NaN</td>\n",
       "      <td>210.939388</td>\n",
       "      <td>NaN</td>\n",
       "    </tr>\n",
       "  </tbody>\n",
       "</table>\n",
       "</div>"
      ],
      "text/plain": [
       "     Store       Date  Weekly_Sales  Holiday_Flag  Temperature  Fuel_Price  \\\n",
       "67     3.0 2010-02-05     461622.22           0.0        45.71       2.572   \n",
       "44     1.0 2010-02-12    1641957.44           1.0        38.51       2.548   \n",
       "107    8.0 2010-02-12     994801.40           1.0        33.34       2.548   \n",
       "115   15.0 2010-02-19     660838.75           0.0          NaN       2.909   \n",
       "112    2.0 2010-02-19    2124451.54           0.0        39.69       2.514   \n",
       "106   14.0 2010-02-26    2095591.63           0.0        34.89         NaN   \n",
       "96     8.0 2010-03-12     860336.16           0.0        49.76         NaN   \n",
       "23    19.0 2010-03-26    1427023.45           0.0        39.07       2.963   \n",
       "20     7.0 2010-04-02     561145.14           0.0        38.26       2.725   \n",
       "28    17.0 2010-04-16     757738.76           0.0        45.22       2.915   \n",
       "15     6.0 2010-04-30    1498080.16           NaN        68.91       2.780   \n",
       "97     5.0 2010-04-30     298697.84           0.0        67.53         NaN   \n",
       "\n",
       "            CPI  Unemployment  \n",
       "67   214.424881         7.368  \n",
       "44   211.242170         8.106  \n",
       "107  214.621419         6.299  \n",
       "115  131.637000           NaN  \n",
       "112  210.945160           NaN  \n",
       "106  216.741000         8.992  \n",
       "96   214.749245         6.299  \n",
       "23   131.863129         8.350  \n",
       "20   189.704822         8.963  \n",
       "28   126.562100         6.635  \n",
       "15   211.894272         7.092  \n",
       "97   210.939388           NaN  "
      ]
     },
     "execution_count": 42,
     "metadata": {},
     "output_type": "execute_result"
    }
   ],
   "source": [
    "# as required for the exercice, we drop all values that exceeds - or + 3x standrad deviation\n",
    "\n",
    "mean_temp = df['Temperature'].mean()\n",
    "std_temp = df['Temperature'].std()\n",
    "\n",
    "mean_fuel = df['Fuel_Price'].mean()\n",
    "std_fuel = df['Fuel_Price'].std()\n",
    "\n",
    "mean_un = df['Unemployment'].mean()\n",
    "std_un = df['Unemployment'].std()\n",
    "\n",
    "mean_cpi = df['CPI'].mean()\n",
    "std_cpi = df['CPI'].std()\n",
    "\n",
    "# Filtering outliers for each column (generic template)\n",
    "outliers_temp = (df['Temperature'] < (mean_temp - 3 * std_temp)) | (df['Temperature'] > (mean_temp + 3 * std_temp))\n",
    "outliers_fuel = (df['Fuel_Price'] < (mean_fuel - 3 * std_fuel)) | (df['Fuel_Price'] > (mean_fuel + 3 * std_fuel))\n",
    "outliers_un = (df['Unemployment'] < (mean_un - 3 * std_un)) | (df['Unemployment'] > (mean_un + 3 * std_un))\n",
    "outliers_cpi = (df['CPI'] < (mean_cpi - 3 * std_cpi)) | (df['CPI'] > (mean_cpi + 3 * std_cpi))\n",
    "\n",
    "outliers_combined = outliers_temp | outliers_fuel | outliers_un | outliers_cpi\n",
    "\n",
    "# New dataframe without outliers\n",
    "df= df[~outliers_combined]\n",
    "df.head(12)"
   ]
  },
  {
   "cell_type": "code",
   "execution_count": 43,
   "metadata": {},
   "outputs": [
    {
     "data": {
      "text/html": [
       "<div>\n",
       "<style scoped>\n",
       "    .dataframe tbody tr th:only-of-type {\n",
       "        vertical-align: middle;\n",
       "    }\n",
       "\n",
       "    .dataframe tbody tr th {\n",
       "        vertical-align: top;\n",
       "    }\n",
       "\n",
       "    .dataframe thead th {\n",
       "        text-align: right;\n",
       "    }\n",
       "</style>\n",
       "<table border=\"1\" class=\"dataframe\">\n",
       "  <thead>\n",
       "    <tr style=\"text-align: right;\">\n",
       "      <th></th>\n",
       "      <th>Store</th>\n",
       "      <th>Date</th>\n",
       "      <th>Weekly_Sales</th>\n",
       "      <th>Holiday_Flag</th>\n",
       "      <th>Temperature</th>\n",
       "      <th>Fuel_Price</th>\n",
       "      <th>CPI</th>\n",
       "      <th>Unemployment</th>\n",
       "    </tr>\n",
       "  </thead>\n",
       "  <tbody>\n",
       "    <tr>\n",
       "      <th>67</th>\n",
       "      <td>3.0</td>\n",
       "      <td>2010-02-05</td>\n",
       "      <td>461622.22</td>\n",
       "      <td>0.0</td>\n",
       "      <td>45.710000</td>\n",
       "      <td>2.572000</td>\n",
       "      <td>214.424881</td>\n",
       "      <td>7.36800</td>\n",
       "    </tr>\n",
       "    <tr>\n",
       "      <th>44</th>\n",
       "      <td>1.0</td>\n",
       "      <td>2010-02-12</td>\n",
       "      <td>1641957.44</td>\n",
       "      <td>1.0</td>\n",
       "      <td>38.510000</td>\n",
       "      <td>2.548000</td>\n",
       "      <td>211.242170</td>\n",
       "      <td>8.10600</td>\n",
       "    </tr>\n",
       "    <tr>\n",
       "      <th>107</th>\n",
       "      <td>8.0</td>\n",
       "      <td>2010-02-12</td>\n",
       "      <td>994801.40</td>\n",
       "      <td>1.0</td>\n",
       "      <td>33.340000</td>\n",
       "      <td>2.548000</td>\n",
       "      <td>214.621419</td>\n",
       "      <td>6.29900</td>\n",
       "    </tr>\n",
       "    <tr>\n",
       "      <th>115</th>\n",
       "      <td>15.0</td>\n",
       "      <td>2010-02-19</td>\n",
       "      <td>660838.75</td>\n",
       "      <td>0.0</td>\n",
       "      <td>61.398106</td>\n",
       "      <td>2.909000</td>\n",
       "      <td>131.637000</td>\n",
       "      <td>7.59843</td>\n",
       "    </tr>\n",
       "    <tr>\n",
       "      <th>112</th>\n",
       "      <td>2.0</td>\n",
       "      <td>2010-02-19</td>\n",
       "      <td>2124451.54</td>\n",
       "      <td>0.0</td>\n",
       "      <td>39.690000</td>\n",
       "      <td>2.514000</td>\n",
       "      <td>210.945160</td>\n",
       "      <td>7.59843</td>\n",
       "    </tr>\n",
       "    <tr>\n",
       "      <th>106</th>\n",
       "      <td>14.0</td>\n",
       "      <td>2010-02-26</td>\n",
       "      <td>2095591.63</td>\n",
       "      <td>0.0</td>\n",
       "      <td>34.890000</td>\n",
       "      <td>3.320853</td>\n",
       "      <td>216.741000</td>\n",
       "      <td>8.99200</td>\n",
       "    </tr>\n",
       "    <tr>\n",
       "      <th>96</th>\n",
       "      <td>8.0</td>\n",
       "      <td>2010-03-12</td>\n",
       "      <td>860336.16</td>\n",
       "      <td>0.0</td>\n",
       "      <td>49.760000</td>\n",
       "      <td>3.320853</td>\n",
       "      <td>214.749245</td>\n",
       "      <td>6.29900</td>\n",
       "    </tr>\n",
       "    <tr>\n",
       "      <th>23</th>\n",
       "      <td>19.0</td>\n",
       "      <td>2010-03-26</td>\n",
       "      <td>1427023.45</td>\n",
       "      <td>0.0</td>\n",
       "      <td>39.070000</td>\n",
       "      <td>2.963000</td>\n",
       "      <td>131.863129</td>\n",
       "      <td>8.35000</td>\n",
       "    </tr>\n",
       "    <tr>\n",
       "      <th>20</th>\n",
       "      <td>7.0</td>\n",
       "      <td>2010-04-02</td>\n",
       "      <td>561145.14</td>\n",
       "      <td>0.0</td>\n",
       "      <td>38.260000</td>\n",
       "      <td>2.725000</td>\n",
       "      <td>189.704822</td>\n",
       "      <td>8.96300</td>\n",
       "    </tr>\n",
       "    <tr>\n",
       "      <th>28</th>\n",
       "      <td>17.0</td>\n",
       "      <td>2010-04-16</td>\n",
       "      <td>757738.76</td>\n",
       "      <td>0.0</td>\n",
       "      <td>45.220000</td>\n",
       "      <td>2.915000</td>\n",
       "      <td>126.562100</td>\n",
       "      <td>6.63500</td>\n",
       "    </tr>\n",
       "  </tbody>\n",
       "</table>\n",
       "</div>"
      ],
      "text/plain": [
       "     Store       Date  Weekly_Sales  Holiday_Flag  Temperature  Fuel_Price  \\\n",
       "67     3.0 2010-02-05     461622.22           0.0    45.710000    2.572000   \n",
       "44     1.0 2010-02-12    1641957.44           1.0    38.510000    2.548000   \n",
       "107    8.0 2010-02-12     994801.40           1.0    33.340000    2.548000   \n",
       "115   15.0 2010-02-19     660838.75           0.0    61.398106    2.909000   \n",
       "112    2.0 2010-02-19    2124451.54           0.0    39.690000    2.514000   \n",
       "106   14.0 2010-02-26    2095591.63           0.0    34.890000    3.320853   \n",
       "96     8.0 2010-03-12     860336.16           0.0    49.760000    3.320853   \n",
       "23    19.0 2010-03-26    1427023.45           0.0    39.070000    2.963000   \n",
       "20     7.0 2010-04-02     561145.14           0.0    38.260000    2.725000   \n",
       "28    17.0 2010-04-16     757738.76           0.0    45.220000    2.915000   \n",
       "\n",
       "            CPI  Unemployment  \n",
       "67   214.424881       7.36800  \n",
       "44   211.242170       8.10600  \n",
       "107  214.621419       6.29900  \n",
       "115  131.637000       7.59843  \n",
       "112  210.945160       7.59843  \n",
       "106  216.741000       8.99200  \n",
       "96   214.749245       6.29900  \n",
       "23   131.863129       8.35000  \n",
       "20   189.704822       8.96300  \n",
       "28   126.562100       6.63500  "
      ]
     },
     "execution_count": 43,
     "metadata": {},
     "output_type": "execute_result"
    }
   ],
   "source": [
    "# replace Nan Temperature by mean, so for Fuel_Price and unemployement\n",
    "mean_temp = 61.398106\n",
    "mean_Fuel_Price = 3.320853\n",
    "mean_Un= 7.598430\n",
    "df['Temperature'] = df['Temperature'].fillna(mean_temp)\n",
    "df['Fuel_Price'] = df['Fuel_Price'].fillna(mean_Fuel_Price)\n",
    "df['Unemployment'] = df['Unemployment'].fillna(mean_Un)\n",
    "df.head(10)"
   ]
  },
  {
   "cell_type": "code",
   "execution_count": 44,
   "metadata": {},
   "outputs": [
    {
     "data": {
      "text/html": [
       "<div>\n",
       "<style scoped>\n",
       "    .dataframe tbody tr th:only-of-type {\n",
       "        vertical-align: middle;\n",
       "    }\n",
       "\n",
       "    .dataframe tbody tr th {\n",
       "        vertical-align: top;\n",
       "    }\n",
       "\n",
       "    .dataframe thead th {\n",
       "        text-align: right;\n",
       "    }\n",
       "</style>\n",
       "<table border=\"1\" class=\"dataframe\">\n",
       "  <thead>\n",
       "    <tr style=\"text-align: right;\">\n",
       "      <th></th>\n",
       "      <th>Store</th>\n",
       "      <th>Date</th>\n",
       "      <th>Weekly_Sales</th>\n",
       "      <th>Holiday_Flag</th>\n",
       "      <th>Temperature</th>\n",
       "      <th>Fuel_Price</th>\n",
       "      <th>CPI</th>\n",
       "      <th>Unemployment</th>\n",
       "      <th>Year</th>\n",
       "      <th>Month</th>\n",
       "      <th>Day</th>\n",
       "      <th>Day of week</th>\n",
       "    </tr>\n",
       "  </thead>\n",
       "  <tbody>\n",
       "    <tr>\n",
       "      <th>67</th>\n",
       "      <td>3.0</td>\n",
       "      <td>2010-02-05</td>\n",
       "      <td>461622.22</td>\n",
       "      <td>0.0</td>\n",
       "      <td>45.710000</td>\n",
       "      <td>2.572000</td>\n",
       "      <td>214.424881</td>\n",
       "      <td>7.36800</td>\n",
       "      <td>2010</td>\n",
       "      <td>2</td>\n",
       "      <td>5</td>\n",
       "      <td>4</td>\n",
       "    </tr>\n",
       "    <tr>\n",
       "      <th>44</th>\n",
       "      <td>1.0</td>\n",
       "      <td>2010-02-12</td>\n",
       "      <td>1641957.44</td>\n",
       "      <td>1.0</td>\n",
       "      <td>38.510000</td>\n",
       "      <td>2.548000</td>\n",
       "      <td>211.242170</td>\n",
       "      <td>8.10600</td>\n",
       "      <td>2010</td>\n",
       "      <td>2</td>\n",
       "      <td>12</td>\n",
       "      <td>4</td>\n",
       "    </tr>\n",
       "    <tr>\n",
       "      <th>107</th>\n",
       "      <td>8.0</td>\n",
       "      <td>2010-02-12</td>\n",
       "      <td>994801.40</td>\n",
       "      <td>1.0</td>\n",
       "      <td>33.340000</td>\n",
       "      <td>2.548000</td>\n",
       "      <td>214.621419</td>\n",
       "      <td>6.29900</td>\n",
       "      <td>2010</td>\n",
       "      <td>2</td>\n",
       "      <td>12</td>\n",
       "      <td>4</td>\n",
       "    </tr>\n",
       "    <tr>\n",
       "      <th>115</th>\n",
       "      <td>15.0</td>\n",
       "      <td>2010-02-19</td>\n",
       "      <td>660838.75</td>\n",
       "      <td>0.0</td>\n",
       "      <td>61.398106</td>\n",
       "      <td>2.909000</td>\n",
       "      <td>131.637000</td>\n",
       "      <td>7.59843</td>\n",
       "      <td>2010</td>\n",
       "      <td>2</td>\n",
       "      <td>19</td>\n",
       "      <td>4</td>\n",
       "    </tr>\n",
       "    <tr>\n",
       "      <th>112</th>\n",
       "      <td>2.0</td>\n",
       "      <td>2010-02-19</td>\n",
       "      <td>2124451.54</td>\n",
       "      <td>0.0</td>\n",
       "      <td>39.690000</td>\n",
       "      <td>2.514000</td>\n",
       "      <td>210.945160</td>\n",
       "      <td>7.59843</td>\n",
       "      <td>2010</td>\n",
       "      <td>2</td>\n",
       "      <td>19</td>\n",
       "      <td>4</td>\n",
       "    </tr>\n",
       "    <tr>\n",
       "      <th>106</th>\n",
       "      <td>14.0</td>\n",
       "      <td>2010-02-26</td>\n",
       "      <td>2095591.63</td>\n",
       "      <td>0.0</td>\n",
       "      <td>34.890000</td>\n",
       "      <td>3.320853</td>\n",
       "      <td>216.741000</td>\n",
       "      <td>8.99200</td>\n",
       "      <td>2010</td>\n",
       "      <td>2</td>\n",
       "      <td>26</td>\n",
       "      <td>4</td>\n",
       "    </tr>\n",
       "    <tr>\n",
       "      <th>96</th>\n",
       "      <td>8.0</td>\n",
       "      <td>2010-03-12</td>\n",
       "      <td>860336.16</td>\n",
       "      <td>0.0</td>\n",
       "      <td>49.760000</td>\n",
       "      <td>3.320853</td>\n",
       "      <td>214.749245</td>\n",
       "      <td>6.29900</td>\n",
       "      <td>2010</td>\n",
       "      <td>3</td>\n",
       "      <td>12</td>\n",
       "      <td>4</td>\n",
       "    </tr>\n",
       "    <tr>\n",
       "      <th>23</th>\n",
       "      <td>19.0</td>\n",
       "      <td>2010-03-26</td>\n",
       "      <td>1427023.45</td>\n",
       "      <td>0.0</td>\n",
       "      <td>39.070000</td>\n",
       "      <td>2.963000</td>\n",
       "      <td>131.863129</td>\n",
       "      <td>8.35000</td>\n",
       "      <td>2010</td>\n",
       "      <td>3</td>\n",
       "      <td>26</td>\n",
       "      <td>4</td>\n",
       "    </tr>\n",
       "    <tr>\n",
       "      <th>20</th>\n",
       "      <td>7.0</td>\n",
       "      <td>2010-04-02</td>\n",
       "      <td>561145.14</td>\n",
       "      <td>0.0</td>\n",
       "      <td>38.260000</td>\n",
       "      <td>2.725000</td>\n",
       "      <td>189.704822</td>\n",
       "      <td>8.96300</td>\n",
       "      <td>2010</td>\n",
       "      <td>4</td>\n",
       "      <td>2</td>\n",
       "      <td>4</td>\n",
       "    </tr>\n",
       "    <tr>\n",
       "      <th>28</th>\n",
       "      <td>17.0</td>\n",
       "      <td>2010-04-16</td>\n",
       "      <td>757738.76</td>\n",
       "      <td>0.0</td>\n",
       "      <td>45.220000</td>\n",
       "      <td>2.915000</td>\n",
       "      <td>126.562100</td>\n",
       "      <td>6.63500</td>\n",
       "      <td>2010</td>\n",
       "      <td>4</td>\n",
       "      <td>16</td>\n",
       "      <td>4</td>\n",
       "    </tr>\n",
       "  </tbody>\n",
       "</table>\n",
       "</div>"
      ],
      "text/plain": [
       "     Store       Date  Weekly_Sales  Holiday_Flag  Temperature  Fuel_Price  \\\n",
       "67     3.0 2010-02-05     461622.22           0.0    45.710000    2.572000   \n",
       "44     1.0 2010-02-12    1641957.44           1.0    38.510000    2.548000   \n",
       "107    8.0 2010-02-12     994801.40           1.0    33.340000    2.548000   \n",
       "115   15.0 2010-02-19     660838.75           0.0    61.398106    2.909000   \n",
       "112    2.0 2010-02-19    2124451.54           0.0    39.690000    2.514000   \n",
       "106   14.0 2010-02-26    2095591.63           0.0    34.890000    3.320853   \n",
       "96     8.0 2010-03-12     860336.16           0.0    49.760000    3.320853   \n",
       "23    19.0 2010-03-26    1427023.45           0.0    39.070000    2.963000   \n",
       "20     7.0 2010-04-02     561145.14           0.0    38.260000    2.725000   \n",
       "28    17.0 2010-04-16     757738.76           0.0    45.220000    2.915000   \n",
       "\n",
       "            CPI  Unemployment  Year  Month  Day  Day of week  \n",
       "67   214.424881       7.36800  2010      2    5            4  \n",
       "44   211.242170       8.10600  2010      2   12            4  \n",
       "107  214.621419       6.29900  2010      2   12            4  \n",
       "115  131.637000       7.59843  2010      2   19            4  \n",
       "112  210.945160       7.59843  2010      2   19            4  \n",
       "106  216.741000       8.99200  2010      2   26            4  \n",
       "96   214.749245       6.29900  2010      3   12            4  \n",
       "23   131.863129       8.35000  2010      3   26            4  \n",
       "20   189.704822       8.96300  2010      4    2            4  \n",
       "28   126.562100       6.63500  2010      4   16            4  "
      ]
     },
     "execution_count": 44,
     "metadata": {},
     "output_type": "execute_result"
    }
   ],
   "source": [
    "df['Year']=df['Date'].dt.year\n",
    "df['Month']=df['Date'].dt.month\n",
    "df['Day']=df['Date'].dt.day\n",
    "df['Day of week']=df['Date'].dt.day_of_week # avec lundi=0 et dimanche=6\n",
    "df.head(10)\n"
   ]
  },
  {
   "cell_type": "code",
   "execution_count": 45,
   "metadata": {},
   "outputs": [
    {
     "data": {
      "text/html": [
       "<div>\n",
       "<style scoped>\n",
       "    .dataframe tbody tr th:only-of-type {\n",
       "        vertical-align: middle;\n",
       "    }\n",
       "\n",
       "    .dataframe tbody tr th {\n",
       "        vertical-align: top;\n",
       "    }\n",
       "\n",
       "    .dataframe thead th {\n",
       "        text-align: right;\n",
       "    }\n",
       "</style>\n",
       "<table border=\"1\" class=\"dataframe\">\n",
       "  <thead>\n",
       "    <tr style=\"text-align: right;\">\n",
       "      <th></th>\n",
       "      <th>Store</th>\n",
       "      <th>Weekly_Sales</th>\n",
       "      <th>Holiday_Flag</th>\n",
       "      <th>Temperature</th>\n",
       "      <th>Fuel_Price</th>\n",
       "      <th>CPI</th>\n",
       "      <th>Unemployment</th>\n",
       "      <th>Year</th>\n",
       "      <th>Month</th>\n",
       "      <th>Day</th>\n",
       "      <th>Day of week</th>\n",
       "    </tr>\n",
       "  </thead>\n",
       "  <tbody>\n",
       "    <tr>\n",
       "      <th>67</th>\n",
       "      <td>3.0</td>\n",
       "      <td>461622.22</td>\n",
       "      <td>0.0</td>\n",
       "      <td>45.710000</td>\n",
       "      <td>2.572000</td>\n",
       "      <td>214.424881</td>\n",
       "      <td>7.36800</td>\n",
       "      <td>2010</td>\n",
       "      <td>2</td>\n",
       "      <td>5</td>\n",
       "      <td>4</td>\n",
       "    </tr>\n",
       "    <tr>\n",
       "      <th>44</th>\n",
       "      <td>1.0</td>\n",
       "      <td>1641957.44</td>\n",
       "      <td>1.0</td>\n",
       "      <td>38.510000</td>\n",
       "      <td>2.548000</td>\n",
       "      <td>211.242170</td>\n",
       "      <td>8.10600</td>\n",
       "      <td>2010</td>\n",
       "      <td>2</td>\n",
       "      <td>12</td>\n",
       "      <td>4</td>\n",
       "    </tr>\n",
       "    <tr>\n",
       "      <th>107</th>\n",
       "      <td>8.0</td>\n",
       "      <td>994801.40</td>\n",
       "      <td>1.0</td>\n",
       "      <td>33.340000</td>\n",
       "      <td>2.548000</td>\n",
       "      <td>214.621419</td>\n",
       "      <td>6.29900</td>\n",
       "      <td>2010</td>\n",
       "      <td>2</td>\n",
       "      <td>12</td>\n",
       "      <td>4</td>\n",
       "    </tr>\n",
       "    <tr>\n",
       "      <th>115</th>\n",
       "      <td>15.0</td>\n",
       "      <td>660838.75</td>\n",
       "      <td>0.0</td>\n",
       "      <td>61.398106</td>\n",
       "      <td>2.909000</td>\n",
       "      <td>131.637000</td>\n",
       "      <td>7.59843</td>\n",
       "      <td>2010</td>\n",
       "      <td>2</td>\n",
       "      <td>19</td>\n",
       "      <td>4</td>\n",
       "    </tr>\n",
       "    <tr>\n",
       "      <th>112</th>\n",
       "      <td>2.0</td>\n",
       "      <td>2124451.54</td>\n",
       "      <td>0.0</td>\n",
       "      <td>39.690000</td>\n",
       "      <td>2.514000</td>\n",
       "      <td>210.945160</td>\n",
       "      <td>7.59843</td>\n",
       "      <td>2010</td>\n",
       "      <td>2</td>\n",
       "      <td>19</td>\n",
       "      <td>4</td>\n",
       "    </tr>\n",
       "    <tr>\n",
       "      <th>106</th>\n",
       "      <td>14.0</td>\n",
       "      <td>2095591.63</td>\n",
       "      <td>0.0</td>\n",
       "      <td>34.890000</td>\n",
       "      <td>3.320853</td>\n",
       "      <td>216.741000</td>\n",
       "      <td>8.99200</td>\n",
       "      <td>2010</td>\n",
       "      <td>2</td>\n",
       "      <td>26</td>\n",
       "      <td>4</td>\n",
       "    </tr>\n",
       "    <tr>\n",
       "      <th>96</th>\n",
       "      <td>8.0</td>\n",
       "      <td>860336.16</td>\n",
       "      <td>0.0</td>\n",
       "      <td>49.760000</td>\n",
       "      <td>3.320853</td>\n",
       "      <td>214.749245</td>\n",
       "      <td>6.29900</td>\n",
       "      <td>2010</td>\n",
       "      <td>3</td>\n",
       "      <td>12</td>\n",
       "      <td>4</td>\n",
       "    </tr>\n",
       "    <tr>\n",
       "      <th>23</th>\n",
       "      <td>19.0</td>\n",
       "      <td>1427023.45</td>\n",
       "      <td>0.0</td>\n",
       "      <td>39.070000</td>\n",
       "      <td>2.963000</td>\n",
       "      <td>131.863129</td>\n",
       "      <td>8.35000</td>\n",
       "      <td>2010</td>\n",
       "      <td>3</td>\n",
       "      <td>26</td>\n",
       "      <td>4</td>\n",
       "    </tr>\n",
       "    <tr>\n",
       "      <th>20</th>\n",
       "      <td>7.0</td>\n",
       "      <td>561145.14</td>\n",
       "      <td>0.0</td>\n",
       "      <td>38.260000</td>\n",
       "      <td>2.725000</td>\n",
       "      <td>189.704822</td>\n",
       "      <td>8.96300</td>\n",
       "      <td>2010</td>\n",
       "      <td>4</td>\n",
       "      <td>2</td>\n",
       "      <td>4</td>\n",
       "    </tr>\n",
       "    <tr>\n",
       "      <th>28</th>\n",
       "      <td>17.0</td>\n",
       "      <td>757738.76</td>\n",
       "      <td>0.0</td>\n",
       "      <td>45.220000</td>\n",
       "      <td>2.915000</td>\n",
       "      <td>126.562100</td>\n",
       "      <td>6.63500</td>\n",
       "      <td>2010</td>\n",
       "      <td>4</td>\n",
       "      <td>16</td>\n",
       "      <td>4</td>\n",
       "    </tr>\n",
       "  </tbody>\n",
       "</table>\n",
       "</div>"
      ],
      "text/plain": [
       "     Store  Weekly_Sales  Holiday_Flag  Temperature  Fuel_Price         CPI  \\\n",
       "67     3.0     461622.22           0.0    45.710000    2.572000  214.424881   \n",
       "44     1.0    1641957.44           1.0    38.510000    2.548000  211.242170   \n",
       "107    8.0     994801.40           1.0    33.340000    2.548000  214.621419   \n",
       "115   15.0     660838.75           0.0    61.398106    2.909000  131.637000   \n",
       "112    2.0    2124451.54           0.0    39.690000    2.514000  210.945160   \n",
       "106   14.0    2095591.63           0.0    34.890000    3.320853  216.741000   \n",
       "96     8.0     860336.16           0.0    49.760000    3.320853  214.749245   \n",
       "23    19.0    1427023.45           0.0    39.070000    2.963000  131.863129   \n",
       "20     7.0     561145.14           0.0    38.260000    2.725000  189.704822   \n",
       "28    17.0     757738.76           0.0    45.220000    2.915000  126.562100   \n",
       "\n",
       "     Unemployment  Year  Month  Day  Day of week  \n",
       "67        7.36800  2010      2    5            4  \n",
       "44        8.10600  2010      2   12            4  \n",
       "107       6.29900  2010      2   12            4  \n",
       "115       7.59843  2010      2   19            4  \n",
       "112       7.59843  2010      2   19            4  \n",
       "106       8.99200  2010      2   26            4  \n",
       "96        6.29900  2010      3   12            4  \n",
       "23        8.35000  2010      3   26            4  \n",
       "20        8.96300  2010      4    2            4  \n",
       "28        6.63500  2010      4   16            4  "
      ]
     },
     "execution_count": 45,
     "metadata": {},
     "output_type": "execute_result"
    }
   ],
   "source": [
    "df=df.drop('Date', axis=1)\n",
    "df.head(10)"
   ]
  },
  {
   "cell_type": "code",
   "execution_count": 46,
   "metadata": {},
   "outputs": [
    {
     "data": {
      "image/png": "[encoded data removed]",
      "text/plain": [
       "<Figure size 1200x800 with 2 Axes>"
      ]
     },
     "metadata": {},
     "output_type": "display_data"
    }
   ],
   "source": [
    "# are there some features corelated ?\n",
    "\n",
    "correlation_matrix = df.corr()\n",
    "\n",
    "plt.figure(figsize=(12, 8))\n",
    "sns.heatmap(correlation_matrix, annot=True, fmt=\".2f\", cmap='coolwarm')\n",
    "plt.show()"
   ]
  },
  {
   "cell_type": "code",
   "execution_count": 47,
   "metadata": {},
   "outputs": [
    {
     "data": {
      "text/html": [
       "<div>\n",
       "<style scoped>\n",
       "    .dataframe tbody tr th:only-of-type {\n",
       "        vertical-align: middle;\n",
       "    }\n",
       "\n",
       "    .dataframe tbody tr th {\n",
       "        vertical-align: top;\n",
       "    }\n",
       "\n",
       "    .dataframe thead th {\n",
       "        text-align: right;\n",
       "    }\n",
       "</style>\n",
       "<table border=\"1\" class=\"dataframe\">\n",
       "  <thead>\n",
       "    <tr style=\"text-align: right;\">\n",
       "      <th></th>\n",
       "      <th>Store</th>\n",
       "      <th>Weekly_Sales</th>\n",
       "      <th>Holiday_Flag</th>\n",
       "      <th>Temperature</th>\n",
       "      <th>CPI</th>\n",
       "      <th>Unemployment</th>\n",
       "      <th>Year</th>\n",
       "      <th>Month</th>\n",
       "      <th>Day</th>\n",
       "      <th>Day of week</th>\n",
       "    </tr>\n",
       "  </thead>\n",
       "  <tbody>\n",
       "    <tr>\n",
       "      <th>67</th>\n",
       "      <td>3.0</td>\n",
       "      <td>461622.22</td>\n",
       "      <td>0.0</td>\n",
       "      <td>45.710000</td>\n",
       "      <td>214.424881</td>\n",
       "      <td>7.36800</td>\n",
       "      <td>2010</td>\n",
       "      <td>2</td>\n",
       "      <td>5</td>\n",
       "      <td>4</td>\n",
       "    </tr>\n",
       "    <tr>\n",
       "      <th>44</th>\n",
       "      <td>1.0</td>\n",
       "      <td>1641957.44</td>\n",
       "      <td>1.0</td>\n",
       "      <td>38.510000</td>\n",
       "      <td>211.242170</td>\n",
       "      <td>8.10600</td>\n",
       "      <td>2010</td>\n",
       "      <td>2</td>\n",
       "      <td>12</td>\n",
       "      <td>4</td>\n",
       "    </tr>\n",
       "    <tr>\n",
       "      <th>107</th>\n",
       "      <td>8.0</td>\n",
       "      <td>994801.40</td>\n",
       "      <td>1.0</td>\n",
       "      <td>33.340000</td>\n",
       "      <td>214.621419</td>\n",
       "      <td>6.29900</td>\n",
       "      <td>2010</td>\n",
       "      <td>2</td>\n",
       "      <td>12</td>\n",
       "      <td>4</td>\n",
       "    </tr>\n",
       "    <tr>\n",
       "      <th>115</th>\n",
       "      <td>15.0</td>\n",
       "      <td>660838.75</td>\n",
       "      <td>0.0</td>\n",
       "      <td>61.398106</td>\n",
       "      <td>131.637000</td>\n",
       "      <td>7.59843</td>\n",
       "      <td>2010</td>\n",
       "      <td>2</td>\n",
       "      <td>19</td>\n",
       "      <td>4</td>\n",
       "    </tr>\n",
       "    <tr>\n",
       "      <th>112</th>\n",
       "      <td>2.0</td>\n",
       "      <td>2124451.54</td>\n",
       "      <td>0.0</td>\n",
       "      <td>39.690000</td>\n",
       "      <td>210.945160</td>\n",
       "      <td>7.59843</td>\n",
       "      <td>2010</td>\n",
       "      <td>2</td>\n",
       "      <td>19</td>\n",
       "      <td>4</td>\n",
       "    </tr>\n",
       "  </tbody>\n",
       "</table>\n",
       "</div>"
      ],
      "text/plain": [
       "     Store  Weekly_Sales  Holiday_Flag  Temperature         CPI  Unemployment  \\\n",
       "67     3.0     461622.22           0.0    45.710000  214.424881       7.36800   \n",
       "44     1.0    1641957.44           1.0    38.510000  211.242170       8.10600   \n",
       "107    8.0     994801.40           1.0    33.340000  214.621419       6.29900   \n",
       "115   15.0     660838.75           0.0    61.398106  131.637000       7.59843   \n",
       "112    2.0    2124451.54           0.0    39.690000  210.945160       7.59843   \n",
       "\n",
       "     Year  Month  Day  Day of week  \n",
       "67   2010      2    5            4  \n",
       "44   2010      2   12            4  \n",
       "107  2010      2   12            4  \n",
       "115  2010      2   19            4  \n",
       "112  2010      2   19            4  "
      ]
     },
     "execution_count": 47,
     "metadata": {},
     "output_type": "execute_result"
    }
   ],
   "source": [
    "# 'Fuel_Price' matches with 'Year'. In first intention we could remove one : drop 'Fuel_Price'\n",
    "# Then in a second approach, both could be kept and we could adjust during Regularization\n",
    "\n",
    "df=df.drop(['Fuel_Price'], axis=1)\n",
    "df.head()"
   ]
  },
  {
   "cell_type": "markdown",
   "metadata": {},
   "source": [
    "        ************************************************************************************************"
   ]
  },
  {
   "cell_type": "markdown",
   "metadata": {},
   "source": [
    "        -------------- PART III : TRAINING A MODEL = USING LINEAR REGRESSION ------------------"
   ]
  },
  {
   "cell_type": "markdown",
   "metadata": {},
   "source": [
    "        *************************************************************************************************"
   ]
  },
  {
   "cell_type": "code",
   "execution_count": 48,
   "metadata": {},
   "outputs": [],
   "source": [
    "# Using scikitlearn library from Python\n",
    "from sklearn.model_selection import train_test_split\n",
    "\n",
    "from sklearn.pipeline import Pipeline\n",
    "from sklearn.impute import SimpleImputer\n",
    "from sklearn.preprocessing import  OneHotEncoder, StandardScaler\n",
    "from sklearn.compose import ColumnTransformer\n",
    "\n",
    "from sklearn.linear_model import LinearRegression\n",
    "from sklearn.metrics import accuracy_score\n",
    "\n",
    "import warnings\n",
    "warnings.filterwarnings(\"ignore\", category=DeprecationWarning)"
   ]
  },
  {
   "cell_type": "code",
   "execution_count": 49,
   "metadata": {},
   "outputs": [
    {
     "name": "stdout",
     "output_type": "stream",
     "text": [
      "Separating labels from features...\n",
      "...Done.\n",
      "67      461622.22\n",
      "44     1641957.44\n",
      "107     994801.40\n",
      "115     660838.75\n",
      "112    2124451.54\n",
      "Name: Weekly_Sales, dtype: float64\n",
      "\n",
      "     Store  Holiday_Flag  Temperature         CPI  Unemployment  Year  Month  \\\n",
      "67     3.0           0.0    45.710000  214.424881       7.36800  2010      2   \n",
      "44     1.0           1.0    38.510000  211.242170       8.10600  2010      2   \n",
      "107    8.0           1.0    33.340000  214.621419       6.29900  2010      2   \n",
      "115   15.0           0.0    61.398106  131.637000       7.59843  2010      2   \n",
      "112    2.0           0.0    39.690000  210.945160       7.59843  2010      2   \n",
      "\n",
      "     Day  Day of week  \n",
      "67     5            4  \n",
      "44    12            4  \n",
      "107   12            4  \n",
      "115   19            4  \n",
      "112   19            4  \n",
      "\n"
     ]
    }
   ],
   "source": [
    "# Separate target variable Y from features X\n",
    "\n",
    "print(\"Separating labels from features...\")\n",
    "Y = df['Weekly_Sales']\n",
    "X = df[['Store', 'Holiday_Flag', 'Temperature', 'CPI', 'Unemployment', 'Year',\n",
    "       'Month', 'Day', 'Day of week']] # All columns are kept, except the target\n",
    "print(\"...Done.\")\n",
    "print(Y.head())\n",
    "print()\n",
    "print(X.head())\n",
    "print()"
   ]
  },
  {
   "cell_type": "code",
   "execution_count": 50,
   "metadata": {},
   "outputs": [
    {
     "name": "stdout",
     "output_type": "stream",
     "text": [
      "Dividing into train and test sets...\n",
      "...Done.\n",
      "\n"
     ]
    }
   ],
   "source": [
    "# First : Divide our dataset into train set & test set, keeping 20% of dataset to test our model\n",
    "print(\"Dividing into train and test sets...\")\n",
    "X_train, X_test, Y_train, Y_test = train_test_split(X, Y, test_size=0.2, random_state=0)\n",
    "\n",
    "print(\"...Done.\")\n",
    "print()"
   ]
  },
  {
   "cell_type": "code",
   "execution_count": 51,
   "metadata": {},
   "outputs": [],
   "source": [
    "# Pipeline for numerical features\n",
    "numeric_features = ['Temperature', 'CPI', 'Unemployment', 'Year', 'Month', 'Day',\n",
    "                    'Day of week'] \n",
    "numeric_transformer = Pipeline(steps=[\n",
    "    ('imputer', SimpleImputer(strategy='median')), # missing values will be replaced by column's median. We could\n",
    "    # also use further another imputer such as KNNImputer.\n",
    "    ('scaler', StandardScaler())\n",
    "])"
   ]
  },
  {
   "cell_type": "code",
   "execution_count": 52,
   "metadata": {},
   "outputs": [],
   "source": [
    "# Pipeline for categorical features\n",
    "categorical_features = ['Store', 'Holiday_Flag']  \n",
    "categorical_transformer = Pipeline(\n",
    "    steps=[\n",
    "        ('imputer', SimpleImputer(strategy='most_frequent')),  # Replacing missing values by most frequent value\n",
    "        ('encoder', OneHotEncoder(drop='first', handle_unknown='ignore')) \n",
    "    ])"
   ]
  },
  {
   "cell_type": "code",
   "execution_count": 53,
   "metadata": {},
   "outputs": [],
   "source": [
    "# ColumnTransformer as a preprocessor object describing all treatments to be done\n",
    "preprocessor = ColumnTransformer(\n",
    "    transformers=[\n",
    "        ('num', numeric_transformer, numeric_features),\n",
    "        ('cat', categorical_transformer, categorical_features)\n",
    "    ])"
   ]
  },
  {
   "cell_type": "code",
   "execution_count": 54,
   "metadata": {},
   "outputs": [
    {
     "data": {
      "text/plain": [
       "pandas.core.frame.DataFrame"
      ]
     },
     "execution_count": 54,
     "metadata": {},
     "output_type": "execute_result"
    }
   ],
   "source": [
    "type(X_train)"
   ]
  },
  {
   "cell_type": "code",
   "execution_count": 55,
   "metadata": {},
   "outputs": [
    {
     "data": {
      "text/plain": [
       "pandas.core.series.Series"
      ]
     },
     "execution_count": 55,
     "metadata": {},
     "output_type": "execute_result"
    }
   ],
   "source": [
    "type(Y_train)"
   ]
  },
  {
   "cell_type": "code",
   "execution_count": 56,
   "metadata": {},
   "outputs": [
    {
     "data": {
      "text/plain": [
       "pandas.core.frame.DataFrame"
      ]
     },
     "execution_count": 56,
     "metadata": {},
     "output_type": "execute_result"
    }
   ],
   "source": [
    "type(X_test)"
   ]
  },
  {
   "cell_type": "code",
   "execution_count": 57,
   "metadata": {},
   "outputs": [
    {
     "data": {
      "text/plain": [
       "pandas.core.series.Series"
      ]
     },
     "execution_count": 57,
     "metadata": {},
     "output_type": "execute_result"
    }
   ],
   "source": [
    "type(Y_test)"
   ]
  },
  {
   "cell_type": "code",
   "execution_count": 58,
   "metadata": {},
   "outputs": [
    {
     "name": "stdout",
     "output_type": "stream",
     "text": [
      "Performing preprocessings on train set...\n",
      "...Done.\n",
      "[[ 0.60153753  0.73268698  0.17397997 -1.01223053  1.39253575  1.16828792\n",
      "   0.          0.          0.          0.          0.          0.\n",
      "   0.          0.          0.          1.          0.          0.\n",
      "   0.          0.          0.          0.          0.          0.\n",
      "   1.        ]\n",
      " [-1.31630915  0.05001833  1.66888011 -1.01223053 -0.76829558 -1.8075398\n",
      "   0.          0.          0.          0.          0.          0.\n",
      "   1.          0.          0.          0.          0.          0.\n",
      "   0.          0.          0.          0.          0.          0.\n",
      "   0.        ]\n",
      " [ 0.04448914  0.82714702 -1.17666605  0.23572492  1.39253575 -0.69160441\n",
      "   0.          0.          0.          0.          1.          0.\n",
      "   0.          0.          0.          0.          0.          0.\n",
      "   0.          0.          0.          0.          0.          0.\n",
      "   0.        ]\n",
      " [-0.59681357  1.01835335  0.04254844  0.23572492  1.70122594 -0.0716403\n",
      "   0.          1.          0.          0.          0.          0.\n",
      "   0.          0.          0.          0.          0.          0.\n",
      "   0.          0.          0.          0.          0.          0.\n",
      "   0.        ]\n",
      " [-0.97141195  0.13419216 -1.13499263  0.23572492 -0.45960539  0.42433099\n",
      "   0.          0.          0.          0.          0.          0.\n",
      "   0.          0.          0.          0.          0.          0.\n",
      "   0.          1.          0.          0.          0.          0.\n",
      "   0.        ]]\n",
      "\n",
      "Performing preprocessings on test set...\n",
      "...Done.\n",
      "[[ 1.6301677  -1.53802459 -0.24702836  1.48368037  0.15777499 -1.31156852\n",
      "   0.          0.          0.          0.          0.          0.\n",
      "   0.          0.          0.          0.          0.          0.\n",
      "   0.          0.          0.          0.          0.          0.\n",
      "   0.        ]\n",
      " [ 0.54152906  0.64741916 -0.33037519 -1.01223053 -0.76829558  1.66425921\n",
      "   0.          0.          0.          0.          0.          1.\n",
      "   0.          0.          0.          0.          0.          0.\n",
      "   0.          0.          0.          0.          0.          0.\n",
      "   0.        ]\n",
      " [ 1.14221998 -1.66134241  0.58750846 -1.01223053  0.15777499 -1.8075398\n",
      "   0.          0.          0.          0.          0.          0.\n",
      "   0.          0.          0.          0.          1.          0.\n",
      "   0.          0.          0.          0.          0.          0.\n",
      "   0.        ]\n",
      " [-1.26721131 -1.50723855  1.01385954 -1.01223053 -1.07698577  1.16828792\n",
      "   0.          0.          0.          0.          0.          0.\n",
      "   0.          0.          0.          0.          0.          0.\n",
      "   0.          0.          0.          0.          1.          0.\n",
      "   0.        ]\n",
      " [-0.91867722 -1.52755972 -2.00265447  1.48368037  1.08384556 -0.56761159\n",
      "   0.          0.          0.          0.          0.          0.\n",
      "   0.          0.          0.          0.          0.          0.\n",
      "   0.          0.          1.          0.          0.          0.\n",
      "   0.        ]]\n",
      "\n"
     ]
    },
    {
     "name": "stderr",
     "output_type": "stream",
     "text": [
      "c:\\Users\\taver\\anaconda3\\lib\\site-packages\\sklearn\\preprocessing\\_encoders.py:241: UserWarning: Found unknown categories in columns [0] during transform. These unknown categories will be encoded as all zeros\n",
      "  warnings.warn(\n"
     ]
    }
   ],
   "source": [
    "# Preprocessing on train set\n",
    "print(\"Performing preprocessings on train set...\")\n",
    "#print(X_train.head())\n",
    "X_train = preprocessor.fit_transform(X_train)\n",
    "print('...Done.')\n",
    "print(X_train[0:5]) # Use this syntax because X_train is a numpy array and not a pandas DataFrame anymore\n",
    "print()\n",
    "\n",
    "# Preprocessings on test set\n",
    "print(\"Performing preprocessings on test set...\")\n",
    "#print(X_test.head()) \n",
    "X_test = preprocessor.transform(X_test) # Don't fit again !! The test set is used for validating decisions\n",
    "# we made based on the training set, therefore we can only apply transformations that were parametered using the training set.\n",
    "# Otherwise this creates what is called a leak from the test set which will introduce a bias in all your results.\n",
    "print('...Done.')\n",
    "print(X_test[0:5,:]) # Use this syntax here too because X_test is a numpy array and not a pandas DataFrame anymore\n",
    "print()"
   ]
  },
  {
   "cell_type": "code",
   "execution_count": 59,
   "metadata": {},
   "outputs": [
    {
     "data": {
      "text/plain": [
       "numpy.ndarray"
      ]
     },
     "execution_count": 59,
     "metadata": {},
     "output_type": "execute_result"
    }
   ],
   "source": [
    "type(X_train)"
   ]
  },
  {
   "cell_type": "code",
   "execution_count": 60,
   "metadata": {},
   "outputs": [
    {
     "data": {
      "text/plain": [
       "numpy.ndarray"
      ]
     },
     "execution_count": 60,
     "metadata": {},
     "output_type": "execute_result"
    }
   ],
   "source": [
    "type(X_test)"
   ]
  },
  {
   "cell_type": "code",
   "execution_count": 61,
   "metadata": {},
   "outputs": [
    {
     "data": {
      "text/plain": [
       "pandas.core.series.Series"
      ]
     },
     "execution_count": 61,
     "metadata": {},
     "output_type": "execute_result"
    }
   ],
   "source": [
    "type(Y_train)"
   ]
  },
  {
   "cell_type": "code",
   "execution_count": 62,
   "metadata": {},
   "outputs": [
    {
     "data": {
      "text/plain": [
       "pandas.core.series.Series"
      ]
     },
     "execution_count": 62,
     "metadata": {},
     "output_type": "execute_result"
    }
   ],
   "source": [
    "type(Y_test)"
   ]
  },
  {
   "cell_type": "code",
   "execution_count": 63,
   "metadata": {},
   "outputs": [
    {
     "name": "stdout",
     "output_type": "stream",
     "text": [
      "Training model...\n",
      "...Done.\n"
     ]
    }
   ],
   "source": [
    "# Our model\n",
    "model = LinearRegression()\n",
    "\n",
    "print(\"Training model...\")\n",
    "model.fit(X_train, Y_train) # Training on train set\n",
    "print(\"...Done.\")"
   ]
  },
  {
   "cell_type": "code",
   "execution_count": 64,
   "metadata": {},
   "outputs": [
    {
     "name": "stdout",
     "output_type": "stream",
     "text": [
      "Predictions on training set...\n",
      "...Done.\n",
      "[1757242.51        616813.65499175  405053.35016556 2108638.59301716\n",
      "  526429.42141913]\n",
      "\n"
     ]
    }
   ],
   "source": [
    "# Predictions on training set\n",
    "print(\"Predictions on training set...\")\n",
    "Y_train_pred = model.predict(X_train)\n",
    "print(\"...Done.\")\n",
    "print(Y_train_pred[0:5])\n",
    "print()"
   ]
  },
  {
   "cell_type": "code",
   "execution_count": 65,
   "metadata": {},
   "outputs": [
    {
     "name": "stdout",
     "output_type": "stream",
     "text": [
      "Predictions on test set...\n",
      "...Done.\n",
      "[1253019.9726793  1510069.35651742 1862635.20881053 1429810.49197298\n",
      "  902531.37509107]\n",
      "\n"
     ]
    }
   ],
   "source": [
    "# Predictions on test set\n",
    "print(\"Predictions on test set...\")\n",
    "Y_test_pred = model.predict(X_test)\n",
    "print(\"...Done.\")\n",
    "print(Y_test_pred[0:5])\n",
    "print()"
   ]
  },
  {
   "cell_type": "code",
   "execution_count": 66,
   "metadata": {},
   "outputs": [
    {
     "name": "stdout",
     "output_type": "stream",
     "text": [
      "MSE on test set: 76820582083.09138 / MSE on train set: 12248819785.385149\n",
      "RMSE on test set: 277165.26132091554 / RMSE on train set: 110674.3863113103\n",
      "MAE on test set: 173956.07027267644 / MAE on train set: 86214.34128774537\n",
      "R² on test set: 0.8004162292601567 / R² on train set: 0.973666689826972\n"
     ]
    },
    {
     "name": "stderr",
     "output_type": "stream",
     "text": [
      "c:\\Users\\taver\\anaconda3\\lib\\site-packages\\sklearn\\metrics\\_regression.py:483: FutureWarning: 'squared' is deprecated in version 1.4 and will be removed in 1.6. To calculate the root mean squared error, use the function'root_mean_squared_error'.\n",
      "  warnings.warn(\n",
      "c:\\Users\\taver\\anaconda3\\lib\\site-packages\\sklearn\\metrics\\_regression.py:483: FutureWarning: 'squared' is deprecated in version 1.4 and will be removed in 1.6. To calculate the root mean squared error, use the function'root_mean_squared_error'.\n",
      "  warnings.warn(\n"
     ]
    }
   ],
   "source": [
    "# import now metrics to measure performance of our model\n",
    "from sklearn.metrics import mean_squared_error, r2_score, mean_absolute_error\n",
    "\n",
    "# Train set predictions\n",
    "Y_train_pred = model.predict(X_train)\n",
    "\n",
    "# Test-set predictions\n",
    "Y_test_pred = model.predict(X_test)\n",
    "\n",
    "# Metrics\n",
    "mse_test = mean_squared_error(Y_test, Y_test_pred)\n",
    "rmse_test = mean_squared_error(Y_test, Y_test_pred, squared=False)\n",
    "mae_test = mean_absolute_error(Y_test, Y_test_pred)\n",
    "r2_test = r2_score(Y_test, Y_test_pred)\n",
    "\n",
    "mse_train = mean_squared_error(Y_train, Y_train_pred)\n",
    "rmse_train = mean_squared_error(Y_train, Y_train_pred, squared=False)\n",
    "mae_train = mean_absolute_error(Y_train, Y_train_pred)\n",
    "r2_train = r2_score(Y_train, Y_train_pred)\n",
    "\n",
    "# Results\n",
    "print(\"MSE on test set:\", mse_test, \"/\", \"MSE on train set:\", mse_train)\n",
    "print(\"RMSE on test set:\", rmse_test, \"/\", \"RMSE on train set:\" , rmse_train)\n",
    "print(\"MAE on test set:\", mae_test, \"/\", \"MAE on train set:\", mae_train)\n",
    "print(\"R² on test set:\", r2_test, \"/\", \"R² on train set:\", r2_train)"
   ]
  },
  {
   "cell_type": "markdown",
   "metadata": {},
   "source": [
    "This is overfitting !  \n",
    "R² test (0.8) could be considered as a good score, but having a look on R² train (0.97 !)  \n",
    "means that model trains too closely to training datas.  \n",
    "\n",
    "We should use some regularization now to prevent overfitting and improve our model's scores."
   ]
  },
  {
   "cell_type": "markdown",
   "metadata": {},
   "source": [
    "                    ********************************************************************"
   ]
  },
  {
   "cell_type": "markdown",
   "metadata": {},
   "source": [
    "                    ---------------- PART 4: REGULARIZATION ---------------------------"
   ]
  },
  {
   "cell_type": "markdown",
   "metadata": {},
   "source": [
    "                    *********************************************************************"
   ]
  },
  {
   "cell_type": "code",
   "execution_count": 67,
   "metadata": {},
   "outputs": [
    {
     "name": "stdout",
     "output_type": "stream",
     "text": [
      "3-fold cross-validation...\n",
      "The cross-validated R2-score is :  0.5644088715723373\n",
      "The standard deviation is :  0.3506324297275375\n"
     ]
    }
   ],
   "source": [
    "# Go for regularization, first with 'Ridge'\n",
    "from sklearn.linear_model import Ridge\n",
    "from sklearn.model_selection import cross_val_score\n",
    "\n",
    "regressor = Ridge()\n",
    "\n",
    "# cross validation: cv=3\n",
    "# going with 'scoring=r2' as argument even if given => could MSE be passed ?\n",
    "scores = cross_val_score(regressor, X_train, Y_train, cv=3, scoring='r2')\n",
    "\n",
    "# Results\n",
    "print(\"3-fold cross-validation...\")\n",
    "print('The cross-validated R2-score is : ', scores.mean())\n",
    "print('The standard deviation is : ', scores.std())"
   ]
  },
  {
   "cell_type": "markdown",
   "metadata": {},
   "source": [
    "A cvR2 = 0.56 means a more realistic score on how our model fits on new datas.  \n",
    "STD = 0.35 means our models remains sensitive to training datas.  \n",
    "\n"
   ]
  },
  {
   "cell_type": "code",
   "execution_count": 68,
   "metadata": {},
   "outputs": [
    {
     "name": "stdout",
     "output_type": "stream",
     "text": [
      "With Grid search:\n",
      "Best hyperparameters :  {'alpha': 0.0}\n",
      "Best R2 score :  0.8558536057091114\n"
     ]
    }
   ],
   "source": [
    "from sklearn.model_selection import GridSearchCV\n",
    "\n",
    "print(\"With Grid search:\")\n",
    "regressor = Ridge()\n",
    "\n",
    "# Values to be tested\n",
    "params = {\n",
    "    'alpha': [0.0, 0.01, 0.05, 0.1, 0.5, 1.0] # with 0 = no regularization\n",
    "}\n",
    "gridsearch = GridSearchCV(regressor, param_grid = params, cv = 3) # cv : number of folds\n",
    "gridsearch.fit(X_train, Y_train)\n",
    "\n",
    "print(\"Best hyperparameters : \", gridsearch.best_params_)\n",
    "print(\"Best R2 score : \", gridsearch.best_score_)\n"
   ]
  },
  {
   "cell_type": "code",
   "execution_count": 69,
   "metadata": {},
   "outputs": [],
   "source": [
    "# R2 goes from 0.8 to 0.855 if we let alpha = 0"
   ]
  },
  {
   "cell_type": "markdown",
   "metadata": {},
   "source": [
    "                ------------- TRYING WITH A LIBRARY NAMED 'OPTUNA' ------------------  \n",
    "                            To test, as I recently heard about this."
   ]
  },
  {
   "cell_type": "code",
   "execution_count": 70,
   "metadata": {},
   "outputs": [
    {
     "name": "stderr",
     "output_type": "stream",
     "text": [
      "[I 2024-03-31 16:03:12,653] A new study created in memory with name: no-name-d399ab26-ea3c-4c54-9f37-12d3319e690b\n"
     ]
    },
    {
     "name": "stderr",
     "output_type": "stream",
     "text": [
      "[I 2024-03-31 16:03:15,674] Trial 0 finished with value: 0.7173024367233007 and parameters: {'alpha': 0.30095888559091677}. Best is trial 0 with value: 0.7173024367233007.\n",
      "[I 2024-03-31 16:03:16,997] Trial 1 finished with value: 0.6783204325844382 and parameters: {'alpha': 0.4384860436398028}. Best is trial 0 with value: 0.7173024367233007.\n",
      "[I 2024-03-31 16:03:18,238] Trial 2 finished with value: 0.6635162325462732 and parameters: {'alpha': 0.498013913875741}. Best is trial 0 with value: 0.7173024367233007.\n",
      "[I 2024-03-31 16:03:19,368] Trial 3 finished with value: 0.8271748351354026 and parameters: {'alpha': 0.0445625014509502}. Best is trial 3 with value: 0.8271748351354026.\n",
      "[I 2024-03-31 16:03:20,521] Trial 4 finished with value: 0.5933556318127278 and parameters: {'alpha': 0.8349006648624346}. Best is trial 3 with value: 0.8271748351354026.\n",
      "[I 2024-03-31 16:03:21,722] Trial 5 finished with value: 0.738585968629712 and parameters: {'alpha': 0.23725871984388502}. Best is trial 3 with value: 0.8271748351354026.\n",
      "[I 2024-03-31 16:03:22,969] Trial 6 finished with value: 0.5757238958599982 and parameters: {'alpha': 0.9336471652318808}. Best is trial 3 with value: 0.8271748351354026.\n",
      "[I 2024-03-31 16:03:24,207] Trial 7 finished with value: 0.5975977898023781 and parameters: {'alpha': 0.8119843402177516}. Best is trial 3 with value: 0.8271748351354026.\n",
      "[I 2024-03-31 16:03:24,220] Trial 8 finished with value: 0.5667579049297992 and parameters: {'alpha': 0.9860321940503788}. Best is trial 3 with value: 0.8271748351354026.\n",
      "[I 2024-03-31 16:03:24,232] Trial 9 finished with value: 0.588575874149355 and parameters: {'alpha': 0.8611120327417007}. Best is trial 3 with value: 0.8271748351354026.\n",
      "[I 2024-03-31 16:03:24,246] Trial 10 finished with value: 0.8322011933008446 and parameters: {'alpha': 0.03635251562955111}. Best is trial 10 with value: 0.8322011933008446.\n",
      "[I 2024-03-31 16:03:24,259] Trial 11 finished with value: 0.8344994883749877 and parameters: {'alpha': 0.03266597980719308}. Best is trial 11 with value: 0.8344994883749877.\n",
      "[I 2024-03-31 16:03:24,272] Trial 12 finished with value: 0.8468373529121583 and parameters: {'alpha': 0.01350113361397488}. Best is trial 12 with value: 0.8468373529121583.\n",
      "[I 2024-03-31 16:03:24,284] Trial 13 finished with value: 0.7725255499279163 and parameters: {'alpha': 0.15093135974158028}. Best is trial 12 with value: 0.8468373529121583.\n",
      "[I 2024-03-31 16:03:24,297] Trial 14 finished with value: 0.7032424903782486 and parameters: {'alpha': 0.34738590543027514}. Best is trial 12 with value: 0.8468373529121583.\n",
      "[I 2024-03-31 16:03:24,309] Trial 15 finished with value: 0.622660301312011 and parameters: {'alpha': 0.6832575561718848}. Best is trial 12 with value: 0.8468373529121583.\n",
      "[I 2024-03-31 16:03:24,322] Trial 16 finished with value: 0.7666986235312003 and parameters: {'alpha': 0.16450858850483568}. Best is trial 12 with value: 0.8468373529121583.\n",
      "[I 2024-03-31 16:03:24,335] Trial 17 finished with value: 0.8481808444209745 and parameters: {'alpha': 0.011468285130588174}. Best is trial 17 with value: 0.8481808444209745.\n",
      "[I 2024-03-31 16:03:24,347] Trial 18 finished with value: 0.6298363028613436 and parameters: {'alpha': 0.648504324394474}. Best is trial 17 with value: 0.8481808444209745.\n",
      "[I 2024-03-31 16:03:24,360] Trial 19 finished with value: 0.7681980732101718 and parameters: {'alpha': 0.16096788878085902}. Best is trial 17 with value: 0.8481808444209745.\n",
      "[I 2024-03-31 16:03:24,372] Trial 20 finished with value: 0.7022104260728707 and parameters: {'alpha': 0.35093359055043527}. Best is trial 17 with value: 0.8481808444209745.\n",
      "[I 2024-03-31 16:03:24,384] Trial 21 finished with value: 0.8423541989583615 and parameters: {'alpha': 0.020354088787621422}. Best is trial 17 with value: 0.8481808444209745.\n",
      "[I 2024-03-31 16:03:24,396] Trial 22 finished with value: 0.8553492106780288 and parameters: {'alpha': 0.0007481784692852933}. Best is trial 22 with value: 0.8553492106780288.\n",
      "[I 2024-03-31 16:03:24,408] Trial 23 finished with value: 0.7965701331025983 and parameters: {'alpha': 0.0998049079222389}. Best is trial 22 with value: 0.8553492106780288.\n",
      "[I 2024-03-31 16:03:24,419] Trial 24 finished with value: 0.7390686772878073 and parameters: {'alpha': 0.2359030535432005}. Best is trial 22 with value: 0.8553492106780288.\n",
      "[I 2024-03-31 16:03:24,429] Trial 25 finished with value: 0.7999951777885453 and parameters: {'alpha': 0.09311746762324732}. Best is trial 22 with value: 0.8553492106780288.\n",
      "[I 2024-03-31 16:03:24,440] Trial 26 finished with value: 0.7432517192277351 and parameters: {'alpha': 0.22431597029185307}. Best is trial 22 with value: 0.8553492106780288.\n",
      "[I 2024-03-31 16:03:24,450] Trial 27 finished with value: 0.7881147180955885 and parameters: {'alpha': 0.11692576556341411}. Best is trial 22 with value: 0.8553492106780288.\n",
      "[I 2024-03-31 16:03:24,461] Trial 28 finished with value: 0.6241039956656946 and parameters: {'alpha': 0.6761902743978108}. Best is trial 22 with value: 0.8553492106780288.\n",
      "[I 2024-03-31 16:03:24,472] Trial 29 finished with value: 0.720066567276041 and parameters: {'alpha': 0.29224417733260816}. Best is trial 22 with value: 0.8553492106780288.\n",
      "[I 2024-03-31 16:03:24,485] Trial 30 finished with value: 0.8549118245259514 and parameters: {'alpha': 0.0013974454048571042}. Best is trial 22 with value: 0.8553492106780288.\n",
      "[I 2024-03-31 16:03:24,497] Trial 31 finished with value: 0.8530358596309254 and parameters: {'alpha': 0.004188073185395321}. Best is trial 22 with value: 0.8553492106780288.\n",
      "[I 2024-03-31 16:03:24,510] Trial 32 finished with value: 0.8554236086897832 and parameters: {'alpha': 0.0006377860506971836}. Best is trial 32 with value: 0.8554236086897832.\n",
      "[I 2024-03-31 16:03:24,525] Trial 33 finished with value: 0.8003481674725009 and parameters: {'alpha': 0.09243610820481646}. Best is trial 32 with value: 0.8554236086897832.\n",
      "[I 2024-03-31 16:03:24,547] Trial 34 finished with value: 0.6805142184472647 and parameters: {'alpha': 0.4300091999030444}. Best is trial 32 with value: 0.8554236086897832.\n",
      "[I 2024-03-31 16:03:24,581] Trial 35 finished with value: 0.8082015886685522 and parameters: {'alpha': 0.07764426211130941}. Best is trial 32 with value: 0.8554236086897832.\n",
      "[I 2024-03-31 16:03:24,601] Trial 36 finished with value: 0.7543227462927394 and parameters: {'alpha': 0.1950128616245092}. Best is trial 32 with value: 0.8554236086897832.\n",
      "[I 2024-03-31 16:03:24,615] Trial 37 finished with value: 0.6402227303631172 and parameters: {'alpha': 0.5998709105041535}. Best is trial 32 with value: 0.8554236086897832.\n",
      "[I 2024-03-31 16:03:24,626] Trial 38 finished with value: 0.7246582551253549 and parameters: {'alpha': 0.2780627251262689}. Best is trial 32 with value: 0.8554236086897832.\n",
      "[I 2024-03-31 16:03:24,641] Trial 39 finished with value: 0.8165367166651295 and parameters: {'alpha': 0.06267536987286816}. Best is trial 32 with value: 0.8554236086897832.\n",
      "[I 2024-03-31 16:03:24,653] Trial 40 finished with value: 0.7743797633964519 and parameters: {'alpha': 0.14671253819755958}. Best is trial 32 with value: 0.8554236086897832.\n",
      "[I 2024-03-31 16:03:24,666] Trial 41 finished with value: 0.8488505183611039 and parameters: {'alpha': 0.010458217175312638}. Best is trial 32 with value: 0.8554236086897832.\n",
      "[I 2024-03-31 16:03:24,678] Trial 42 finished with value: 0.8177600727013058 and parameters: {'alpha': 0.060537978859270765}. Best is trial 32 with value: 0.8554236086897832.\n",
      "[I 2024-03-31 16:03:24,691] Trial 43 finished with value: 0.7852687473992509 and parameters: {'alpha': 0.12289162470095251}. Best is trial 32 with value: 0.8554236086897832.\n",
      "[I 2024-03-31 16:03:24,704] Trial 44 finished with value: 0.8517045667278916 and parameters: {'alpha': 0.006175219535091148}. Best is trial 32 with value: 0.8554236086897832.\n",
      "[I 2024-03-31 16:03:24,717] Trial 45 finished with value: 0.8543249060914464 and parameters: {'alpha': 0.002269449510668817}. Best is trial 32 with value: 0.8554236086897832.\n",
      "[I 2024-03-31 16:03:24,730] Trial 46 finished with value: 0.817847267487349 and parameters: {'alpha': 0.060386197886683556}. Best is trial 32 with value: 0.8554236086897832.\n",
      "[I 2024-03-31 16:03:24,743] Trial 47 finished with value: 0.7500951334536251 and parameters: {'alpha': 0.20597243502060344}. Best is trial 32 with value: 0.8554236086897832.\n",
      "[I 2024-03-31 16:03:24,757] Trial 48 finished with value: 0.8244402490060935 and parameters: {'alpha': 0.04911929301470422}. Best is trial 32 with value: 0.8554236086897832.\n",
      "[I 2024-03-31 16:03:24,768] Trial 49 finished with value: 0.7800065399808457 and parameters: {'alpha': 0.13420282778423595}. Best is trial 32 with value: 0.8554236086897832.\n",
      "[I 2024-03-31 16:03:24,780] Trial 50 finished with value: 0.6669121260815785 and parameters: {'alpha': 0.4840009460651862}. Best is trial 32 with value: 0.8554236086897832.\n",
      "[I 2024-03-31 16:03:24,793] Trial 51 finished with value: 0.8554353509401085 and parameters: {'alpha': 0.0006203639795015195}. Best is trial 51 with value: 0.8554353509401085.\n",
      "[I 2024-03-31 16:03:24,806] Trial 52 finished with value: 0.8550022758344786 and parameters: {'alpha': 0.0012631385478728474}. Best is trial 51 with value: 0.8554353509401085.\n",
      "[I 2024-03-31 16:03:24,820] Trial 53 finished with value: 0.8225409340612476 and parameters: {'alpha': 0.05232352283538189}. Best is trial 51 with value: 0.8554353509401085.\n",
      "[I 2024-03-31 16:03:24,831] Trial 54 finished with value: 0.7995115191218454 and parameters: {'alpha': 0.0940534158353063}. Best is trial 51 with value: 0.8554353509401085.\n",
      "[I 2024-03-31 16:03:24,843] Trial 55 finished with value: 0.7598910665711344 and parameters: {'alpha': 0.1810012618164458}. Best is trial 51 with value: 0.8554353509401085.\n",
      "[I 2024-03-31 16:03:24,856] Trial 56 finished with value: 0.8542812764113457 and parameters: {'alpha': 0.002334308609940559}. Best is trial 51 with value: 0.8554353509401085.\n",
      "[I 2024-03-31 16:03:24,867] Trial 57 finished with value: 0.8277339700574696 and parameters: {'alpha': 0.043638796757614756}. Best is trial 51 with value: 0.8554353509401085.\n",
      "[I 2024-03-31 16:03:24,879] Trial 58 finished with value: 0.7879718994442854 and parameters: {'alpha': 0.11722265849216675}. Best is trial 51 with value: 0.8554353509401085.\n",
      "[I 2024-03-31 16:03:24,892] Trial 59 finished with value: 0.6112222007935799 and parameters: {'alpha': 0.7405913259909673}. Best is trial 51 with value: 0.8554353509401085.\n",
      "[I 2024-03-31 16:03:24,904] Trial 60 finished with value: 0.8313694032521605 and parameters: {'alpha': 0.03769689616580302}. Best is trial 51 with value: 0.8554353509401085.\n",
      "[I 2024-03-31 16:03:24,917] Trial 61 finished with value: 0.8536766057090751 and parameters: {'alpha': 0.003233759701609206}. Best is trial 51 with value: 0.8554353509401085.\n",
      "[I 2024-03-31 16:03:24,931] Trial 62 finished with value: 0.8103772620827566 and parameters: {'alpha': 0.07366686911253584}. Best is trial 51 with value: 0.8554353509401085.\n",
      "[I 2024-03-31 16:03:24,945] Trial 63 finished with value: 0.8336817909679454 and parameters: {'alpha': 0.033972937496251965}. Best is trial 51 with value: 0.8554353509401085.\n",
      "[I 2024-03-31 16:03:24,958] Trial 64 finished with value: 0.8000465298191436 and parameters: {'alpha': 0.09301825483107198}. Best is trial 51 with value: 0.8554353509401085.\n",
      "[I 2024-03-31 16:03:24,973] Trial 65 finished with value: 0.8341981136410631 and parameters: {'alpha': 0.03314708879281821}. Best is trial 51 with value: 0.8554353509401085.\n",
      "[I 2024-03-31 16:03:24,988] Trial 66 finished with value: 0.7728087479338125 and parameters: {'alpha': 0.15028387179591998}. Best is trial 51 with value: 0.8554353509401085.\n",
      "[I 2024-03-31 16:03:25,002] Trial 67 finished with value: 0.7312395826900163 and parameters: {'alpha': 0.2583712546028091}. Best is trial 51 with value: 0.8554353509401085.\n",
      "[I 2024-03-31 16:03:25,015] Trial 68 finished with value: 0.8521460883078938 and parameters: {'alpha': 0.00551550016634006}. Best is trial 51 with value: 0.8554353509401085.\n",
      "[I 2024-03-31 16:03:25,027] Trial 69 finished with value: 0.7901344548278185 and parameters: {'alpha': 0.11275496713595269}. Best is trial 51 with value: 0.8554353509401085.\n",
      "[I 2024-03-31 16:03:25,041] Trial 70 finished with value: 0.7027869363751998 and parameters: {'alpha': 0.3489494821968644}. Best is trial 51 with value: 0.8554353509401085.\n",
      "[I 2024-03-31 16:03:25,054] Trial 71 finished with value: 0.8552465487696779 and parameters: {'alpha': 0.0009005305829900077}. Best is trial 51 with value: 0.8554353509401085.\n",
      "[I 2024-03-31 16:03:25,068] Trial 72 finished with value: 0.8553647008888032 and parameters: {'alpha': 0.0007251928885459465}. Best is trial 51 with value: 0.8554353509401085.\n",
      "[I 2024-03-31 16:03:25,080] Trial 73 finished with value: 0.8086444293369498 and parameters: {'alpha': 0.07683057011338626}. Best is trial 51 with value: 0.8554353509401085.\n",
      "[I 2024-03-31 16:03:25,092] Trial 74 finished with value: 0.840015536283818 and parameters: {'alpha': 0.023976302140812047}. Best is trial 51 with value: 0.8554353509401085.\n",
      "[I 2024-03-31 16:03:25,105] Trial 75 finished with value: 0.8100440678840911 and parameters: {'alpha': 0.0742727027060866}. Best is trial 51 with value: 0.8554353509401085.\n",
      "[I 2024-03-31 16:03:25,117] Trial 76 finished with value: 0.5675874036955597 and parameters: {'alpha': 0.9811240119737092}. Best is trial 51 with value: 0.8554353509401085.\n",
      "[I 2024-03-31 16:03:25,129] Trial 77 finished with value: 0.8323146426700033 and parameters: {'alpha': 0.03616957772267682}. Best is trial 51 with value: 0.8554353509401085.\n",
      "[I 2024-03-31 16:03:25,141] Trial 78 finished with value: 0.7662621144538018 and parameters: {'alpha': 0.16554550454027453}. Best is trial 51 with value: 0.8554353509401085.\n",
      "[I 2024-03-31 16:03:25,153] Trial 79 finished with value: 0.7954527000581604 and parameters: {'alpha': 0.10201701823335563}. Best is trial 51 with value: 0.8554353509401085.\n",
      "[I 2024-03-31 16:03:25,167] Trial 80 finished with value: 0.8222752930511206 and parameters: {'alpha': 0.05277429936984272}. Best is trial 51 with value: 0.8554353509401085.\n",
      "[I 2024-03-31 16:03:25,179] Trial 81 finished with value: 0.8535349158486166 and parameters: {'alpha': 0.003444680003910189}. Best is trial 51 with value: 0.8554353509401085.\n",
      "[I 2024-03-31 16:03:25,192] Trial 82 finished with value: 0.8545182127047676 and parameters: {'alpha': 0.001982146196318969}. Best is trial 51 with value: 0.8554353509401085.\n",
      "[I 2024-03-31 16:03:25,204] Trial 83 finished with value: 0.6443755803051503 and parameters: {'alpha': 0.5809793653729468}. Best is trial 51 with value: 0.8554353509401085.\n",
      "[I 2024-03-31 16:03:25,218] Trial 84 finished with value: 0.8350013776661535 and parameters: {'alpha': 0.031866287539505045}. Best is trial 51 with value: 0.8554353509401085.\n",
      "[I 2024-03-31 16:03:25,230] Trial 85 finished with value: 0.8133438895431334 and parameters: {'alpha': 0.06832425666126364}. Best is trial 51 with value: 0.8554353509401085.\n",
      "[I 2024-03-31 16:03:25,243] Trial 86 finished with value: 0.7811739946630206 and parameters: {'alpha': 0.13166146646412255}. Best is trial 51 with value: 0.8554353509401085.\n",
      "[I 2024-03-31 16:03:25,254] Trial 87 finished with value: 0.8555580473825065 and parameters: {'alpha': 0.0004383373261203195}. Best is trial 87 with value: 0.8555580473825065.\n",
      "[I 2024-03-31 16:03:25,267] Trial 88 finished with value: 0.8360336776004932 and parameters: {'alpha': 0.03022732833156293}. Best is trial 87 with value: 0.8555580473825065.\n",
      "[I 2024-03-31 16:03:25,279] Trial 89 finished with value: 0.8051083622058596 and parameters: {'alpha': 0.08338769407737218}. Best is trial 87 with value: 0.8555580473825065.\n",
      "[I 2024-03-31 16:03:25,291] Trial 90 finished with value: 0.8230841814035301 and parameters: {'alpha': 0.05140368606760487}. Best is trial 87 with value: 0.8555580473825065.\n",
      "[I 2024-03-31 16:03:25,303] Trial 91 finished with value: 0.8423077140033225 and parameters: {'alpha': 0.020425753315090202}. Best is trial 87 with value: 0.8555580473825065.\n",
      "[I 2024-03-31 16:03:25,315] Trial 92 finished with value: 0.8551730335867421 and parameters: {'alpha': 0.0010096439568651066}. Best is trial 87 with value: 0.8555580473825065.\n",
      "[I 2024-03-31 16:03:25,325] Trial 93 finished with value: 0.8553190263572805 and parameters: {'alpha': 0.000792969942220969}. Best is trial 87 with value: 0.8555580473825065.\n",
      "[I 2024-03-31 16:03:25,336] Trial 94 finished with value: 0.8190947846875267 and parameters: {'alpha': 0.05822273198451512}. Best is trial 87 with value: 0.8555580473825065.\n",
      "[I 2024-03-31 16:03:25,346] Trial 95 finished with value: 0.8390995595323926 and parameters: {'alpha': 0.025404640666104084}. Best is trial 87 with value: 0.8555580473825065.\n",
      "[I 2024-03-31 16:03:25,357] Trial 96 finished with value: 0.7927205006359449 and parameters: {'alpha': 0.10748980900163005}. Best is trial 87 with value: 0.8555580473825065.\n",
      "[I 2024-03-31 16:03:25,371] Trial 97 finished with value: 0.6955765801020087 and parameters: {'alpha': 0.374198398029955}. Best is trial 87 with value: 0.8555580473825065.\n",
      "[I 2024-03-31 16:03:25,389] Trial 98 finished with value: 0.823886352743956 and parameters: {'alpha': 0.050050360690816954}. Best is trial 87 with value: 0.8555580473825065.\n",
      "[I 2024-03-31 16:03:25,419] Trial 99 finished with value: 0.8022900948861628 and parameters: {'alpha': 0.08871353418492106}. Best is trial 87 with value: 0.8555580473825065.\n"
     ]
    },
    {
     "name": "stdout",
     "output_type": "stream",
     "text": [
      "Meilleur score R2: 0.8555580473825065\n",
      "Meilleurs hyperparamètres: {'alpha': 0.0004383373261203195}\n"
     ]
    }
   ],
   "source": [
    "# Trying Optuna\n",
    "#!pip install optuna\n",
    "\n",
    "import optuna\n",
    "from sklearn.metrics import r2_score\n",
    "\n",
    "def objective(trial):\n",
    "    # Suggestion de valeurs pour alpha\n",
    "    alpha = trial.suggest_float('alpha', 0.0, 1.0)\n",
    "    \n",
    "    # Création et évaluation du modèle avec la valeur suggérée d'alpha\n",
    "    model = Ridge(alpha=alpha)\n",
    "    score = cross_val_score(model, X_train, Y_train, n_jobs=-1, cv=3, scoring='r2').mean()\n",
    "    return score\n",
    "\n",
    "# n_jobs= -1 : va lancer tous les coeurs de CPU pour faire le job\n",
    "\n",
    "study = optuna.create_study(direction='maximize')\n",
    "study.optimize(objective, n_trials=100) # 100 essais\n",
    "\n",
    "print('Meilleur score R2:', study.best_value)\n",
    "print('Meilleurs hyperparamètres:', study.best_params)\n"
   ]
  },
  {
   "cell_type": "code",
   "execution_count": 71,
   "metadata": {},
   "outputs": [
    {
     "name": "stdout",
     "output_type": "stream",
     "text": [
      "Meilleur score R2: 0.8555580473825065\n",
      "Meilleurs hyperparamètres: {'alpha': 0.0004383373261203195}\n",
      "Meilleur essai: 87\n",
      "Détails du meilleur essai : FrozenTrial(number=87, state=TrialState.COMPLETE, values=[0.8555580473825065], datetime_start=datetime.datetime(2024, 3, 31, 16, 3, 25, 243917), datetime_complete=datetime.datetime(2024, 3, 31, 16, 3, 25, 254931), params={'alpha': 0.0004383373261203195}, user_attrs={}, system_attrs={}, intermediate_values={}, distributions={'alpha': FloatDistribution(high=1.0, log=False, low=0.0, step=None)}, trial_id=87, value=None)\n"
     ]
    }
   ],
   "source": [
    "print('Meilleur score R2:', study.best_value)\n",
    "\n",
    "print('Meilleurs hyperparamètres:', study.best_params)\n",
    "\n",
    "# Le meilleur essai avec ses paramètres:\n",
    "best_trial = study.best_trial\n",
    "\n",
    "print(f\"Meilleur essai: {best_trial.number}\")\n",
    "print(f\"Détails du meilleur essai : {best_trial}\")"
   ]
  },
  {
   "cell_type": "markdown",
   "metadata": {},
   "source": [
    "Well, seems Optuna gets same r2 than Ridge, with Alpha really close to zero...\n",
    "Improving this section coming soon."
   ]
  },
  {
   "cell_type": "markdown",
   "metadata": {},
   "source": [
    "                                 ------------------ END OF NOTEBOOK -------------------------"
   ]
  },
  {
   "cell_type": "markdown",
   "metadata": {},
   "source": [
    "  ***************************************          THANK YOU FOR READING       ********************************************************"
   ]
  }
 ],
 "metadata": {
  "kernelspec": {
   "display_name": "base",
   "language": "python",
   "name": "python3"
  },
  "language_info": {
   "codemirror_mode": {
    "name": "ipython",
    "version": 3
   },
   "file_extension": ".py",
   "mimetype": "text/x-python",
   "name": "python",
   "nbconvert_exporter": "python",
   "pygments_lexer": "ipython3",
   "version": "3.9.18"
  }
 },
 "nbformat": 4,
 "nbformat_minor": 2
}
