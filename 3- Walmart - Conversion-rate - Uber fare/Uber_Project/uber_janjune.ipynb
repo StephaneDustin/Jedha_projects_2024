{
 "cells": [
  {
   "cell_type": "code",
   "execution_count": 1,
   "metadata": {},
   "outputs": [],
   "source": [
    "import pandas as pd\n",
    "import numpy as np"
   ]
  },
  {
   "cell_type": "code",
   "execution_count": 2,
   "metadata": {},
   "outputs": [
    {
     "data": {
      "text/html": [
       "<div>\n",
       "<style scoped>\n",
       "    .dataframe tbody tr th:only-of-type {\n",
       "        vertical-align: middle;\n",
       "    }\n",
       "\n",
       "    .dataframe tbody tr th {\n",
       "        vertical-align: top;\n",
       "    }\n",
       "\n",
       "    .dataframe thead th {\n",
       "        text-align: right;\n",
       "    }\n",
       "</style>\n",
       "<table border=\"1\" class=\"dataframe\">\n",
       "  <thead>\n",
       "    <tr style=\"text-align: right;\">\n",
       "      <th></th>\n",
       "      <th>Dispatching_base_num</th>\n",
       "      <th>Pickup_date</th>\n",
       "      <th>Affiliated_base_num</th>\n",
       "      <th>locationID</th>\n",
       "    </tr>\n",
       "  </thead>\n",
       "  <tbody>\n",
       "    <tr>\n",
       "      <th>0</th>\n",
       "      <td>B02617</td>\n",
       "      <td>2015-05-17 09:47:00</td>\n",
       "      <td>B02617</td>\n",
       "      <td>141</td>\n",
       "    </tr>\n",
       "    <tr>\n",
       "      <th>1</th>\n",
       "      <td>B02617</td>\n",
       "      <td>2015-05-17 09:47:00</td>\n",
       "      <td>B02617</td>\n",
       "      <td>65</td>\n",
       "    </tr>\n",
       "    <tr>\n",
       "      <th>2</th>\n",
       "      <td>B02617</td>\n",
       "      <td>2015-05-17 09:47:00</td>\n",
       "      <td>B02617</td>\n",
       "      <td>100</td>\n",
       "    </tr>\n",
       "    <tr>\n",
       "      <th>3</th>\n",
       "      <td>B02617</td>\n",
       "      <td>2015-05-17 09:47:00</td>\n",
       "      <td>B02774</td>\n",
       "      <td>80</td>\n",
       "    </tr>\n",
       "    <tr>\n",
       "      <th>4</th>\n",
       "      <td>B02617</td>\n",
       "      <td>2015-05-17 09:47:00</td>\n",
       "      <td>B02617</td>\n",
       "      <td>90</td>\n",
       "    </tr>\n",
       "  </tbody>\n",
       "</table>\n",
       "</div>"
      ],
      "text/plain": [
       "  Dispatching_base_num          Pickup_date Affiliated_base_num  locationID\n",
       "0               B02617  2015-05-17 09:47:00              B02617         141\n",
       "1               B02617  2015-05-17 09:47:00              B02617          65\n",
       "2               B02617  2015-05-17 09:47:00              B02617         100\n",
       "3               B02617  2015-05-17 09:47:00              B02774          80\n",
       "4               B02617  2015-05-17 09:47:00              B02617          90"
      ]
     },
     "execution_count": 2,
     "metadata": {},
     "output_type": "execute_result"
    }
   ],
   "source": [
    "df=pd.read_csv('uber-raw-data-janjune-15.csv')\n",
    "df.head()"
   ]
  },
  {
   "cell_type": "code",
   "execution_count": 3,
   "metadata": {},
   "outputs": [
    {
     "data": {
      "text/html": [
       "<div>\n",
       "<style scoped>\n",
       "    .dataframe tbody tr th:only-of-type {\n",
       "        vertical-align: middle;\n",
       "    }\n",
       "\n",
       "    .dataframe tbody tr th {\n",
       "        vertical-align: top;\n",
       "    }\n",
       "\n",
       "    .dataframe thead th {\n",
       "        text-align: right;\n",
       "    }\n",
       "</style>\n",
       "<table border=\"1\" class=\"dataframe\">\n",
       "  <thead>\n",
       "    <tr style=\"text-align: right;\">\n",
       "      <th></th>\n",
       "      <th>Dispatching_base_num</th>\n",
       "      <th>Pickup_date</th>\n",
       "      <th>Affiliated_base_num</th>\n",
       "      <th>locationID</th>\n",
       "    </tr>\n",
       "  </thead>\n",
       "  <tbody>\n",
       "    <tr>\n",
       "      <th>14270474</th>\n",
       "      <td>B02765</td>\n",
       "      <td>2015-05-08 15:43:00</td>\n",
       "      <td>B02765</td>\n",
       "      <td>186</td>\n",
       "    </tr>\n",
       "    <tr>\n",
       "      <th>14270475</th>\n",
       "      <td>B02765</td>\n",
       "      <td>2015-05-08 15:43:00</td>\n",
       "      <td>B02765</td>\n",
       "      <td>263</td>\n",
       "    </tr>\n",
       "    <tr>\n",
       "      <th>14270476</th>\n",
       "      <td>B02765</td>\n",
       "      <td>2015-05-08 15:43:00</td>\n",
       "      <td>B02765</td>\n",
       "      <td>90</td>\n",
       "    </tr>\n",
       "    <tr>\n",
       "      <th>14270477</th>\n",
       "      <td>B02765</td>\n",
       "      <td>2015-05-08 15:44:00</td>\n",
       "      <td>B01899</td>\n",
       "      <td>45</td>\n",
       "    </tr>\n",
       "    <tr>\n",
       "      <th>14270478</th>\n",
       "      <td>B02765</td>\n",
       "      <td>2015-05-08 15:44:00</td>\n",
       "      <td>B02682</td>\n",
       "      <td>144</td>\n",
       "    </tr>\n",
       "  </tbody>\n",
       "</table>\n",
       "</div>"
      ],
      "text/plain": [
       "         Dispatching_base_num          Pickup_date Affiliated_base_num  \\\n",
       "14270474               B02765  2015-05-08 15:43:00              B02765   \n",
       "14270475               B02765  2015-05-08 15:43:00              B02765   \n",
       "14270476               B02765  2015-05-08 15:43:00              B02765   \n",
       "14270477               B02765  2015-05-08 15:44:00              B01899   \n",
       "14270478               B02765  2015-05-08 15:44:00              B02682   \n",
       "\n",
       "          locationID  \n",
       "14270474         186  \n",
       "14270475         263  \n",
       "14270476          90  \n",
       "14270477          45  \n",
       "14270478         144  "
      ]
     },
     "execution_count": 3,
     "metadata": {},
     "output_type": "execute_result"
    }
   ],
   "source": [
    "df.tail()"
   ]
  },
  {
   "cell_type": "code",
   "execution_count": 4,
   "metadata": {},
   "outputs": [
    {
     "data": {
      "text/plain": [
       "Dispatching_base_num         0\n",
       "Pickup_date                  0\n",
       "Affiliated_base_num     162195\n",
       "locationID                   0\n",
       "dtype: int64"
      ]
     },
     "execution_count": 4,
     "metadata": {},
     "output_type": "execute_result"
    }
   ],
   "source": [
    "df.isnull().sum()"
   ]
  },
  {
   "cell_type": "code",
   "execution_count": 5,
   "metadata": {},
   "outputs": [
    {
     "name": "stdout",
     "output_type": "stream",
     "text": [
      "<class 'pandas.core.frame.DataFrame'>\n",
      "RangeIndex: 14270479 entries, 0 to 14270478\n",
      "Data columns (total 4 columns):\n",
      " #   Column                Dtype \n",
      "---  ------                ----- \n",
      " 0   Dispatching_base_num  object\n",
      " 1   Pickup_date           object\n",
      " 2   Affiliated_base_num   object\n",
      " 3   locationID            int64 \n",
      "dtypes: int64(1), object(3)\n",
      "memory usage: 435.5+ MB\n"
     ]
    }
   ],
   "source": [
    "df.info()"
   ]
  },
  {
   "cell_type": "code",
   "execution_count": 6,
   "metadata": {},
   "outputs": [],
   "source": [
    "# 162195 Nan dans colonne \"Affiliated_base_num\" soit 1.14% de la colonne\n",
    "# on peut supprimer les Nan sachant qu'elles sont catégorielles on ne peut pas\n",
    "# les remplacer par mean ou autre (et remplacer par \"Unknown\" ne serait pas utile ici)"
   ]
  },
  {
   "cell_type": "code",
   "execution_count": 7,
   "metadata": {},
   "outputs": [],
   "source": [
    "#df=df.dropna(subset=[\"Affiliated_base_num\"], inplace=True)\n",
    "#df.head()"
   ]
  },
  {
   "cell_type": "code",
   "execution_count": 8,
   "metadata": {},
   "outputs": [
    {
     "data": {
      "text/html": [
       "<div>\n",
       "<style scoped>\n",
       "    .dataframe tbody tr th:only-of-type {\n",
       "        vertical-align: middle;\n",
       "    }\n",
       "\n",
       "    .dataframe tbody tr th {\n",
       "        vertical-align: top;\n",
       "    }\n",
       "\n",
       "    .dataframe thead th {\n",
       "        text-align: right;\n",
       "    }\n",
       "</style>\n",
       "<table border=\"1\" class=\"dataframe\">\n",
       "  <thead>\n",
       "    <tr style=\"text-align: right;\">\n",
       "      <th></th>\n",
       "      <th>Dispatching_base_num</th>\n",
       "      <th>Pickup_date</th>\n",
       "      <th>Affiliated_base_num</th>\n",
       "      <th>locationID</th>\n",
       "    </tr>\n",
       "  </thead>\n",
       "  <tbody>\n",
       "    <tr>\n",
       "      <th>8516104</th>\n",
       "      <td>B02764</td>\n",
       "      <td>2015-01-02 15:22:29</td>\n",
       "      <td>B02764</td>\n",
       "      <td>107</td>\n",
       "    </tr>\n",
       "    <tr>\n",
       "      <th>1154095</th>\n",
       "      <td>B02682</td>\n",
       "      <td>2015-02-13 19:15:08</td>\n",
       "      <td>B02682</td>\n",
       "      <td>231</td>\n",
       "    </tr>\n",
       "    <tr>\n",
       "      <th>409597</th>\n",
       "      <td>B02682</td>\n",
       "      <td>2015-03-30 08:04:00</td>\n",
       "      <td>B02682</td>\n",
       "      <td>237</td>\n",
       "    </tr>\n",
       "    <tr>\n",
       "      <th>2450883</th>\n",
       "      <td>B02764</td>\n",
       "      <td>2015-04-10 10:02:00</td>\n",
       "      <td>B02764</td>\n",
       "      <td>140</td>\n",
       "    </tr>\n",
       "    <tr>\n",
       "      <th>13767350</th>\n",
       "      <td>B02765</td>\n",
       "      <td>2015-04-23 23:03:00</td>\n",
       "      <td>B02765</td>\n",
       "      <td>211</td>\n",
       "    </tr>\n",
       "  </tbody>\n",
       "</table>\n",
       "</div>"
      ],
      "text/plain": [
       "         Dispatching_base_num          Pickup_date Affiliated_base_num  \\\n",
       "8516104                B02764  2015-01-02 15:22:29              B02764   \n",
       "1154095                B02682  2015-02-13 19:15:08              B02682   \n",
       "409597                 B02682  2015-03-30 08:04:00              B02682   \n",
       "2450883                B02764  2015-04-10 10:02:00              B02764   \n",
       "13767350               B02765  2015-04-23 23:03:00              B02765   \n",
       "\n",
       "          locationID  \n",
       "8516104          107  \n",
       "1154095          231  \n",
       "409597           237  \n",
       "2450883          140  \n",
       "13767350         211  "
      ]
     },
     "execution_count": 8,
     "metadata": {},
     "output_type": "execute_result"
    }
   ],
   "source": [
    "df_sample=df.sample(1000)\n",
    "df_sample.head()"
   ]
  },
  {
   "cell_type": "markdown",
   "metadata": {},
   "source": [
    "Vérification que les colonnes 'Dispatching_base_num' et 'Affiliated_base_num' ne sont pas identiques car en apparence on dirait qu'elles le sont.\n",
    "NB : A ce stade, c'est pas pour autant que je sais quoi en faire..."
   ]
  },
  {
   "cell_type": "code",
   "execution_count": 11,
   "metadata": {},
   "outputs": [
    {
     "name": "stdout",
     "output_type": "stream",
     "text": [
      "         Dispatching_base_num          Pickup_date Affiliated_base_num  \\\n",
      "8516104                B02764  2015-01-02 15:22:29              B02764   \n",
      "1154095                B02682  2015-02-13 19:15:08              B02682   \n",
      "409597                 B02682  2015-03-30 08:04:00              B02682   \n",
      "2450883                B02764  2015-04-10 10:02:00              B02764   \n",
      "13767350               B02765  2015-04-23 23:03:00              B02765   \n",
      "...                       ...                  ...                 ...   \n",
      "5205812                B02764  2015-01-26 09:25:43              B02764   \n",
      "1501716                B02598  2015-02-08 23:21:48              B02598   \n",
      "10944900               B02682  2015-05-12 12:16:00              B02682   \n",
      "11613010               B02764  2015-03-22 03:14:00              B02764   \n",
      "11555073               B02682  2015-03-25 17:08:00              B00111   \n",
      "\n",
      "          locationID  Colonnes_Identiques  \n",
      "8516104          107                 True  \n",
      "1154095          231                 True  \n",
      "409597           237                 True  \n",
      "2450883          140                 True  \n",
      "13767350         211                 True  \n",
      "...              ...                  ...  \n",
      "5205812          262                 True  \n",
      "1501716           48                 True  \n",
      "10944900         255                 True  \n",
      "11613010         130                 True  \n",
      "11555073         143                False  \n",
      "\n",
      "[1000 rows x 5 columns]\n",
      "True     743\n",
      "False    257\n",
      "Name: Colonnes_Identiques, dtype: int64\n"
     ]
    }
   ],
   "source": [
    "df_sample['Colonnes_Identiques'] = df['Dispatching_base_num'] == df['Affiliated_base_num']\n",
    "print(df_sample)\n",
    "comptage = df_sample['Colonnes_Identiques'].value_counts()\n",
    "print(comptage)"
   ]
  },
  {
   "cell_type": "markdown",
   "metadata": {},
   "source": [
    "Non elles ne le sont pas : sur df_sample, 743 lignes de ces colonnes sont identiques contre 257 qui ne le sont pas."
   ]
  },
  {
   "cell_type": "code",
   "execution_count": 9,
   "metadata": {},
   "outputs": [
    {
     "name": "stdout",
     "output_type": "stream",
     "text": [
      "Éléments uniques de 'locationID':\n",
      "[141  65 100  80  90 228   7  74 249  22 263  61 229 164 237 142 188 224\n",
      " 238 242  95 236 233 230 162 234 161  87 246 186  48 158 137 135 145 231\n",
      " 125 132 170 239  41 148  79 113  68 147 255 256 181 138 166 174  62  75\n",
      " 143  37  33  50  17 226  28  70 235 247 244  89 112 140  42  36  94 163\n",
      "  20  88  64   4 153 114 225 209 144 146  69  97  29 129  43 107  85 179\n",
      "  25  14 262  82 106 232 151 261 189 149 250  55 243 211  45  13 196 198\n",
      "  76  49 116 216  39  66 169 223 227 131 182 197 108  10 184 203 168 123\n",
      " 121 195 210  63  52 157  72  18 119 260  67  40  71 219 257 251 133  92\n",
      "  56 258 192 220 213 193  54 248 200 127 126 175  32  21 152 171  24 218\n",
      " 165   3 191  16 240 124  53 178  73  98 111  34 118 180 254  27  26 212\n",
      "  51 222 202 259   8 245 134 155 130 190 102 241   6  81 159 252  91 185\n",
      " 173 265  15 183  58 154  93 208 205   9 167 177  35  19  60 160  11 217\n",
      "  78  77 215 101 150 136 139 207  47  12  83 122  57 194 214  38  96 128\n",
      "  31 117 115  86  23  59   1 253 187 221  46 109   5 206 120 176 201  30\n",
      " 156 172 204  99 105  84  44   2 264 110]\n",
      "\n",
      "Occurrences de chaque élément de 'locationID':\n",
      "161    460732\n",
      "231    420356\n",
      "234    419045\n",
      "79     407591\n",
      "249    323989\n",
      "        ...  \n",
      "105        12\n",
      "99          9\n",
      "2           8\n",
      "264         7\n",
      "110         2\n",
      "Name: locationID, Length: 262, dtype: int64\n"
     ]
    }
   ],
   "source": [
    "elements_uniques = df['locationID'].unique()\n",
    "\n",
    "# Pour voir si un élément se répète, vous pouvez également utiliser value_counts()\n",
    "occurrences = df['locationID'].value_counts()\n",
    "\n",
    "# Affichez les éléments uniques\n",
    "print(\"Éléments uniques de 'locationID':\")\n",
    "print(elements_uniques)\n",
    "\n",
    "# Affichez les occurrences de chaque élément\n",
    "print(\"\\nOccurrences de chaque élément de 'locationID':\")\n",
    "print(occurrences)"
   ]
  }
 ],
 "metadata": {
  "kernelspec": {
   "display_name": "base",
   "language": "python",
   "name": "python3"
  },
  "language_info": {
   "codemirror_mode": {
    "name": "ipython",
    "version": 3
   },
   "file_extension": ".py",
   "mimetype": "text/x-python",
   "name": "python",
   "nbconvert_exporter": "python",
   "pygments_lexer": "ipython3",
   "version": "3.9.13"
  }
 },
 "nbformat": 4,
 "nbformat_minor": 2
}
