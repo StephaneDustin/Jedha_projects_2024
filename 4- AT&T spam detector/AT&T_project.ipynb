{
 "cells": [
  {
   "cell_type": "markdown",
   "metadata": {},
   "source": [
    "-----------------------------------------------------------------------------------------------------------------"
   ]
  },
  {
   "cell_type": "markdown",
   "metadata": {},
   "source": [
    "--------------- WELCOME TO THIS 'SPAM DETECTOR PROJECT', USING RNN, FINE-TUNING ----------------------------------"
   ]
  },
  {
   "cell_type": "markdown",
   "metadata": {},
   "source": [
    "-----------------------------------------------------------------------------------------------------------------"
   ]
  },
  {
   "cell_type": "markdown",
   "metadata": {},
   "source": [
    "-------------------- PART I : INSTALLING LIBRARIES, EXPLORATORY DATA ANALYSIS ---------------------------------"
   ]
  },
  {
   "cell_type": "code",
   "execution_count": 20,
   "metadata": {},
   "outputs": [],
   "source": [
    "#!pip install pandas"
   ]
  },
  {
   "cell_type": "markdown",
   "metadata": {},
   "source": [
    "Facing cache env issues I have to run this nb with two kernel. Not you :-)\n",
    "Reminder : Use Kernel \"tensorflow2_9(Python 3.8.18)\" until part IV, use Kernel \".Conda new_tensor_env\"  \n",
    "for part IV"
   ]
  },
  {
   "cell_type": "code",
   "execution_count": 21,
   "metadata": {},
   "outputs": [],
   "source": [
    "import pandas as pd"
   ]
  },
  {
   "cell_type": "code",
   "execution_count": 22,
   "metadata": {},
   "outputs": [],
   "source": [
    "import os\n",
    "import io\n",
    "import warnings\n",
    "import pathlib"
   ]
  },
  {
   "cell_type": "code",
   "execution_count": 23,
   "metadata": {},
   "outputs": [],
   "source": [
    "#warnings.filterwarnings('ignore')"
   ]
  },
  {
   "cell_type": "code",
   "execution_count": 24,
   "metadata": {},
   "outputs": [
    {
     "data": {
      "text/html": [
       "<div>\n",
       "<style scoped>\n",
       "    .dataframe tbody tr th:only-of-type {\n",
       "        vertical-align: middle;\n",
       "    }\n",
       "\n",
       "    .dataframe tbody tr th {\n",
       "        vertical-align: top;\n",
       "    }\n",
       "\n",
       "    .dataframe thead th {\n",
       "        text-align: right;\n",
       "    }\n",
       "</style>\n",
       "<table border=\"1\" class=\"dataframe\">\n",
       "  <thead>\n",
       "    <tr style=\"text-align: right;\">\n",
       "      <th></th>\n",
       "      <th>v1</th>\n",
       "      <th>v2</th>\n",
       "      <th>Unnamed: 2</th>\n",
       "      <th>Unnamed: 3</th>\n",
       "      <th>Unnamed: 4</th>\n",
       "    </tr>\n",
       "  </thead>\n",
       "  <tbody>\n",
       "    <tr>\n",
       "      <th>0</th>\n",
       "      <td>ham</td>\n",
       "      <td>Go until jurong point, crazy.. Available only ...</td>\n",
       "      <td>NaN</td>\n",
       "      <td>NaN</td>\n",
       "      <td>NaN</td>\n",
       "    </tr>\n",
       "    <tr>\n",
       "      <th>1</th>\n",
       "      <td>ham</td>\n",
       "      <td>Ok lar... Joking wif u oni...</td>\n",
       "      <td>NaN</td>\n",
       "      <td>NaN</td>\n",
       "      <td>NaN</td>\n",
       "    </tr>\n",
       "    <tr>\n",
       "      <th>2</th>\n",
       "      <td>spam</td>\n",
       "      <td>Free entry in 2 a wkly comp to win FA Cup fina...</td>\n",
       "      <td>NaN</td>\n",
       "      <td>NaN</td>\n",
       "      <td>NaN</td>\n",
       "    </tr>\n",
       "    <tr>\n",
       "      <th>3</th>\n",
       "      <td>ham</td>\n",
       "      <td>U dun say so early hor... U c already then say...</td>\n",
       "      <td>NaN</td>\n",
       "      <td>NaN</td>\n",
       "      <td>NaN</td>\n",
       "    </tr>\n",
       "    <tr>\n",
       "      <th>4</th>\n",
       "      <td>ham</td>\n",
       "      <td>Nah I don't think he goes to usf, he lives aro...</td>\n",
       "      <td>NaN</td>\n",
       "      <td>NaN</td>\n",
       "      <td>NaN</td>\n",
       "    </tr>\n",
       "  </tbody>\n",
       "</table>\n",
       "</div>"
      ],
      "text/plain": [
       "     v1                                                 v2 Unnamed: 2  \\\n",
       "0   ham  Go until jurong point, crazy.. Available only ...        NaN   \n",
       "1   ham                      Ok lar... Joking wif u oni...        NaN   \n",
       "2  spam  Free entry in 2 a wkly comp to win FA Cup fina...        NaN   \n",
       "3   ham  U dun say so early hor... U c already then say...        NaN   \n",
       "4   ham  Nah I don't think he goes to usf, he lives aro...        NaN   \n",
       "\n",
       "  Unnamed: 3 Unnamed: 4  \n",
       "0        NaN        NaN  \n",
       "1        NaN        NaN  \n",
       "2        NaN        NaN  \n",
       "3        NaN        NaN  \n",
       "4        NaN        NaN  "
      ]
     },
     "execution_count": 24,
     "metadata": {},
     "output_type": "execute_result"
    }
   ],
   "source": [
    "# OPENING CSV file\n",
    "df=pd.read_csv('spam.csv', encoding='latin-1')\n",
    "df.head()"
   ]
  },
  {
   "cell_type": "code",
   "execution_count": 25,
   "metadata": {},
   "outputs": [
    {
     "data": {
      "text/html": [
       "<div>\n",
       "<style scoped>\n",
       "    .dataframe tbody tr th:only-of-type {\n",
       "        vertical-align: middle;\n",
       "    }\n",
       "\n",
       "    .dataframe tbody tr th {\n",
       "        vertical-align: top;\n",
       "    }\n",
       "\n",
       "    .dataframe thead th {\n",
       "        text-align: right;\n",
       "    }\n",
       "</style>\n",
       "<table border=\"1\" class=\"dataframe\">\n",
       "  <thead>\n",
       "    <tr style=\"text-align: right;\">\n",
       "      <th></th>\n",
       "      <th>v1</th>\n",
       "      <th>v2</th>\n",
       "      <th>Unnamed: 2</th>\n",
       "      <th>Unnamed: 3</th>\n",
       "      <th>Unnamed: 4</th>\n",
       "    </tr>\n",
       "  </thead>\n",
       "  <tbody>\n",
       "    <tr>\n",
       "      <th>5567</th>\n",
       "      <td>spam</td>\n",
       "      <td>This is the 2nd time we have tried 2 contact u...</td>\n",
       "      <td>NaN</td>\n",
       "      <td>NaN</td>\n",
       "      <td>NaN</td>\n",
       "    </tr>\n",
       "    <tr>\n",
       "      <th>5568</th>\n",
       "      <td>ham</td>\n",
       "      <td>Will Ì_ b going to esplanade fr home?</td>\n",
       "      <td>NaN</td>\n",
       "      <td>NaN</td>\n",
       "      <td>NaN</td>\n",
       "    </tr>\n",
       "    <tr>\n",
       "      <th>5569</th>\n",
       "      <td>ham</td>\n",
       "      <td>Pity, * was in mood for that. So...any other s...</td>\n",
       "      <td>NaN</td>\n",
       "      <td>NaN</td>\n",
       "      <td>NaN</td>\n",
       "    </tr>\n",
       "    <tr>\n",
       "      <th>5570</th>\n",
       "      <td>ham</td>\n",
       "      <td>The guy did some bitching but I acted like i'd...</td>\n",
       "      <td>NaN</td>\n",
       "      <td>NaN</td>\n",
       "      <td>NaN</td>\n",
       "    </tr>\n",
       "    <tr>\n",
       "      <th>5571</th>\n",
       "      <td>ham</td>\n",
       "      <td>Rofl. Its true to its name</td>\n",
       "      <td>NaN</td>\n",
       "      <td>NaN</td>\n",
       "      <td>NaN</td>\n",
       "    </tr>\n",
       "  </tbody>\n",
       "</table>\n",
       "</div>"
      ],
      "text/plain": [
       "        v1                                                 v2 Unnamed: 2  \\\n",
       "5567  spam  This is the 2nd time we have tried 2 contact u...        NaN   \n",
       "5568   ham              Will Ì_ b going to esplanade fr home?        NaN   \n",
       "5569   ham  Pity, * was in mood for that. So...any other s...        NaN   \n",
       "5570   ham  The guy did some bitching but I acted like i'd...        NaN   \n",
       "5571   ham                         Rofl. Its true to its name        NaN   \n",
       "\n",
       "     Unnamed: 3 Unnamed: 4  \n",
       "5567        NaN        NaN  \n",
       "5568        NaN        NaN  \n",
       "5569        NaN        NaN  \n",
       "5570        NaN        NaN  \n",
       "5571        NaN        NaN  "
      ]
     },
     "execution_count": 25,
     "metadata": {},
     "output_type": "execute_result"
    }
   ],
   "source": [
    "df.tail()"
   ]
  },
  {
   "cell_type": "code",
   "execution_count": 26,
   "metadata": {},
   "outputs": [
    {
     "name": "stdout",
     "output_type": "stream",
     "text": [
      "Nombre de NaN dans 'Unnamed: 2': 5522 / 5572\n",
      "Nombre de NaN dans 'Unnamed: 3': 5560 / 5572\n",
      "Nombre de NaN dans 'Unnamed: 4': 5566 / 5572\n"
     ]
    }
   ],
   "source": [
    "nan_2 = df['Unnamed: 2'].isna().sum()\n",
    "nan_3 = df['Unnamed: 3'].isna().sum()\n",
    "nan_4 = df['Unnamed: 4'].isna().sum()\n",
    "\n",
    "print(\"Nombre de NaN dans 'Unnamed: 2':\", nan_2, \"/\", len(df['Unnamed: 2']))\n",
    "print(\"Nombre de NaN dans 'Unnamed: 3':\", nan_3, \"/\", len(df['Unnamed: 3']))\n",
    "print(\"Nombre de NaN dans 'Unnamed: 4':\", nan_4, \"/\", len(df['Unnamed: 4']))"
   ]
  },
  {
   "cell_type": "markdown",
   "metadata": {},
   "source": [
    "we can in first approache drop those unuseless 3 cols :"
   ]
  },
  {
   "cell_type": "code",
   "execution_count": 27,
   "metadata": {},
   "outputs": [],
   "source": [
    "df=df.drop(['Unnamed: 2', 'Unnamed: 3', 'Unnamed: 4'], axis=1)"
   ]
  },
  {
   "cell_type": "code",
   "execution_count": 28,
   "metadata": {},
   "outputs": [
    {
     "data": {
      "text/html": [
       "<div>\n",
       "<style scoped>\n",
       "    .dataframe tbody tr th:only-of-type {\n",
       "        vertical-align: middle;\n",
       "    }\n",
       "\n",
       "    .dataframe tbody tr th {\n",
       "        vertical-align: top;\n",
       "    }\n",
       "\n",
       "    .dataframe thead th {\n",
       "        text-align: right;\n",
       "    }\n",
       "</style>\n",
       "<table border=\"1\" class=\"dataframe\">\n",
       "  <thead>\n",
       "    <tr style=\"text-align: right;\">\n",
       "      <th></th>\n",
       "      <th>v1</th>\n",
       "      <th>v2</th>\n",
       "    </tr>\n",
       "  </thead>\n",
       "  <tbody>\n",
       "    <tr>\n",
       "      <th>0</th>\n",
       "      <td>ham</td>\n",
       "      <td>Go until jurong point, crazy.. Available only ...</td>\n",
       "    </tr>\n",
       "    <tr>\n",
       "      <th>1</th>\n",
       "      <td>ham</td>\n",
       "      <td>Ok lar... Joking wif u oni...</td>\n",
       "    </tr>\n",
       "    <tr>\n",
       "      <th>2</th>\n",
       "      <td>spam</td>\n",
       "      <td>Free entry in 2 a wkly comp to win FA Cup fina...</td>\n",
       "    </tr>\n",
       "    <tr>\n",
       "      <th>3</th>\n",
       "      <td>ham</td>\n",
       "      <td>U dun say so early hor... U c already then say...</td>\n",
       "    </tr>\n",
       "    <tr>\n",
       "      <th>4</th>\n",
       "      <td>ham</td>\n",
       "      <td>Nah I don't think he goes to usf, he lives aro...</td>\n",
       "    </tr>\n",
       "    <tr>\n",
       "      <th>5</th>\n",
       "      <td>spam</td>\n",
       "      <td>FreeMsg Hey there darling it's been 3 week's n...</td>\n",
       "    </tr>\n",
       "    <tr>\n",
       "      <th>6</th>\n",
       "      <td>ham</td>\n",
       "      <td>Even my brother is not like to speak with me. ...</td>\n",
       "    </tr>\n",
       "    <tr>\n",
       "      <th>7</th>\n",
       "      <td>ham</td>\n",
       "      <td>As per your request 'Melle Melle (Oru Minnamin...</td>\n",
       "    </tr>\n",
       "    <tr>\n",
       "      <th>8</th>\n",
       "      <td>spam</td>\n",
       "      <td>WINNER!! As a valued network customer you have...</td>\n",
       "    </tr>\n",
       "    <tr>\n",
       "      <th>9</th>\n",
       "      <td>spam</td>\n",
       "      <td>Had your mobile 11 months or more? U R entitle...</td>\n",
       "    </tr>\n",
       "  </tbody>\n",
       "</table>\n",
       "</div>"
      ],
      "text/plain": [
       "     v1                                                 v2\n",
       "0   ham  Go until jurong point, crazy.. Available only ...\n",
       "1   ham                      Ok lar... Joking wif u oni...\n",
       "2  spam  Free entry in 2 a wkly comp to win FA Cup fina...\n",
       "3   ham  U dun say so early hor... U c already then say...\n",
       "4   ham  Nah I don't think he goes to usf, he lives aro...\n",
       "5  spam  FreeMsg Hey there darling it's been 3 week's n...\n",
       "6   ham  Even my brother is not like to speak with me. ...\n",
       "7   ham  As per your request 'Melle Melle (Oru Minnamin...\n",
       "8  spam  WINNER!! As a valued network customer you have...\n",
       "9  spam  Had your mobile 11 months or more? U R entitle..."
      ]
     },
     "execution_count": 28,
     "metadata": {},
     "output_type": "execute_result"
    }
   ],
   "source": [
    "df.head(10)"
   ]
  },
  {
   "cell_type": "code",
   "execution_count": 29,
   "metadata": {},
   "outputs": [
    {
     "name": "stdout",
     "output_type": "stream",
     "text": [
      "v1\n",
      "ham     4825\n",
      "spam     747\n",
      "Name: count, dtype: int64\n",
      "v1\n",
      "ham     86.593683\n",
      "spam    13.406317\n",
      "Name: proportion, dtype: float64\n"
     ]
    }
   ],
   "source": [
    "# voyons si les catégories spam/non spam sont équilibrées:\n",
    "category_counts = df['v1'].value_counts()\n",
    "\n",
    "print(category_counts)\n",
    "\n",
    "category_percentage = df['v1'].value_counts(normalize=True) * 100\n",
    "print(category_percentage)"
   ]
  },
  {
   "cell_type": "markdown",
   "metadata": {},
   "source": [
    "Wow : This dataset is imbalanced !  \n",
    "We'll have to use 'Randomoversampler' library to increase the 'spam' features to equilibrate the dataset.  \n",
    "We could also modify weights during the training of our RNN to come."
   ]
  },
  {
   "cell_type": "code",
   "execution_count": 34,
   "metadata": {},
   "outputs": [],
   "source": [
    "#!pip install spacy\n",
    "# passer par terminal"
   ]
  },
  {
   "cell_type": "markdown",
   "metadata": {},
   "source": [
    "------------------------------- > PART II: PREPROCESSING TEXT DATAS WITH SPACY < --------------------------------"
   ]
  },
  {
   "cell_type": "markdown",
   "metadata": {},
   "source": [
    "Let begin cleaning the text of v2 column with Spacy for english text"
   ]
  },
  {
   "cell_type": "code",
   "execution_count": 35,
   "metadata": {},
   "outputs": [],
   "source": [
    "#!python -m spacy download en_core_web_sm"
   ]
  },
  {
   "cell_type": "code",
   "execution_count": 36,
   "metadata": {},
   "outputs": [],
   "source": [
    "import en_core_web_sm\n",
    "nlp = en_core_web_sm.load()"
   ]
  },
  {
   "cell_type": "code",
   "execution_count": 37,
   "metadata": {},
   "outputs": [],
   "source": [
    "from spacy.lang.en.stop_words import STOP_WORDS"
   ]
  },
  {
   "cell_type": "code",
   "execution_count": 38,
   "metadata": {},
   "outputs": [],
   "source": [
    "df[\"v2_clean\"] = df[\"v2\"].apply(lambda x:''.join(ch for ch in x if ch.isalnum() or ch==\" \" or ch==\"'\"))\n",
    "df[\"v2_clean\"] = df[\"v2_clean\"].apply(lambda x: x.replace(\" +\",\" \").lower().strip())\n",
    "df[\"v2_clean\"] = df[\"v2_clean\"].apply(lambda x: \" \".join([token.lemma_ for token in nlp(x) if (token.lemma_ not in STOP_WORDS) and (token.text not in STOP_WORDS)]))"
   ]
  },
  {
   "cell_type": "code",
   "execution_count": 39,
   "metadata": {},
   "outputs": [
    {
     "data": {
      "text/html": [
       "<div>\n",
       "<style scoped>\n",
       "    .dataframe tbody tr th:only-of-type {\n",
       "        vertical-align: middle;\n",
       "    }\n",
       "\n",
       "    .dataframe tbody tr th {\n",
       "        vertical-align: top;\n",
       "    }\n",
       "\n",
       "    .dataframe thead th {\n",
       "        text-align: right;\n",
       "    }\n",
       "</style>\n",
       "<table border=\"1\" class=\"dataframe\">\n",
       "  <thead>\n",
       "    <tr style=\"text-align: right;\">\n",
       "      <th></th>\n",
       "      <th>v1</th>\n",
       "      <th>v2</th>\n",
       "      <th>v2_clean</th>\n",
       "    </tr>\n",
       "  </thead>\n",
       "  <tbody>\n",
       "    <tr>\n",
       "      <th>0</th>\n",
       "      <td>ham</td>\n",
       "      <td>Go until jurong point, crazy.. Available only ...</td>\n",
       "      <td>jurong point crazy available bugis n great wor...</td>\n",
       "    </tr>\n",
       "    <tr>\n",
       "      <th>1</th>\n",
       "      <td>ham</td>\n",
       "      <td>Ok lar... Joking wif u oni...</td>\n",
       "      <td>ok lar joke wif u oni</td>\n",
       "    </tr>\n",
       "    <tr>\n",
       "      <th>2</th>\n",
       "      <td>spam</td>\n",
       "      <td>Free entry in 2 a wkly comp to win FA Cup fina...</td>\n",
       "      <td>free entry 2 wkly comp win fa cup final tkts 2...</td>\n",
       "    </tr>\n",
       "    <tr>\n",
       "      <th>3</th>\n",
       "      <td>ham</td>\n",
       "      <td>U dun say so early hor... U c already then say...</td>\n",
       "      <td>u dun early hor u c</td>\n",
       "    </tr>\n",
       "    <tr>\n",
       "      <th>4</th>\n",
       "      <td>ham</td>\n",
       "      <td>Nah I don't think he goes to usf, he lives aro...</td>\n",
       "      <td>nah think usf live</td>\n",
       "    </tr>\n",
       "  </tbody>\n",
       "</table>\n",
       "</div>"
      ],
      "text/plain": [
       "     v1                                                 v2  \\\n",
       "0   ham  Go until jurong point, crazy.. Available only ...   \n",
       "1   ham                      Ok lar... Joking wif u oni...   \n",
       "2  spam  Free entry in 2 a wkly comp to win FA Cup fina...   \n",
       "3   ham  U dun say so early hor... U c already then say...   \n",
       "4   ham  Nah I don't think he goes to usf, he lives aro...   \n",
       "\n",
       "                                            v2_clean  \n",
       "0  jurong point crazy available bugis n great wor...  \n",
       "1                              ok lar joke wif u oni  \n",
       "2  free entry 2 wkly comp win fa cup final tkts 2...  \n",
       "3                                u dun early hor u c  \n",
       "4                                 nah think usf live  "
      ]
     },
     "execution_count": 39,
     "metadata": {},
     "output_type": "execute_result"
    }
   ],
   "source": [
    "df.head()"
   ]
  },
  {
   "cell_type": "code",
   "execution_count": 40,
   "metadata": {},
   "outputs": [
    {
     "data": {
      "text/html": [
       "<div>\n",
       "<style scoped>\n",
       "    .dataframe tbody tr th:only-of-type {\n",
       "        vertical-align: middle;\n",
       "    }\n",
       "\n",
       "    .dataframe tbody tr th {\n",
       "        vertical-align: top;\n",
       "    }\n",
       "\n",
       "    .dataframe thead th {\n",
       "        text-align: right;\n",
       "    }\n",
       "</style>\n",
       "<table border=\"1\" class=\"dataframe\">\n",
       "  <thead>\n",
       "    <tr style=\"text-align: right;\">\n",
       "      <th></th>\n",
       "      <th>v1</th>\n",
       "      <th>v2</th>\n",
       "      <th>v2_clean</th>\n",
       "    </tr>\n",
       "  </thead>\n",
       "  <tbody>\n",
       "    <tr>\n",
       "      <th>5567</th>\n",
       "      <td>spam</td>\n",
       "      <td>This is the 2nd time we have tried 2 contact u...</td>\n",
       "      <td>2nd time try 2 contact u u win å750 pound priz...</td>\n",
       "    </tr>\n",
       "    <tr>\n",
       "      <th>5568</th>\n",
       "      <td>ham</td>\n",
       "      <td>Will Ì_ b going to esplanade fr home?</td>\n",
       "      <td>ì b esplanade fr home</td>\n",
       "    </tr>\n",
       "    <tr>\n",
       "      <th>5569</th>\n",
       "      <td>ham</td>\n",
       "      <td>Pity, * was in mood for that. So...any other s...</td>\n",
       "      <td>pity   mood soany suggestion</td>\n",
       "    </tr>\n",
       "    <tr>\n",
       "      <th>5570</th>\n",
       "      <td>ham</td>\n",
       "      <td>The guy did some bitching but I acted like i'd...</td>\n",
       "      <td>guy bitching act like interested buy week free</td>\n",
       "    </tr>\n",
       "    <tr>\n",
       "      <th>5571</th>\n",
       "      <td>ham</td>\n",
       "      <td>Rofl. Its true to its name</td>\n",
       "      <td>rofl true</td>\n",
       "    </tr>\n",
       "  </tbody>\n",
       "</table>\n",
       "</div>"
      ],
      "text/plain": [
       "        v1                                                 v2  \\\n",
       "5567  spam  This is the 2nd time we have tried 2 contact u...   \n",
       "5568   ham              Will Ì_ b going to esplanade fr home?   \n",
       "5569   ham  Pity, * was in mood for that. So...any other s...   \n",
       "5570   ham  The guy did some bitching but I acted like i'd...   \n",
       "5571   ham                         Rofl. Its true to its name   \n",
       "\n",
       "                                               v2_clean  \n",
       "5567  2nd time try 2 contact u u win å750 pound priz...  \n",
       "5568                              ì b esplanade fr home  \n",
       "5569                       pity   mood soany suggestion  \n",
       "5570     guy bitching act like interested buy week free  \n",
       "5571                                          rofl true  "
      ]
     },
     "execution_count": 40,
     "metadata": {},
     "output_type": "execute_result"
    }
   ],
   "source": [
    "df.tail()"
   ]
  },
  {
   "cell_type": "markdown",
   "metadata": {},
   "source": [
    "Let's check if all values of v2_clean column are text ones :"
   ]
  },
  {
   "cell_type": "code",
   "execution_count": 41,
   "metadata": {},
   "outputs": [
    {
     "data": {
      "text/plain": [
       "v2_clean\n",
       "True    5572\n",
       "Name: count, dtype: int64"
      ]
     },
     "execution_count": 41,
     "metadata": {},
     "output_type": "execute_result"
    }
   ],
   "source": [
    "mask = df.v2_clean.apply(lambda x: type(x)==str)\n",
    "mask.value_counts()"
   ]
  },
  {
   "cell_type": "markdown",
   "metadata": {},
   "source": [
    "That's it.\n",
    "In term of preprocessing we now define again df using mask filter :"
   ]
  },
  {
   "cell_type": "code",
   "execution_count": 42,
   "metadata": {},
   "outputs": [],
   "source": [
    "df = df.loc[mask,:]"
   ]
  },
  {
   "cell_type": "code",
   "execution_count": null,
   "metadata": {},
   "outputs": [],
   "source": [
    "#!pip install tensorflow==2.9"
   ]
  },
  {
   "cell_type": "code",
   "execution_count": null,
   "metadata": {},
   "outputs": [],
   "source": [
    "#!pip install protobuf==3.20.*"
   ]
  },
  {
   "cell_type": "code",
   "execution_count": 43,
   "metadata": {},
   "outputs": [
    {
     "name": "stdout",
     "output_type": "stream",
     "text": [
      "Package                      Version\n",
      "---------------------------- ----------\n",
      "absl-py                      2.1.0\n",
      "annotated-types              0.6.0\n",
      "asttokens                    2.4.1\n",
      "astunparse                   1.6.3\n",
      "backcall                     0.2.0\n",
      "blis                         0.7.11\n",
      "Brotli                       1.0.9\n",
      "cachetools                   5.3.3\n",
      "catalogue                    2.0.10\n",
      "certifi                      2024.2.2\n",
      "charset-normalizer           2.0.4\n",
      "click                        8.1.7\n",
      "cloudpathlib                 0.16.0\n",
      "colorama                     0.4.6\n",
      "comm                         0.2.2\n",
      "confection                   0.1.4\n",
      "cymem                        2.0.6\n",
      "dataclasses                  0.8\n",
      "debugpy                      1.8.1\n",
      "decorator                    5.1.1\n",
      "en-core-web-sm               3.5.0\n",
      "executing                    2.0.1\n",
      "filelock                     3.13.3\n",
      "flatbuffers                  24.3.25\n",
      "fsspec                       2024.3.1\n",
      "gast                         0.4.0\n",
      "google-auth                  2.29.0\n",
      "google-auth-oauthlib         0.4.6\n",
      "google-pasta                 0.2.0\n",
      "grpcio                       1.62.1\n",
      "h5py                         3.10.0\n",
      "huggingface-hub              0.22.2\n",
      "idna                         3.4\n",
      "importlib_metadata           7.1.0\n",
      "ipykernel                    6.29.3\n",
      "ipython                      8.12.2\n",
      "jedi                         0.19.1\n",
      "Jinja2                       3.1.3\n",
      "jupyter_client               8.6.1\n",
      "jupyter_core                 5.7.2\n",
      "keras                        2.10.0\n",
      "Keras-Preprocessing          1.1.2\n",
      "langcodes                    3.3.0\n",
      "libclang                     18.1.1\n",
      "Markdown                     3.6\n",
      "markdown-it-py               2.2.0\n",
      "MarkupSafe                   2.1.3\n",
      "matplotlib-inline            0.1.6\n",
      "mdurl                        0.1.0\n",
      "mkl-fft                      1.3.8\n",
      "mkl-random                   1.2.4\n",
      "mkl-service                  2.4.0\n",
      "murmurhash                   1.0.10\n",
      "nest_asyncio                 1.6.0\n",
      "numpy                        1.24.3\n",
      "oauthlib                     3.2.2\n",
      "opt-einsum                   3.3.0\n",
      "packaging                    24.0\n",
      "pandas                       2.0.3\n",
      "parso                        0.8.3\n",
      "pathy                        0.10.2\n",
      "pickleshare                  0.7.5\n",
      "pip                          23.3.1\n",
      "platformdirs                 4.2.0\n",
      "preshed                      3.0.6\n",
      "prompt-toolkit               3.0.42\n",
      "protobuf                     3.19.6\n",
      "psutil                       5.9.8\n",
      "pure-eval                    0.2.2\n",
      "pyasn1                       0.6.0\n",
      "pyasn1_modules               0.4.0\n",
      "pydantic                     1.10.14\n",
      "pydantic_core                2.14.6\n",
      "Pygments                     2.17.2\n",
      "PySocks                      1.7.1\n",
      "python-dateutil              2.9.0\n",
      "pytz                         2024.1\n",
      "pywin32                      306\n",
      "PyYAML                       6.0.1\n",
      "pyzmq                        25.1.2\n",
      "regex                        2023.12.25\n",
      "requests                     2.31.0\n",
      "requests-oauthlib            2.0.0\n",
      "rich                         13.3.5\n",
      "rsa                          4.9\n",
      "safetensors                  0.4.2\n",
      "setuptools                   68.2.2\n",
      "shellingham                  1.5.0\n",
      "six                          1.16.0\n",
      "smart-open                   5.2.1\n",
      "spacy                        3.5.4\n",
      "spacy-legacy                 3.0.12\n",
      "spacy-loggers                1.0.4\n",
      "srsly                        2.4.8\n",
      "stack-data                   0.6.2\n",
      "tensorboard                  2.10.1\n",
      "tensorboard-data-server      0.6.1\n",
      "tensorboard-plugin-wit       1.8.1\n",
      "tensorflow                   2.10.1\n",
      "tensorflow-estimator         2.10.0\n",
      "tensorflow-hub               0.16.1\n",
      "tensorflow-intel             2.13.0\n",
      "tensorflow-io-gcs-filesystem 0.31.0\n",
      "tensorflow-text              2.10.0\n",
      "termcolor                    2.4.0\n",
      "tf-keras                     2.15.0\n",
      "thinc                        8.1.12\n",
      "tokenizers                   0.15.2\n",
      "tornado                      6.4\n",
      "tqdm                         4.65.0\n",
      "traitlets                    5.14.2\n",
      "transformers                 4.39.2\n",
      "typer                        0.9.0\n",
      "typing_extensions            4.10.0\n",
      "tzdata                       2024.1\n",
      "urllib3                      2.1.0\n",
      "wasabi                       0.9.1\n",
      "wcwidth                      0.2.13\n",
      "weasel                       0.3.4\n",
      "Werkzeug                     3.0.1\n",
      "wheel                        0.41.2\n",
      "win-inet-pton                1.1.0\n",
      "wrapt                        1.16.0\n",
      "zipp                         3.17.0\n"
     ]
    }
   ],
   "source": [
    "!pip list"
   ]
  },
  {
   "cell_type": "markdown",
   "metadata": {},
   "source": [
    "Here for a spam detector, we can use num_words=1000 as the used vocabulary is quite simple. Which reduces the entries dimensionality and so reduces complexity of model to be trained.\n",
    "Then we create the \"oov_token\" string to replace any unknowned word, so our model keeps on running. "
   ]
  },
  {
   "cell_type": "markdown",
   "metadata": {},
   "source": [
    "-------------------------------------- > DATAS TOKENISATION < -----------------------------------------------"
   ]
  },
  {
   "cell_type": "code",
   "execution_count": 44,
   "metadata": {},
   "outputs": [],
   "source": [
    "import numpy as np\n",
    "import tensorflow as tf"
   ]
  },
  {
   "cell_type": "code",
   "execution_count": 76,
   "metadata": {},
   "outputs": [],
   "source": [
    "from transformers import BertTokenizer\n",
    "\n",
    "#Load pre-trained BERT model\n",
    "model_name = 'bert-base-uncased'  # You can choose other variants too\n",
    "tokenizer2 = BertTokenizer.from_pretrained(model_name)\n"
   ]
  },
  {
   "cell_type": "code",
   "execution_count": 125,
   "metadata": {},
   "outputs": [],
   "source": [
    "max_length = 128\n",
    "def tokenize_text(text):\n",
    "    tokenized_output = tokenizer2(text, padding=True, truncation=True, max_length=max_length, return_tensors=\"tf\")\n",
    "    return tokenized_output['input_ids'][0].numpy()\n",
    "#Apply the tokenizer function to each element in the 'v2_clean' column\n",
    "encoded_sequences = df['v2_clean'].apply(tokenize_text)\n",
    "\n",
    "#Add the encoded sequences as a new column 'v2_clean_encoded' to the DataFrame\n",
    "df['v2_clean_encoded_bert'] = encoded_sequences\n"
   ]
  },
  {
   "cell_type": "code",
   "execution_count": 126,
   "metadata": {},
   "outputs": [
    {
     "data": {
      "text/html": [
       "<div>\n",
       "<style scoped>\n",
       "    .dataframe tbody tr th:only-of-type {\n",
       "        vertical-align: middle;\n",
       "    }\n",
       "\n",
       "    .dataframe tbody tr th {\n",
       "        vertical-align: top;\n",
       "    }\n",
       "\n",
       "    .dataframe thead th {\n",
       "        text-align: right;\n",
       "    }\n",
       "</style>\n",
       "<table border=\"1\" class=\"dataframe\">\n",
       "  <thead>\n",
       "    <tr style=\"text-align: right;\">\n",
       "      <th></th>\n",
       "      <th>v1</th>\n",
       "      <th>v2</th>\n",
       "      <th>v2_clean</th>\n",
       "      <th>v2_clean_encoded</th>\n",
       "      <th>v2_clean_encoded_bert</th>\n",
       "    </tr>\n",
       "  </thead>\n",
       "  <tbody>\n",
       "    <tr>\n",
       "      <th>0</th>\n",
       "      <td>ham</td>\n",
       "      <td>Go until jurong point, crazy.. Available only ...</td>\n",
       "      <td>jurong point crazy available bugis n great wor...</td>\n",
       "      <td>[1, 230, 447, 464, 942, 32, 50, 204, 943, 78, ...</td>\n",
       "      <td>[101, 18414, 17583, 2391, 4689, 2800, 11829, 2...</td>\n",
       "    </tr>\n",
       "    <tr>\n",
       "      <th>1</th>\n",
       "      <td>ham</td>\n",
       "      <td>Ok lar... Joking wif u oni...</td>\n",
       "      <td>ok lar joke wif u oni</td>\n",
       "      <td>[8, 195, 465, 289, 2, 1]</td>\n",
       "      <td>[101, 7929, 2474, 2099, 8257, 15536, 2546, 105...</td>\n",
       "    </tr>\n",
       "    <tr>\n",
       "      <th>2</th>\n",
       "      <td>spam</td>\n",
       "      <td>Free entry in 2 a wkly comp to win FA Cup fina...</td>\n",
       "      <td>free entry 2 wkly comp win fa cup final tkts 2...</td>\n",
       "      <td>[11, 300, 3, 533, 662, 30, 1, 849, 424, 1, 1, ...</td>\n",
       "      <td>[101, 2489, 4443, 1016, 1059, 2243, 2135, 4012...</td>\n",
       "    </tr>\n",
       "    <tr>\n",
       "      <th>3</th>\n",
       "      <td>ham</td>\n",
       "      <td>U dun say so early hor... U c already then say...</td>\n",
       "      <td>u dun early hor u c</td>\n",
       "      <td>[2, 125, 150, 1, 2, 79]</td>\n",
       "      <td>[101, 1057, 24654, 2220, 7570, 2099, 1057, 103...</td>\n",
       "    </tr>\n",
       "    <tr>\n",
       "      <th>4</th>\n",
       "      <td>ham</td>\n",
       "      <td>Nah I don't think he goes to usf, he lives aro...</td>\n",
       "      <td>nah think usf live</td>\n",
       "      <td>[705, 20, 663, 129]</td>\n",
       "      <td>[101, 20976, 2228, 2149, 2546, 2444, 102]</td>\n",
       "    </tr>\n",
       "  </tbody>\n",
       "</table>\n",
       "</div>"
      ],
      "text/plain": [
       "     v1                                                 v2  \\\n",
       "0   ham  Go until jurong point, crazy.. Available only ...   \n",
       "1   ham                      Ok lar... Joking wif u oni...   \n",
       "2  spam  Free entry in 2 a wkly comp to win FA Cup fina...   \n",
       "3   ham  U dun say so early hor... U c already then say...   \n",
       "4   ham  Nah I don't think he goes to usf, he lives aro...   \n",
       "\n",
       "                                            v2_clean  \\\n",
       "0  jurong point crazy available bugis n great wor...   \n",
       "1                              ok lar joke wif u oni   \n",
       "2  free entry 2 wkly comp win fa cup final tkts 2...   \n",
       "3                                u dun early hor u c   \n",
       "4                                 nah think usf live   \n",
       "\n",
       "                                    v2_clean_encoded  \\\n",
       "0  [1, 230, 447, 464, 942, 32, 50, 204, 943, 78, ...   \n",
       "1                           [8, 195, 465, 289, 2, 1]   \n",
       "2  [11, 300, 3, 533, 662, 30, 1, 849, 424, 1, 1, ...   \n",
       "3                            [2, 125, 150, 1, 2, 79]   \n",
       "4                                [705, 20, 663, 129]   \n",
       "\n",
       "                               v2_clean_encoded_bert  \n",
       "0  [101, 18414, 17583, 2391, 4689, 2800, 11829, 2...  \n",
       "1  [101, 7929, 2474, 2099, 8257, 15536, 2546, 105...  \n",
       "2  [101, 2489, 4443, 1016, 1059, 2243, 2135, 4012...  \n",
       "3  [101, 1057, 24654, 2220, 7570, 2099, 1057, 103...  \n",
       "4          [101, 20976, 2228, 2149, 2546, 2444, 102]  "
      ]
     },
     "execution_count": 126,
     "metadata": {},
     "output_type": "execute_result"
    }
   ],
   "source": [
    "df.head()"
   ]
  },
  {
   "cell_type": "code",
   "execution_count": 127,
   "metadata": {},
   "outputs": [],
   "source": [
    "tokenizer = tf.keras.preprocessing.text.Tokenizer(num_words=1000, oov_token=\"out_of_vocab\")\n",
    "# for a spam detector coming from emails, num_words = 1000 could be enough\n",
    "\n",
    "\n",
    "tokenizer.fit_on_texts(df.v2_clean)\n",
    "df[\"v2_clean_encoded\"] = tokenizer.texts_to_sequences(df.v2_clean)\n"
   ]
  },
  {
   "cell_type": "code",
   "execution_count": 128,
   "metadata": {},
   "outputs": [
    {
     "data": {
      "text/html": [
       "<div>\n",
       "<style scoped>\n",
       "    .dataframe tbody tr th:only-of-type {\n",
       "        vertical-align: middle;\n",
       "    }\n",
       "\n",
       "    .dataframe tbody tr th {\n",
       "        vertical-align: top;\n",
       "    }\n",
       "\n",
       "    .dataframe thead th {\n",
       "        text-align: right;\n",
       "    }\n",
       "</style>\n",
       "<table border=\"1\" class=\"dataframe\">\n",
       "  <thead>\n",
       "    <tr style=\"text-align: right;\">\n",
       "      <th></th>\n",
       "      <th>v1</th>\n",
       "      <th>v2</th>\n",
       "      <th>v2_clean</th>\n",
       "      <th>v2_clean_encoded</th>\n",
       "      <th>v2_clean_encoded_bert</th>\n",
       "    </tr>\n",
       "  </thead>\n",
       "  <tbody>\n",
       "    <tr>\n",
       "      <th>0</th>\n",
       "      <td>ham</td>\n",
       "      <td>Go until jurong point, crazy.. Available only ...</td>\n",
       "      <td>jurong point crazy available bugis n great wor...</td>\n",
       "      <td>[1, 230, 447, 464, 942, 32, 50, 204, 943, 78, ...</td>\n",
       "      <td>[101, 18414, 17583, 2391, 4689, 2800, 11829, 2...</td>\n",
       "    </tr>\n",
       "    <tr>\n",
       "      <th>1</th>\n",
       "      <td>ham</td>\n",
       "      <td>Ok lar... Joking wif u oni...</td>\n",
       "      <td>ok lar joke wif u oni</td>\n",
       "      <td>[8, 195, 465, 289, 2, 1]</td>\n",
       "      <td>[101, 7929, 2474, 2099, 8257, 15536, 2546, 105...</td>\n",
       "    </tr>\n",
       "    <tr>\n",
       "      <th>2</th>\n",
       "      <td>spam</td>\n",
       "      <td>Free entry in 2 a wkly comp to win FA Cup fina...</td>\n",
       "      <td>free entry 2 wkly comp win fa cup final tkts 2...</td>\n",
       "      <td>[11, 300, 3, 533, 662, 30, 1, 849, 424, 1, 1, ...</td>\n",
       "      <td>[101, 2489, 4443, 1016, 1059, 2243, 2135, 4012...</td>\n",
       "    </tr>\n",
       "    <tr>\n",
       "      <th>3</th>\n",
       "      <td>ham</td>\n",
       "      <td>U dun say so early hor... U c already then say...</td>\n",
       "      <td>u dun early hor u c</td>\n",
       "      <td>[2, 125, 150, 1, 2, 79]</td>\n",
       "      <td>[101, 1057, 24654, 2220, 7570, 2099, 1057, 103...</td>\n",
       "    </tr>\n",
       "    <tr>\n",
       "      <th>4</th>\n",
       "      <td>ham</td>\n",
       "      <td>Nah I don't think he goes to usf, he lives aro...</td>\n",
       "      <td>nah think usf live</td>\n",
       "      <td>[705, 20, 663, 129]</td>\n",
       "      <td>[101, 20976, 2228, 2149, 2546, 2444, 102]</td>\n",
       "    </tr>\n",
       "  </tbody>\n",
       "</table>\n",
       "</div>"
      ],
      "text/plain": [
       "     v1                                                 v2  \\\n",
       "0   ham  Go until jurong point, crazy.. Available only ...   \n",
       "1   ham                      Ok lar... Joking wif u oni...   \n",
       "2  spam  Free entry in 2 a wkly comp to win FA Cup fina...   \n",
       "3   ham  U dun say so early hor... U c already then say...   \n",
       "4   ham  Nah I don't think he goes to usf, he lives aro...   \n",
       "\n",
       "                                            v2_clean  \\\n",
       "0  jurong point crazy available bugis n great wor...   \n",
       "1                              ok lar joke wif u oni   \n",
       "2  free entry 2 wkly comp win fa cup final tkts 2...   \n",
       "3                                u dun early hor u c   \n",
       "4                                 nah think usf live   \n",
       "\n",
       "                                    v2_clean_encoded  \\\n",
       "0  [1, 230, 447, 464, 942, 32, 50, 204, 943, 78, ...   \n",
       "1                           [8, 195, 465, 289, 2, 1]   \n",
       "2  [11, 300, 3, 533, 662, 30, 1, 849, 424, 1, 1, ...   \n",
       "3                            [2, 125, 150, 1, 2, 79]   \n",
       "4                                [705, 20, 663, 129]   \n",
       "\n",
       "                               v2_clean_encoded_bert  \n",
       "0  [101, 18414, 17583, 2391, 4689, 2800, 11829, 2...  \n",
       "1  [101, 7929, 2474, 2099, 8257, 15536, 2546, 105...  \n",
       "2  [101, 2489, 4443, 1016, 1059, 2243, 2135, 4012...  \n",
       "3  [101, 1057, 24654, 2220, 7570, 2099, 1057, 103...  \n",
       "4          [101, 20976, 2228, 2149, 2546, 2444, 102]  "
      ]
     },
     "execution_count": 128,
     "metadata": {},
     "output_type": "execute_result"
    }
   ],
   "source": [
    "df.head()"
   ]
  },
  {
   "cell_type": "code",
   "execution_count": 129,
   "metadata": {},
   "outputs": [
    {
     "data": {
      "text/plain": [
       "array([  101, 18414, 17583,  2391,  4689,  2800, 11829,  2483,  1050,\n",
       "        2307,  2088,  2474,  1041, 28305, 25022,  2638, 26297, 28194,\n",
       "         102])"
      ]
     },
     "execution_count": 129,
     "metadata": {},
     "output_type": "execute_result"
    }
   ],
   "source": [
    "df.v2_clean_encoded_bert[0]"
   ]
  },
  {
   "cell_type": "markdown",
   "metadata": {},
   "source": [
    "Let's use \"padding\" to have same length sentences before going further.  \n",
    "Especially \"padding = post\" to fill sentences's end rather than their beginning"
   ]
  },
  {
   "cell_type": "code",
   "execution_count": 130,
   "metadata": {},
   "outputs": [],
   "source": [
    "v2_pad = tf.keras.preprocessing.sequence.pad_sequences(df.v2_clean_encoded, padding=\"post\")\n",
    "v2_pad=pd.Series(v2_pad.tolist())"
   ]
  },
  {
   "cell_type": "code",
   "execution_count": 131,
   "metadata": {},
   "outputs": [
    {
     "data": {
      "text/html": [
       "<div>\n",
       "<style scoped>\n",
       "    .dataframe tbody tr th:only-of-type {\n",
       "        vertical-align: middle;\n",
       "    }\n",
       "\n",
       "    .dataframe tbody tr th {\n",
       "        vertical-align: top;\n",
       "    }\n",
       "\n",
       "    .dataframe thead th {\n",
       "        text-align: right;\n",
       "    }\n",
       "</style>\n",
       "<table border=\"1\" class=\"dataframe\">\n",
       "  <thead>\n",
       "    <tr style=\"text-align: right;\">\n",
       "      <th></th>\n",
       "      <th>v1</th>\n",
       "      <th>v2_clean</th>\n",
       "      <th>v2_clean_encoded_bert</th>\n",
       "      <th>v2_pad</th>\n",
       "    </tr>\n",
       "  </thead>\n",
       "  <tbody>\n",
       "    <tr>\n",
       "      <th>0</th>\n",
       "      <td>ham</td>\n",
       "      <td>jurong point crazy available bugis n great wor...</td>\n",
       "      <td>[101, 18414, 17583, 2391, 4689, 2800, 11829, 2...</td>\n",
       "      <td>[1, 230, 447, 464, 942, 32, 50, 204, 943, 78, ...</td>\n",
       "    </tr>\n",
       "    <tr>\n",
       "      <th>1</th>\n",
       "      <td>ham</td>\n",
       "      <td>ok lar joke wif u oni</td>\n",
       "      <td>[101, 7929, 2474, 2099, 8257, 15536, 2546, 105...</td>\n",
       "      <td>[8, 195, 465, 289, 2, 1, 0, 0, 0, 0, 0, 0, 0, ...</td>\n",
       "    </tr>\n",
       "    <tr>\n",
       "      <th>2</th>\n",
       "      <td>spam</td>\n",
       "      <td>free entry 2 wkly comp win fa cup final tkts 2...</td>\n",
       "      <td>[101, 2489, 4443, 1016, 1059, 2243, 2135, 4012...</td>\n",
       "      <td>[11, 300, 3, 533, 662, 30, 1, 849, 424, 1, 1, ...</td>\n",
       "    </tr>\n",
       "    <tr>\n",
       "      <th>3</th>\n",
       "      <td>ham</td>\n",
       "      <td>u dun early hor u c</td>\n",
       "      <td>[101, 1057, 24654, 2220, 7570, 2099, 1057, 103...</td>\n",
       "      <td>[2, 125, 150, 1, 2, 79, 0, 0, 0, 0, 0, 0, 0, 0...</td>\n",
       "    </tr>\n",
       "    <tr>\n",
       "      <th>4</th>\n",
       "      <td>ham</td>\n",
       "      <td>nah think usf live</td>\n",
       "      <td>[101, 20976, 2228, 2149, 2546, 2444, 102]</td>\n",
       "      <td>[705, 20, 663, 129, 0, 0, 0, 0, 0, 0, 0, 0, 0,...</td>\n",
       "    </tr>\n",
       "  </tbody>\n",
       "</table>\n",
       "</div>"
      ],
      "text/plain": [
       "     v1                                           v2_clean  \\\n",
       "0   ham  jurong point crazy available bugis n great wor...   \n",
       "1   ham                              ok lar joke wif u oni   \n",
       "2  spam  free entry 2 wkly comp win fa cup final tkts 2...   \n",
       "3   ham                                u dun early hor u c   \n",
       "4   ham                                 nah think usf live   \n",
       "\n",
       "                               v2_clean_encoded_bert  \\\n",
       "0  [101, 18414, 17583, 2391, 4689, 2800, 11829, 2...   \n",
       "1  [101, 7929, 2474, 2099, 8257, 15536, 2546, 105...   \n",
       "2  [101, 2489, 4443, 1016, 1059, 2243, 2135, 4012...   \n",
       "3  [101, 1057, 24654, 2220, 7570, 2099, 1057, 103...   \n",
       "4          [101, 20976, 2228, 2149, 2546, 2444, 102]   \n",
       "\n",
       "                                              v2_pad  \n",
       "0  [1, 230, 447, 464, 942, 32, 50, 204, 943, 78, ...  \n",
       "1  [8, 195, 465, 289, 2, 1, 0, 0, 0, 0, 0, 0, 0, ...  \n",
       "2  [11, 300, 3, 533, 662, 30, 1, 849, 424, 1, 1, ...  \n",
       "3  [2, 125, 150, 1, 2, 79, 0, 0, 0, 0, 0, 0, 0, 0...  \n",
       "4  [705, 20, 663, 129, 0, 0, 0, 0, 0, 0, 0, 0, 0,...  "
      ]
     },
     "execution_count": 131,
     "metadata": {},
     "output_type": "execute_result"
    }
   ],
   "source": [
    "df_model = df[['v1', 'v2_clean', 'v2_clean_encoded_bert']].copy()\n",
    "df_model['v2_pad']=v2_pad\n",
    "df_model.head()"
   ]
  },
  {
   "cell_type": "code",
   "execution_count": 53,
   "metadata": {},
   "outputs": [],
   "source": [
    "#df_model=df[['v1', 'v2_clean']].copy()\n",
    "#df_model['v2_pad']=v2_pad\n",
    "#df_model.head()\n"
   ]
  },
  {
   "cell_type": "markdown",
   "metadata": {},
   "source": [
    "------------------- Before creating tensor: transform v1 string column 'ham/spam' into numbers ------------"
   ]
  },
  {
   "cell_type": "code",
   "execution_count": 132,
   "metadata": {},
   "outputs": [
    {
     "data": {
      "text/html": [
       "<div>\n",
       "<style scoped>\n",
       "    .dataframe tbody tr th:only-of-type {\n",
       "        vertical-align: middle;\n",
       "    }\n",
       "\n",
       "    .dataframe tbody tr th {\n",
       "        vertical-align: top;\n",
       "    }\n",
       "\n",
       "    .dataframe thead th {\n",
       "        text-align: right;\n",
       "    }\n",
       "</style>\n",
       "<table border=\"1\" class=\"dataframe\">\n",
       "  <thead>\n",
       "    <tr style=\"text-align: right;\">\n",
       "      <th></th>\n",
       "      <th>v1</th>\n",
       "      <th>v2_clean</th>\n",
       "      <th>v2_clean_encoded_bert</th>\n",
       "      <th>v2_pad</th>\n",
       "    </tr>\n",
       "  </thead>\n",
       "  <tbody>\n",
       "    <tr>\n",
       "      <th>0</th>\n",
       "      <td>0</td>\n",
       "      <td>jurong point crazy available bugis n great wor...</td>\n",
       "      <td>[101, 18414, 17583, 2391, 4689, 2800, 11829, 2...</td>\n",
       "      <td>[1, 230, 447, 464, 942, 32, 50, 204, 943, 78, ...</td>\n",
       "    </tr>\n",
       "    <tr>\n",
       "      <th>1</th>\n",
       "      <td>0</td>\n",
       "      <td>ok lar joke wif u oni</td>\n",
       "      <td>[101, 7929, 2474, 2099, 8257, 15536, 2546, 105...</td>\n",
       "      <td>[8, 195, 465, 289, 2, 1, 0, 0, 0, 0, 0, 0, 0, ...</td>\n",
       "    </tr>\n",
       "    <tr>\n",
       "      <th>2</th>\n",
       "      <td>1</td>\n",
       "      <td>free entry 2 wkly comp win fa cup final tkts 2...</td>\n",
       "      <td>[101, 2489, 4443, 1016, 1059, 2243, 2135, 4012...</td>\n",
       "      <td>[11, 300, 3, 533, 662, 30, 1, 849, 424, 1, 1, ...</td>\n",
       "    </tr>\n",
       "    <tr>\n",
       "      <th>3</th>\n",
       "      <td>0</td>\n",
       "      <td>u dun early hor u c</td>\n",
       "      <td>[101, 1057, 24654, 2220, 7570, 2099, 1057, 103...</td>\n",
       "      <td>[2, 125, 150, 1, 2, 79, 0, 0, 0, 0, 0, 0, 0, 0...</td>\n",
       "    </tr>\n",
       "    <tr>\n",
       "      <th>4</th>\n",
       "      <td>0</td>\n",
       "      <td>nah think usf live</td>\n",
       "      <td>[101, 20976, 2228, 2149, 2546, 2444, 102]</td>\n",
       "      <td>[705, 20, 663, 129, 0, 0, 0, 0, 0, 0, 0, 0, 0,...</td>\n",
       "    </tr>\n",
       "  </tbody>\n",
       "</table>\n",
       "</div>"
      ],
      "text/plain": [
       "   v1                                           v2_clean  \\\n",
       "0   0  jurong point crazy available bugis n great wor...   \n",
       "1   0                              ok lar joke wif u oni   \n",
       "2   1  free entry 2 wkly comp win fa cup final tkts 2...   \n",
       "3   0                                u dun early hor u c   \n",
       "4   0                                 nah think usf live   \n",
       "\n",
       "                               v2_clean_encoded_bert  \\\n",
       "0  [101, 18414, 17583, 2391, 4689, 2800, 11829, 2...   \n",
       "1  [101, 7929, 2474, 2099, 8257, 15536, 2546, 105...   \n",
       "2  [101, 2489, 4443, 1016, 1059, 2243, 2135, 4012...   \n",
       "3  [101, 1057, 24654, 2220, 7570, 2099, 1057, 103...   \n",
       "4          [101, 20976, 2228, 2149, 2546, 2444, 102]   \n",
       "\n",
       "                                              v2_pad  \n",
       "0  [1, 230, 447, 464, 942, 32, 50, 204, 943, 78, ...  \n",
       "1  [8, 195, 465, 289, 2, 1, 0, 0, 0, 0, 0, 0, 0, ...  \n",
       "2  [11, 300, 3, 533, 662, 30, 1, 849, 424, 1, 1, ...  \n",
       "3  [2, 125, 150, 1, 2, 79, 0, 0, 0, 0, 0, 0, 0, 0...  \n",
       "4  [705, 20, 663, 129, 0, 0, 0, 0, 0, 0, 0, 0, 0,...  "
      ]
     },
     "execution_count": 132,
     "metadata": {},
     "output_type": "execute_result"
    }
   ],
   "source": [
    "labels= {'spam':1, 'ham': 0}\n",
    "df_model['v1'] = df_model['v1'].map(labels)\n",
    "df_model.head()"
   ]
  },
  {
   "cell_type": "code",
   "execution_count": null,
   "metadata": {},
   "outputs": [],
   "source": [
    "#!pip install scikit-learn==1.3.2"
   ]
  },
  {
   "cell_type": "markdown",
   "metadata": {},
   "source": [
    "Quite ready for creating model : next steps are train test split, equilibrate datas, then create tensor."
   ]
  },
  {
   "cell_type": "code",
   "execution_count": null,
   "metadata": {},
   "outputs": [],
   "source": [
    "#!pip install imbalanced-learn\n",
    "# passé par le terminal avec conda"
   ]
  },
  {
   "cell_type": "code",
   "execution_count": 133,
   "metadata": {},
   "outputs": [],
   "source": [
    "from sklearn.model_selection import train_test_split"
   ]
  },
  {
   "cell_type": "code",
   "execution_count": 136,
   "metadata": {},
   "outputs": [],
   "source": [
    "X = df_model['v2_pad']\n",
    "y = df_model['v1']"
   ]
  },
  {
   "cell_type": "code",
   "execution_count": 137,
   "metadata": {},
   "outputs": [],
   "source": [
    "X_2 = df_model['v2_clean_encoded_bert'].to_numpy()\n",
    "y_2 = df_model['v1'].to_numpy()"
   ]
  },
  {
   "cell_type": "code",
   "execution_count": 138,
   "metadata": {},
   "outputs": [],
   "source": [
    "import tensorflow as tf\n",
    "from imblearn.over_sampling import RandomOverSampler\n",
    "\n",
    "X_train, X_test, y_train, y_test = train_test_split(X, y, test_size=0.1, random_state=42)\n",
    "\n",
    "X_train = np.array(X_train.tolist())\n",
    "X_test = np.array(X_test.tolist())\n",
    "\n",
    "# randomSampler needs to reshape before launch\n",
    "#X_train = X_train.reshape(-1, 1) if len(X_train.shape) == 1 else X_train\n",
    "#y_train = y_train.reshape(-1, 1) if len(y_train.shape) == 1 else y_train\n",
    "\n",
    "\n",
    "# here we equilibrate the datas increasing the number of 'spam' category\n",
    "ros = RandomOverSampler(random_state=42)\n",
    "X_train_resampled, y_train_resampled = ros.fit_resample(X_train, y_train)\n"
   ]
  },
  {
   "cell_type": "code",
   "execution_count": 139,
   "metadata": {},
   "outputs": [],
   "source": [
    "# for Bert to come\n",
    "X_train_2, X_test_2, y_train_2, y_test_2 = train_test_split(X_2, y_2, test_size=0.1, random_state=42)\n",
    "\n",
    "# press 'alt' + clic to duplicate modif \n",
    "\n",
    "X_train_2 = X_train_2.reshape(-1, 1) if len(X_train_2.shape) == 1 else X_train_2\n",
    "y_train_2 = y_train_2.reshape(-1, 1) if len(y_train_2.shape) == 1 else y_train_2\n",
    "\n",
    "\n",
    "# here we equilibrate the datas increasing the number of 'spam' category\n",
    "ros = RandomOverSampler(random_state=42)\n",
    "X_train_2_resampled, y_train_2_resampled = ros.fit_resample(X_train_2, y_train_2)"
   ]
  },
  {
   "cell_type": "markdown",
   "metadata": {},
   "source": [
    "--------------------------------- PART III: CREATING A RNN MODEL -----------------------------------------------"
   ]
  },
  {
   "cell_type": "code",
   "execution_count": 140,
   "metadata": {},
   "outputs": [
    {
     "data": {
      "text/plain": [
       "numpy.ndarray"
      ]
     },
     "execution_count": 140,
     "metadata": {},
     "output_type": "execute_result"
    }
   ],
   "source": [
    "type (X_train_resampled)"
   ]
  },
  {
   "cell_type": "code",
   "execution_count": 141,
   "metadata": {},
   "outputs": [
    {
     "data": {
      "text/plain": [
       "pandas.core.series.Series"
      ]
     },
     "execution_count": 141,
     "metadata": {},
     "output_type": "execute_result"
    }
   ],
   "source": [
    "type(y_train_resampled)"
   ]
  },
  {
   "cell_type": "code",
   "execution_count": 142,
   "metadata": {},
   "outputs": [],
   "source": [
    "\n",
    "from tensorflow.keras.models import Sequential\n",
    "from tensorflow.keras.layers import Embedding, SimpleRNN, Dense\n",
    "from tensorflow.keras.preprocessing.sequence import pad_sequences\n",
    "\n",
    "X_train_resampled = np.array(X_train_resampled.tolist())\n",
    "y_train_resampled = np.array(y_train_resampled)\n",
    "\n",
    "# Our params:\n",
    "max_features = 1000  # taille du vocabulaire\n",
    "embedding_dim = 64  # dimension de l'espace vectoriel d'embedding\n",
    "\n",
    "# Building model, some cooking inside...\n",
    "model = Sequential()\n",
    "model.add(Embedding(max_features, embedding_dim))\n",
    "model.add(SimpleRNN(units=32, return_sequences=False))\n",
    "model.add(Dense(16, activation='relu'))\n",
    "model.add(Dense(1, activation='sigmoid'))\n",
    "# Using a sigmoid function activation as our output is a binary choice : spam or no spam\n",
    "\n",
    "model.compile(optimizer='adam',\n",
    "              loss='binary_crossentropy',\n",
    "              metrics=['accuracy'])"
   ]
  },
  {
   "cell_type": "code",
   "execution_count": 143,
   "metadata": {},
   "outputs": [
    {
     "name": "stdout",
     "output_type": "stream",
     "text": [
      "Model: \"sequential_3\"\n",
      "_________________________________________________________________\n",
      " Layer (type)                Output Shape              Param #   \n",
      "=================================================================\n",
      " embedding_3 (Embedding)     (None, None, 64)          64000     \n",
      "                                                                 \n",
      " simple_rnn_3 (SimpleRNN)    (None, 32)                3104      \n",
      "                                                                 \n",
      " dense_10 (Dense)            (None, 16)                528       \n",
      "                                                                 \n",
      " dense_11 (Dense)            (None, 1)                 17        \n",
      "                                                                 \n",
      "=================================================================\n",
      "Total params: 67,649\n",
      "Trainable params: 67,649\n",
      "Non-trainable params: 0\n",
      "_________________________________________________________________\n"
     ]
    }
   ],
   "source": [
    "model.summary()"
   ]
  },
  {
   "cell_type": "code",
   "execution_count": 144,
   "metadata": {},
   "outputs": [
    {
     "name": "stdout",
     "output_type": "stream",
     "text": [
      "Epoch 1/10\n"
     ]
    },
    {
     "name": "stdout",
     "output_type": "stream",
     "text": [
      "217/217 [==============================] - 2s 7ms/step - loss: 0.1962 - accuracy: 0.9423 - val_loss: 0.1119 - val_accuracy: 0.9694\n",
      "Epoch 2/10\n",
      "217/217 [==============================] - 1s 7ms/step - loss: 0.0772 - accuracy: 0.9794 - val_loss: 0.1247 - val_accuracy: 0.9671\n",
      "Epoch 3/10\n",
      "217/217 [==============================] - 1s 7ms/step - loss: 0.1041 - accuracy: 0.9686 - val_loss: 0.0988 - val_accuracy: 0.9735\n",
      "Epoch 4/10\n",
      "217/217 [==============================] - 2s 7ms/step - loss: 0.0708 - accuracy: 0.9811 - val_loss: 0.0669 - val_accuracy: 0.9792\n",
      "Epoch 5/10\n",
      "217/217 [==============================] - 2s 7ms/step - loss: 0.0414 - accuracy: 0.9885 - val_loss: 0.0850 - val_accuracy: 0.9637\n",
      "Epoch 6/10\n",
      "217/217 [==============================] - 1s 7ms/step - loss: 0.0348 - accuracy: 0.9900 - val_loss: 0.0730 - val_accuracy: 0.9792\n",
      "Epoch 7/10\n",
      "217/217 [==============================] - 2s 7ms/step - loss: 0.0244 - accuracy: 0.9934 - val_loss: 0.0136 - val_accuracy: 0.9919\n",
      "Epoch 8/10\n",
      "217/217 [==============================] - 1s 7ms/step - loss: 0.0262 - accuracy: 0.9942 - val_loss: 0.0286 - val_accuracy: 0.9885\n",
      "Epoch 9/10\n",
      "217/217 [==============================] - 1s 7ms/step - loss: 0.0240 - accuracy: 0.9938 - val_loss: 0.0380 - val_accuracy: 0.9890\n",
      "Epoch 10/10\n",
      "217/217 [==============================] - 1s 7ms/step - loss: 0.0472 - accuracy: 0.9869 - val_loss: 0.0296 - val_accuracy: 0.9885\n"
     ]
    }
   ],
   "source": [
    "history = model.fit(X_train_resampled, y_train_resampled, batch_size=32, epochs=10, validation_split=0.2)"
   ]
  },
  {
   "cell_type": "markdown",
   "metadata": {},
   "source": [
    "Have a look on loss, accuracy with some graphs"
   ]
  },
  {
   "cell_type": "code",
   "execution_count": 145,
   "metadata": {},
   "outputs": [
    {
     "ename": "AttributeError",
     "evalue": "module 'matplotlib' has no attribute 'get_data_path'",
     "output_type": "error",
     "traceback": [
      "\u001b[1;31m---------------------------------------------------------------------------\u001b[0m",
      "\u001b[1;31mAttributeError\u001b[0m                            Traceback (most recent call last)",
      "Cell \u001b[1;32mIn[145], line 1\u001b[0m\n\u001b[1;32m----> 1\u001b[0m \u001b[38;5;28;01mimport\u001b[39;00m \u001b[38;5;21;01mmatplotlib\u001b[39;00m\u001b[38;5;21;01m.\u001b[39;00m\u001b[38;5;21;01mpyplot\u001b[39;00m \u001b[38;5;28;01mas\u001b[39;00m \u001b[38;5;21;01mplt\u001b[39;00m\n\u001b[0;32m      3\u001b[0m loss \u001b[38;5;241m=\u001b[39m history\u001b[38;5;241m.\u001b[39mhistory[\u001b[38;5;124m'\u001b[39m\u001b[38;5;124mloss\u001b[39m\u001b[38;5;124m'\u001b[39m]\n\u001b[0;32m      4\u001b[0m val_loss \u001b[38;5;241m=\u001b[39m history\u001b[38;5;241m.\u001b[39mhistory[\u001b[38;5;124m'\u001b[39m\u001b[38;5;124mval_loss\u001b[39m\u001b[38;5;124m'\u001b[39m]\n",
      "File \u001b[1;32mc:\\Users\\taver\\anaconda3\\envs\\new_tensor_env\\lib\\site-packages\\matplotlib\\__init__.py:980\u001b[0m\n\u001b[0;32m    973\u001b[0m     \u001b[38;5;28;01mreturn\u001b[39;00m config\n\u001b[0;32m    976\u001b[0m \u001b[38;5;66;03m# When constructing the global instances, we need to perform certain updates\u001b[39;00m\n\u001b[0;32m    977\u001b[0m \u001b[38;5;66;03m# by explicitly calling the superclass (dict.update, dict.items) to avoid\u001b[39;00m\n\u001b[0;32m    978\u001b[0m \u001b[38;5;66;03m# triggering resolution of _auto_backend_sentinel.\u001b[39;00m\n\u001b[0;32m    979\u001b[0m rcParamsDefault \u001b[38;5;241m=\u001b[39m _rc_params_in_file(\n\u001b[1;32m--> 980\u001b[0m     \u001b[43mcbook\u001b[49m\u001b[38;5;241;43m.\u001b[39;49m\u001b[43m_get_data_path\u001b[49m\u001b[43m(\u001b[49m\u001b[38;5;124;43m\"\u001b[39;49m\u001b[38;5;124;43mmatplotlibrc\u001b[39;49m\u001b[38;5;124;43m\"\u001b[39;49m\u001b[43m)\u001b[49m,\n\u001b[0;32m    981\u001b[0m     \u001b[38;5;66;03m# Strip leading comment.\u001b[39;00m\n\u001b[0;32m    982\u001b[0m     transform\u001b[38;5;241m=\u001b[39m\u001b[38;5;28;01mlambda\u001b[39;00m line: line[\u001b[38;5;241m1\u001b[39m:] \u001b[38;5;28;01mif\u001b[39;00m line\u001b[38;5;241m.\u001b[39mstartswith(\u001b[38;5;124m\"\u001b[39m\u001b[38;5;124m#\u001b[39m\u001b[38;5;124m\"\u001b[39m) \u001b[38;5;28;01melse\u001b[39;00m line,\n\u001b[0;32m    983\u001b[0m     fail_on_error\u001b[38;5;241m=\u001b[39m\u001b[38;5;28;01mTrue\u001b[39;00m)\n\u001b[0;32m    984\u001b[0m \u001b[38;5;28mdict\u001b[39m\u001b[38;5;241m.\u001b[39mupdate(rcParamsDefault, rcsetup\u001b[38;5;241m.\u001b[39m_hardcoded_defaults)\n\u001b[0;32m    985\u001b[0m \u001b[38;5;66;03m# Normally, the default matplotlibrc file contains *no* entry for backend (the\u001b[39;00m\n\u001b[0;32m    986\u001b[0m \u001b[38;5;66;03m# corresponding line starts with ##, not #; we fill on _auto_backend_sentinel\u001b[39;00m\n\u001b[0;32m    987\u001b[0m \u001b[38;5;66;03m# in that case.  However, packagers can set a different default backend\u001b[39;00m\n\u001b[0;32m    988\u001b[0m \u001b[38;5;66;03m# (resulting in a normal `#backend: foo` line) in which case we should *not*\u001b[39;00m\n\u001b[0;32m    989\u001b[0m \u001b[38;5;66;03m# fill in _auto_backend_sentinel.\u001b[39;00m\n",
      "File \u001b[1;32mc:\\Users\\taver\\anaconda3\\envs\\new_tensor_env\\lib\\site-packages\\matplotlib\\cbook\\__init__.py:561\u001b[0m, in \u001b[0;36m_get_data_path\u001b[1;34m(*args)\u001b[0m\n\u001b[0;32m    560\u001b[0m \u001b[38;5;28;01mdef\u001b[39;00m \u001b[38;5;21m_get_data_path\u001b[39m(\u001b[38;5;241m*\u001b[39margs):\n\u001b[1;32m--> 561\u001b[0m \u001b[38;5;250m    \u001b[39m\u001b[38;5;124;03m\"\"\"\u001b[39;00m\n\u001b[0;32m    562\u001b[0m \u001b[38;5;124;03m    Return the `pathlib.Path` to a resource file provided by Matplotlib.\u001b[39;00m\n\u001b[0;32m    563\u001b[0m \n\u001b[0;32m    564\u001b[0m \u001b[38;5;124;03m    ``*args`` specify a path relative to the base data path.\u001b[39;00m\n\u001b[0;32m    565\u001b[0m \u001b[38;5;124;03m    \"\"\"\u001b[39;00m\n\u001b[0;32m    566\u001b[0m     \u001b[38;5;28;01mreturn\u001b[39;00m Path(matplotlib\u001b[38;5;241m.\u001b[39mget_data_path(), \u001b[38;5;241m*\u001b[39margs)\n",
      "\u001b[1;31mAttributeError\u001b[0m: module 'matplotlib' has no attribute 'get_data_path'"
     ]
    }
   ],
   "source": [
    "import matplotlib.pyplot as plt\n",
    "\n",
    "loss = history.history['loss']\n",
    "val_loss = history.history['val_loss']\n",
    "accuracy = history.history['accuracy']\n",
    "val_accuracy = history.history['val_accuracy']\n",
    "\n",
    "# For loss\n",
    "plt.figure(figsize=(12, 6))\n",
    "plt.subplot(1, 2, 1)\n",
    "plt.plot(loss, label='Training Loss')\n",
    "plt.plot(val_loss, label='Validation Loss')\n",
    "plt.title('Training and Validation Loss')\n",
    "plt.xlabel('Epochs')\n",
    "plt.ylabel('Loss')\n",
    "plt.legend()\n",
    "\n",
    "# For accuracy\n",
    "plt.subplot(1, 2, 2)\n",
    "plt.plot(accuracy, label='Training Accuracy')\n",
    "plt.plot(val_accuracy, label='Validation Accuracy')\n",
    "plt.title('Training and Validation Accuracy')\n",
    "plt.xlabel('Epochs')\n",
    "plt.ylabel('Accuracy')\n",
    "plt.legend()\n",
    "\n",
    "plt.show()"
   ]
  },
  {
   "cell_type": "code",
   "execution_count": 146,
   "metadata": {},
   "outputs": [
    {
     "name": "stdout",
     "output_type": "stream",
     "text": [
      "WARNING:tensorflow:Keras is training/fitting/evaluating on array-like data. Keras may not be optimized for this format, so if your input data format is supported by TensorFlow I/O (https://github.com/tensorflow/io) we recommend using that to load a Dataset instead.\n"
     ]
    },
    {
     "ename": "UnknownError",
     "evalue": "Graph execution error:\n\nKeyError: '[0, 1, 2, 3, 4, 5, 6, 7, 9, 10, 11, 12, 13, 14, 16, 17, 18, 19, 20, 21, 22, 24, 25, 26, 27, 28, 30, 31] not in index'\nTraceback (most recent call last):\n\n  File \"C:\\Users\\taver\\AppData\\Roaming\\Python\\Python38\\site-packages\\tensorflow\\python\\ops\\script_ops.py\", line 269, in __call__\n    return func(device, token, args)\n\n  File \"C:\\Users\\taver\\AppData\\Roaming\\Python\\Python38\\site-packages\\tensorflow\\python\\ops\\script_ops.py\", line 147, in __call__\n    outputs = self._call(device, args)\n\n  File \"C:\\Users\\taver\\AppData\\Roaming\\Python\\Python38\\site-packages\\tensorflow\\python\\ops\\script_ops.py\", line 154, in _call\n    ret = self._func(*args)\n\n  File \"C:\\Users\\taver\\AppData\\Roaming\\Python\\Python38\\site-packages\\tensorflow\\python\\autograph\\impl\\api.py\", line 642, in wrapper\n    return func(*args, **kwargs)\n\n  File \"c:\\Users\\taver\\anaconda3\\envs\\new_tensor_env\\lib\\site-packages\\keras\\engine\\data_adapter.py\", line 513, in py_method\n    return [slice_array(inp) for inp in flat_inputs]\n\n  File \"c:\\Users\\taver\\anaconda3\\envs\\new_tensor_env\\lib\\site-packages\\keras\\engine\\data_adapter.py\", line 513, in <listcomp>\n    return [slice_array(inp) for inp in flat_inputs]\n\n  File \"c:\\Users\\taver\\anaconda3\\envs\\new_tensor_env\\lib\\site-packages\\keras\\engine\\data_adapter.py\", line 509, in slice_array\n    return training_utils.slice_arrays(\n\n  File \"c:\\Users\\taver\\anaconda3\\envs\\new_tensor_env\\lib\\site-packages\\keras\\engine\\training_utils.py\", line 52, in slice_arrays\n    slices = generic_utils.slice_arrays(arrays, indices)\n\n  File \"c:\\Users\\taver\\anaconda3\\envs\\new_tensor_env\\lib\\site-packages\\keras\\utils\\generic_utils.py\", line 1199, in slice_arrays\n    return [None if x is None else x[start] for x in arrays]\n\n  File \"c:\\Users\\taver\\anaconda3\\envs\\new_tensor_env\\lib\\site-packages\\keras\\utils\\generic_utils.py\", line 1199, in <listcomp>\n    return [None if x is None else x[start] for x in arrays]\n\n  File \"c:\\Users\\taver\\anaconda3\\envs\\new_tensor_env\\lib\\site-packages\\pandas\\core\\series.py\", line 1033, in __getitem__\n    return self._get_with(key)\n\n  File \"c:\\Users\\taver\\anaconda3\\envs\\new_tensor_env\\lib\\site-packages\\pandas\\core\\series.py\", line 1068, in _get_with\n    return self.loc[key]\n\n  File \"c:\\Users\\taver\\anaconda3\\envs\\new_tensor_env\\lib\\site-packages\\pandas\\core\\indexing.py\", line 1103, in __getitem__\n    return self._getitem_axis(maybe_callable, axis=axis)\n\n  File \"c:\\Users\\taver\\anaconda3\\envs\\new_tensor_env\\lib\\site-packages\\pandas\\core\\indexing.py\", line 1332, in _getitem_axis\n    return self._getitem_iterable(key, axis=axis)\n\n  File \"c:\\Users\\taver\\anaconda3\\envs\\new_tensor_env\\lib\\site-packages\\pandas\\core\\indexing.py\", line 1272, in _getitem_iterable\n    keyarr, indexer = self._get_listlike_indexer(key, axis)\n\n  File \"c:\\Users\\taver\\anaconda3\\envs\\new_tensor_env\\lib\\site-packages\\pandas\\core\\indexing.py\", line 1462, in _get_listlike_indexer\n    keyarr, indexer = ax._get_indexer_strict(key, axis_name)\n\n  File \"c:\\Users\\taver\\anaconda3\\envs\\new_tensor_env\\lib\\site-packages\\pandas\\core\\indexes\\base.py\", line 5877, in _get_indexer_strict\n    self._raise_if_missing(keyarr, indexer, axis_name)\n\n  File \"c:\\Users\\taver\\anaconda3\\envs\\new_tensor_env\\lib\\site-packages\\pandas\\core\\indexes\\base.py\", line 5941, in _raise_if_missing\n    raise KeyError(f\"{not_found} not in index\")\n\nKeyError: '[0, 1, 2, 3, 4, 5, 6, 7, 9, 10, 11, 12, 13, 14, 16, 17, 18, 19, 20, 21, 22, 24, 25, 26, 27, 28, 30, 31] not in index'\n\n\n\t [[{{node EagerPyFunc}}]]\n\t [[IteratorGetNext]] [Op:__inference_test_function_207519]",
     "output_type": "error",
     "traceback": [
      "\u001b[1;31m---------------------------------------------------------------------------\u001b[0m",
      "\u001b[1;31mUnknownError\u001b[0m                              Traceback (most recent call last)",
      "Cell \u001b[1;32mIn[146], line 1\u001b[0m\n\u001b[1;32m----> 1\u001b[0m scores \u001b[38;5;241m=\u001b[39m \u001b[43mmodel\u001b[49m\u001b[38;5;241;43m.\u001b[39;49m\u001b[43mevaluate\u001b[49m\u001b[43m(\u001b[49m\u001b[43mX_test\u001b[49m\u001b[43m,\u001b[49m\u001b[43m \u001b[49m\u001b[43my_test\u001b[49m\u001b[43m,\u001b[49m\u001b[43m \u001b[49m\u001b[43mverbose\u001b[49m\u001b[38;5;241;43m=\u001b[39;49m\u001b[38;5;241;43m0\u001b[39;49m\u001b[43m)\u001b[49m\n\u001b[0;32m      2\u001b[0m \u001b[38;5;28mprint\u001b[39m(\u001b[38;5;124m\"\u001b[39m\u001b[38;5;132;01m%s\u001b[39;00m\u001b[38;5;124m: \u001b[39m\u001b[38;5;132;01m%.2f\u001b[39;00m\u001b[38;5;132;01m%%\u001b[39;00m\u001b[38;5;124m\"\u001b[39m \u001b[38;5;241m%\u001b[39m (model\u001b[38;5;241m.\u001b[39mmetrics_names[\u001b[38;5;241m1\u001b[39m], scores[\u001b[38;5;241m1\u001b[39m]\u001b[38;5;241m*\u001b[39m\u001b[38;5;241m100\u001b[39m))\n\u001b[0;32m      3\u001b[0m \u001b[38;5;28mprint\u001b[39m(\u001b[38;5;124m\"\u001b[39m\u001b[38;5;132;01m%s\u001b[39;00m\u001b[38;5;124m: \u001b[39m\u001b[38;5;132;01m%f\u001b[39;00m\u001b[38;5;124m\"\u001b[39m \u001b[38;5;241m%\u001b[39m (model\u001b[38;5;241m.\u001b[39mmetrics_names[\u001b[38;5;241m0\u001b[39m], scores[\u001b[38;5;241m0\u001b[39m]))\n",
      "File \u001b[1;32mc:\\Users\\taver\\anaconda3\\envs\\new_tensor_env\\lib\\site-packages\\keras\\utils\\traceback_utils.py:70\u001b[0m, in \u001b[0;36mfilter_traceback.<locals>.error_handler\u001b[1;34m(*args, **kwargs)\u001b[0m\n\u001b[0;32m     67\u001b[0m     filtered_tb \u001b[38;5;241m=\u001b[39m _process_traceback_frames(e\u001b[38;5;241m.\u001b[39m__traceback__)\n\u001b[0;32m     68\u001b[0m     \u001b[38;5;66;03m# To get the full stack trace, call:\u001b[39;00m\n\u001b[0;32m     69\u001b[0m     \u001b[38;5;66;03m# `tf.debugging.disable_traceback_filtering()`\u001b[39;00m\n\u001b[1;32m---> 70\u001b[0m     \u001b[38;5;28;01mraise\u001b[39;00m e\u001b[38;5;241m.\u001b[39mwith_traceback(filtered_tb) \u001b[38;5;28;01mfrom\u001b[39;00m \u001b[38;5;28;01mNone\u001b[39;00m\n\u001b[0;32m     71\u001b[0m \u001b[38;5;28;01mfinally\u001b[39;00m:\n\u001b[0;32m     72\u001b[0m     \u001b[38;5;28;01mdel\u001b[39;00m filtered_tb\n",
      "File \u001b[1;32m~\\AppData\\Roaming\\Python\\Python38\\site-packages\\tensorflow\\python\\eager\\execute.py:54\u001b[0m, in \u001b[0;36mquick_execute\u001b[1;34m(op_name, num_outputs, inputs, attrs, ctx, name)\u001b[0m\n\u001b[0;32m     52\u001b[0m \u001b[38;5;28;01mtry\u001b[39;00m:\n\u001b[0;32m     53\u001b[0m   ctx\u001b[38;5;241m.\u001b[39mensure_initialized()\n\u001b[1;32m---> 54\u001b[0m   tensors \u001b[38;5;241m=\u001b[39m pywrap_tfe\u001b[38;5;241m.\u001b[39mTFE_Py_Execute(ctx\u001b[38;5;241m.\u001b[39m_handle, device_name, op_name,\n\u001b[0;32m     55\u001b[0m                                       inputs, attrs, num_outputs)\n\u001b[0;32m     56\u001b[0m \u001b[38;5;28;01mexcept\u001b[39;00m core\u001b[38;5;241m.\u001b[39m_NotOkStatusException \u001b[38;5;28;01mas\u001b[39;00m e:\n\u001b[0;32m     57\u001b[0m   \u001b[38;5;28;01mif\u001b[39;00m name \u001b[38;5;129;01mis\u001b[39;00m \u001b[38;5;129;01mnot\u001b[39;00m \u001b[38;5;28;01mNone\u001b[39;00m:\n",
      "\u001b[1;31mUnknownError\u001b[0m: Graph execution error:\n\nKeyError: '[0, 1, 2, 3, 4, 5, 6, 7, 9, 10, 11, 12, 13, 14, 16, 17, 18, 19, 20, 21, 22, 24, 25, 26, 27, 28, 30, 31] not in index'\nTraceback (most recent call last):\n\n  File \"C:\\Users\\taver\\AppData\\Roaming\\Python\\Python38\\site-packages\\tensorflow\\python\\ops\\script_ops.py\", line 269, in __call__\n    return func(device, token, args)\n\n  File \"C:\\Users\\taver\\AppData\\Roaming\\Python\\Python38\\site-packages\\tensorflow\\python\\ops\\script_ops.py\", line 147, in __call__\n    outputs = self._call(device, args)\n\n  File \"C:\\Users\\taver\\AppData\\Roaming\\Python\\Python38\\site-packages\\tensorflow\\python\\ops\\script_ops.py\", line 154, in _call\n    ret = self._func(*args)\n\n  File \"C:\\Users\\taver\\AppData\\Roaming\\Python\\Python38\\site-packages\\tensorflow\\python\\autograph\\impl\\api.py\", line 642, in wrapper\n    return func(*args, **kwargs)\n\n  File \"c:\\Users\\taver\\anaconda3\\envs\\new_tensor_env\\lib\\site-packages\\keras\\engine\\data_adapter.py\", line 513, in py_method\n    return [slice_array(inp) for inp in flat_inputs]\n\n  File \"c:\\Users\\taver\\anaconda3\\envs\\new_tensor_env\\lib\\site-packages\\keras\\engine\\data_adapter.py\", line 513, in <listcomp>\n    return [slice_array(inp) for inp in flat_inputs]\n\n  File \"c:\\Users\\taver\\anaconda3\\envs\\new_tensor_env\\lib\\site-packages\\keras\\engine\\data_adapter.py\", line 509, in slice_array\n    return training_utils.slice_arrays(\n\n  File \"c:\\Users\\taver\\anaconda3\\envs\\new_tensor_env\\lib\\site-packages\\keras\\engine\\training_utils.py\", line 52, in slice_arrays\n    slices = generic_utils.slice_arrays(arrays, indices)\n\n  File \"c:\\Users\\taver\\anaconda3\\envs\\new_tensor_env\\lib\\site-packages\\keras\\utils\\generic_utils.py\", line 1199, in slice_arrays\n    return [None if x is None else x[start] for x in arrays]\n\n  File \"c:\\Users\\taver\\anaconda3\\envs\\new_tensor_env\\lib\\site-packages\\keras\\utils\\generic_utils.py\", line 1199, in <listcomp>\n    return [None if x is None else x[start] for x in arrays]\n\n  File \"c:\\Users\\taver\\anaconda3\\envs\\new_tensor_env\\lib\\site-packages\\pandas\\core\\series.py\", line 1033, in __getitem__\n    return self._get_with(key)\n\n  File \"c:\\Users\\taver\\anaconda3\\envs\\new_tensor_env\\lib\\site-packages\\pandas\\core\\series.py\", line 1068, in _get_with\n    return self.loc[key]\n\n  File \"c:\\Users\\taver\\anaconda3\\envs\\new_tensor_env\\lib\\site-packages\\pandas\\core\\indexing.py\", line 1103, in __getitem__\n    return self._getitem_axis(maybe_callable, axis=axis)\n\n  File \"c:\\Users\\taver\\anaconda3\\envs\\new_tensor_env\\lib\\site-packages\\pandas\\core\\indexing.py\", line 1332, in _getitem_axis\n    return self._getitem_iterable(key, axis=axis)\n\n  File \"c:\\Users\\taver\\anaconda3\\envs\\new_tensor_env\\lib\\site-packages\\pandas\\core\\indexing.py\", line 1272, in _getitem_iterable\n    keyarr, indexer = self._get_listlike_indexer(key, axis)\n\n  File \"c:\\Users\\taver\\anaconda3\\envs\\new_tensor_env\\lib\\site-packages\\pandas\\core\\indexing.py\", line 1462, in _get_listlike_indexer\n    keyarr, indexer = ax._get_indexer_strict(key, axis_name)\n\n  File \"c:\\Users\\taver\\anaconda3\\envs\\new_tensor_env\\lib\\site-packages\\pandas\\core\\indexes\\base.py\", line 5877, in _get_indexer_strict\n    self._raise_if_missing(keyarr, indexer, axis_name)\n\n  File \"c:\\Users\\taver\\anaconda3\\envs\\new_tensor_env\\lib\\site-packages\\pandas\\core\\indexes\\base.py\", line 5941, in _raise_if_missing\n    raise KeyError(f\"{not_found} not in index\")\n\nKeyError: '[0, 1, 2, 3, 4, 5, 6, 7, 9, 10, 11, 12, 13, 14, 16, 17, 18, 19, 20, 21, 22, 24, 25, 26, 27, 28, 30, 31] not in index'\n\n\n\t [[{{node EagerPyFunc}}]]\n\t [[IteratorGetNext]] [Op:__inference_test_function_207519]"
     ]
    }
   ],
   "source": [
    "scores = model.evaluate(X_test, y_test, verbose=0)\n",
    "print(\"%s: %.2f%%\" % (model.metrics_names[1], scores[1]*100))\n",
    "print(\"%s: %f\" % (model.metrics_names[0], scores[0]))\n"
   ]
  },
  {
   "cell_type": "markdown",
   "metadata": {},
   "source": [
    "Pretty good results, even if loss could be better.\n",
    "We see that something happens after Epoch 7"
   ]
  },
  {
   "cell_type": "markdown",
   "metadata": {},
   "source": [
    "Using F1score :"
   ]
  },
  {
   "cell_type": "code",
   "execution_count": 147,
   "metadata": {},
   "outputs": [
    {
     "name": "stdout",
     "output_type": "stream",
     "text": [
      "18/18 [==============================] - 0s 2ms/step\n",
      "F1 Score: 0.869565\n"
     ]
    }
   ],
   "source": [
    "from sklearn.metrics import f1_score\n",
    "\n",
    "y_pred = model.predict(X_test)\n",
    "y_pred_classes = (y_pred > 0.5).astype(\"int32\")\n",
    "\n",
    "#F1 score:\n",
    "score_f1 = f1_score(y_test, y_pred_classes)\n",
    "\n",
    "print(\"F1 Score: %f\" % score_f1)"
   ]
  },
  {
   "cell_type": "markdown",
   "metadata": {},
   "source": [
    "This F1 score means our model learns from datas, but this can be improved.  \n",
    "We could also try with other kinds of models : LSTM, GRU for example, better for long-term issue than RNN."
   ]
  },
  {
   "cell_type": "markdown",
   "metadata": {},
   "source": [
    "An idea, whenever:"
   ]
  },
  {
   "cell_type": "code",
   "execution_count": null,
   "metadata": {},
   "outputs": [
    {
     "name": "stdout",
     "output_type": "stream",
     "text": [
      "Please install GPU version of TF\n"
     ]
    }
   ],
   "source": [
    "if tf.test.gpu_device_name(): \n",
    "    print('Default GPU Device: {}'.format(tf.test.gpu_device_name()))\n",
    "else:\n",
    "    print(\"Please install GPU version of TF\")"
   ]
  },
  {
   "cell_type": "markdown",
   "metadata": {},
   "source": [
    "I'll see later with using GPU"
   ]
  },
  {
   "cell_type": "markdown",
   "metadata": {},
   "source": [
    "Essai avec un batch-size plus élevé (64):"
   ]
  },
  {
   "cell_type": "code",
   "execution_count": 149,
   "metadata": {},
   "outputs": [
    {
     "name": "stdout",
     "output_type": "stream",
     "text": [
      "Epoch 1/20\n",
      " 50/109 [============>.................] - ETA: 0s - loss: 0.0127 - accuracy: 0.9972"
     ]
    },
    {
     "name": "stdout",
     "output_type": "stream",
     "text": [
      "109/109 [==============================] - 1s 9ms/step - loss: 0.0111 - accuracy: 0.9975 - val_loss: 0.0194 - val_accuracy: 0.9931\n",
      "Epoch 2/20\n",
      "109/109 [==============================] - 1s 8ms/step - loss: 0.0053 - accuracy: 0.9991 - val_loss: 0.0081 - val_accuracy: 0.9960\n",
      "Epoch 3/20\n",
      "109/109 [==============================] - 1s 8ms/step - loss: 0.0050 - accuracy: 0.9991 - val_loss: 0.0161 - val_accuracy: 0.9937\n",
      "Epoch 4/20\n",
      "109/109 [==============================] - 1s 8ms/step - loss: 0.0044 - accuracy: 0.9991 - val_loss: 0.0089 - val_accuracy: 0.9960\n",
      "Epoch 5/20\n",
      "109/109 [==============================] - 1s 8ms/step - loss: 0.0039 - accuracy: 0.9991 - val_loss: 0.0040 - val_accuracy: 0.9960\n",
      "Epoch 6/20\n",
      "109/109 [==============================] - 1s 8ms/step - loss: 0.0046 - accuracy: 0.9990 - val_loss: 0.1028 - val_accuracy: 0.9723\n",
      "Epoch 7/20\n",
      "109/109 [==============================] - 1s 8ms/step - loss: 0.0197 - accuracy: 0.9961 - val_loss: 0.0130 - val_accuracy: 0.9937\n",
      "Epoch 8/20\n",
      "109/109 [==============================] - 1s 9ms/step - loss: 0.0300 - accuracy: 0.9913 - val_loss: 0.0063 - val_accuracy: 0.9994\n",
      "Epoch 9/20\n",
      "109/109 [==============================] - 1s 8ms/step - loss: 0.0078 - accuracy: 0.9978 - val_loss: 0.0064 - val_accuracy: 0.9960\n",
      "Epoch 10/20\n",
      "109/109 [==============================] - 1s 8ms/step - loss: 0.0250 - accuracy: 0.9929 - val_loss: 0.1070 - val_accuracy: 0.9683\n",
      "Epoch 11/20\n",
      "109/109 [==============================] - 1s 8ms/step - loss: 0.0103 - accuracy: 0.9971 - val_loss: 0.0104 - val_accuracy: 0.9948\n",
      "Epoch 12/20\n",
      "109/109 [==============================] - 1s 8ms/step - loss: 0.0143 - accuracy: 0.9964 - val_loss: 0.0150 - val_accuracy: 0.9983\n",
      "Epoch 13/20\n",
      "109/109 [==============================] - 1s 8ms/step - loss: 0.0107 - accuracy: 0.9977 - val_loss: 0.0131 - val_accuracy: 0.9983\n",
      "Epoch 14/20\n",
      "109/109 [==============================] - 1s 8ms/step - loss: 0.0100 - accuracy: 0.9980 - val_loss: 0.0126 - val_accuracy: 0.9983\n",
      "Epoch 15/20\n",
      "109/109 [==============================] - 1s 8ms/step - loss: 0.0064 - accuracy: 0.9990 - val_loss: 0.0160 - val_accuracy: 0.9931\n",
      "Epoch 16/20\n",
      "109/109 [==============================] - 1s 8ms/step - loss: 0.0104 - accuracy: 0.9980 - val_loss: 0.0270 - val_accuracy: 0.9873\n",
      "Epoch 17/20\n",
      "109/109 [==============================] - 1s 8ms/step - loss: 0.0072 - accuracy: 0.9986 - val_loss: 0.0253 - val_accuracy: 0.9885\n",
      "Epoch 18/20\n",
      "109/109 [==============================] - 1s 8ms/step - loss: 0.0901 - accuracy: 0.9749 - val_loss: 0.0881 - val_accuracy: 0.9769\n",
      "Epoch 19/20\n",
      "109/109 [==============================] - 1s 9ms/step - loss: 0.0195 - accuracy: 0.9938 - val_loss: 0.0526 - val_accuracy: 0.9810\n",
      "Epoch 20/20\n",
      "109/109 [==============================] - 1s 8ms/step - loss: 0.0138 - accuracy: 0.9960 - val_loss: 0.0203 - val_accuracy: 0.9937\n"
     ]
    }
   ],
   "source": [
    "checkpoint_filepath = '/tmp/ckpt/checkpoint.model.keras'\n",
    "model_checkpoint_callback = tf.keras.callbacks.ModelCheckpoint(\n",
    "    filepath=checkpoint_filepath,\n",
    "    monitor='val_accuracy',\n",
    "    mode='max',\n",
    "    save_best_only=True)\n",
    "history2 = model.fit(X_train_resampled, y_train_resampled, batch_size=64, epochs=20, validation_split=0.2, callbacks=[model_checkpoint_callback])\n"
   ]
  },
  {
   "cell_type": "code",
   "execution_count": 150,
   "metadata": {},
   "outputs": [],
   "source": [
    "model_rnn_batch64 = tf.keras.models.load_model(checkpoint_filepath)"
   ]
  },
  {
   "cell_type": "code",
   "execution_count": 151,
   "metadata": {},
   "outputs": [
    {
     "name": "stdout",
     "output_type": "stream",
     "text": [
      "Model: \"sequential_3\"\n",
      "_________________________________________________________________\n",
      " Layer (type)                Output Shape              Param #   \n",
      "=================================================================\n",
      " embedding_3 (Embedding)     (None, None, 64)          64000     \n",
      "                                                                 \n",
      " simple_rnn_3 (SimpleRNN)    (None, 32)                3104      \n",
      "                                                                 \n",
      " dense_10 (Dense)            (None, 16)                528       \n",
      "                                                                 \n",
      " dense_11 (Dense)            (None, 1)                 17        \n",
      "                                                                 \n",
      "=================================================================\n",
      "Total params: 67,649\n",
      "Trainable params: 67,649\n",
      "Non-trainable params: 0\n",
      "_________________________________________________________________\n"
     ]
    }
   ],
   "source": [
    "model_rnn_batch64.summary()"
   ]
  },
  {
   "cell_type": "code",
   "execution_count": null,
   "metadata": {},
   "outputs": [
    {
     "data": {
      "image/png": "[encoded data removed]",
      "text/plain": [
       "<Figure size 1200x600 with 2 Axes>"
      ]
     },
     "metadata": {},
     "output_type": "display_data"
    }
   ],
   "source": [
    "loss = history2.history['loss']\n",
    "val_loss = history2.history['val_loss']\n",
    "accuracy = history2.history['accuracy']\n",
    "val_accuracy = history2.history['val_accuracy']\n",
    "\n",
    "# Loss\n",
    "plt.figure(figsize=(12, 6))\n",
    "plt.subplot(1, 2, 1)\n",
    "plt.plot(loss, label='Training Loss')\n",
    "plt.plot(val_loss, label='Validation Loss')\n",
    "plt.title('Training and Validation Loss')\n",
    "plt.xlabel('Epochs')\n",
    "plt.ylabel('Loss')\n",
    "plt.legend()\n",
    "\n",
    "# Accuracy\n",
    "plt.subplot(1, 2, 2)\n",
    "plt.plot(accuracy, label='Training Accuracy')\n",
    "plt.plot(val_accuracy, label='Validation Accuracy')\n",
    "plt.title('Training and Validation Accuracy')\n",
    "plt.xlabel('Epochs')\n",
    "plt.ylabel('Accuracy')\n",
    "plt.legend()\n",
    "\n",
    "plt.show()"
   ]
  },
  {
   "cell_type": "code",
   "execution_count": 152,
   "metadata": {},
   "outputs": [
    {
     "name": "stdout",
     "output_type": "stream",
     "text": [
      "WARNING:tensorflow:Keras is training/fitting/evaluating on array-like data. Keras may not be optimized for this format, so if your input data format is supported by TensorFlow I/O (https://github.com/tensorflow/io) we recommend using that to load a Dataset instead.\n"
     ]
    },
    {
     "ename": "UnknownError",
     "evalue": "Graph execution error:\n\nKeyError: '[0, 1, 2, 3, 4, 5, 6, 7, 9, 10, 11, 12, 13, 14, 16, 17, 18, 19, 20, 21, 22, 24, 25, 26, 27, 28, 30, 31] not in index'\nTraceback (most recent call last):\n\n  File \"C:\\Users\\taver\\AppData\\Roaming\\Python\\Python38\\site-packages\\tensorflow\\python\\ops\\script_ops.py\", line 269, in __call__\n    return func(device, token, args)\n\n  File \"C:\\Users\\taver\\AppData\\Roaming\\Python\\Python38\\site-packages\\tensorflow\\python\\ops\\script_ops.py\", line 147, in __call__\n    outputs = self._call(device, args)\n\n  File \"C:\\Users\\taver\\AppData\\Roaming\\Python\\Python38\\site-packages\\tensorflow\\python\\ops\\script_ops.py\", line 154, in _call\n    ret = self._func(*args)\n\n  File \"C:\\Users\\taver\\AppData\\Roaming\\Python\\Python38\\site-packages\\tensorflow\\python\\autograph\\impl\\api.py\", line 642, in wrapper\n    return func(*args, **kwargs)\n\n  File \"c:\\Users\\taver\\anaconda3\\envs\\new_tensor_env\\lib\\site-packages\\keras\\engine\\data_adapter.py\", line 513, in py_method\n    return [slice_array(inp) for inp in flat_inputs]\n\n  File \"c:\\Users\\taver\\anaconda3\\envs\\new_tensor_env\\lib\\site-packages\\keras\\engine\\data_adapter.py\", line 513, in <listcomp>\n    return [slice_array(inp) for inp in flat_inputs]\n\n  File \"c:\\Users\\taver\\anaconda3\\envs\\new_tensor_env\\lib\\site-packages\\keras\\engine\\data_adapter.py\", line 509, in slice_array\n    return training_utils.slice_arrays(\n\n  File \"c:\\Users\\taver\\anaconda3\\envs\\new_tensor_env\\lib\\site-packages\\keras\\engine\\training_utils.py\", line 52, in slice_arrays\n    slices = generic_utils.slice_arrays(arrays, indices)\n\n  File \"c:\\Users\\taver\\anaconda3\\envs\\new_tensor_env\\lib\\site-packages\\keras\\utils\\generic_utils.py\", line 1199, in slice_arrays\n    return [None if x is None else x[start] for x in arrays]\n\n  File \"c:\\Users\\taver\\anaconda3\\envs\\new_tensor_env\\lib\\site-packages\\keras\\utils\\generic_utils.py\", line 1199, in <listcomp>\n    return [None if x is None else x[start] for x in arrays]\n\n  File \"c:\\Users\\taver\\anaconda3\\envs\\new_tensor_env\\lib\\site-packages\\pandas\\core\\series.py\", line 1033, in __getitem__\n    return self._get_with(key)\n\n  File \"c:\\Users\\taver\\anaconda3\\envs\\new_tensor_env\\lib\\site-packages\\pandas\\core\\series.py\", line 1068, in _get_with\n    return self.loc[key]\n\n  File \"c:\\Users\\taver\\anaconda3\\envs\\new_tensor_env\\lib\\site-packages\\pandas\\core\\indexing.py\", line 1103, in __getitem__\n    return self._getitem_axis(maybe_callable, axis=axis)\n\n  File \"c:\\Users\\taver\\anaconda3\\envs\\new_tensor_env\\lib\\site-packages\\pandas\\core\\indexing.py\", line 1332, in _getitem_axis\n    return self._getitem_iterable(key, axis=axis)\n\n  File \"c:\\Users\\taver\\anaconda3\\envs\\new_tensor_env\\lib\\site-packages\\pandas\\core\\indexing.py\", line 1272, in _getitem_iterable\n    keyarr, indexer = self._get_listlike_indexer(key, axis)\n\n  File \"c:\\Users\\taver\\anaconda3\\envs\\new_tensor_env\\lib\\site-packages\\pandas\\core\\indexing.py\", line 1462, in _get_listlike_indexer\n    keyarr, indexer = ax._get_indexer_strict(key, axis_name)\n\n  File \"c:\\Users\\taver\\anaconda3\\envs\\new_tensor_env\\lib\\site-packages\\pandas\\core\\indexes\\base.py\", line 5877, in _get_indexer_strict\n    self._raise_if_missing(keyarr, indexer, axis_name)\n\n  File \"c:\\Users\\taver\\anaconda3\\envs\\new_tensor_env\\lib\\site-packages\\pandas\\core\\indexes\\base.py\", line 5941, in _raise_if_missing\n    raise KeyError(f\"{not_found} not in index\")\n\nKeyError: '[0, 1, 2, 3, 4, 5, 6, 7, 9, 10, 11, 12, 13, 14, 16, 17, 18, 19, 20, 21, 22, 24, 25, 26, 27, 28, 30, 31] not in index'\n\n\n\t [[{{node EagerPyFunc}}]]\n\t [[IteratorGetNext]] [Op:__inference_test_function_241720]",
     "output_type": "error",
     "traceback": [
      "\u001b[1;31m---------------------------------------------------------------------------\u001b[0m",
      "\u001b[1;31mUnknownError\u001b[0m                              Traceback (most recent call last)",
      "Cell \u001b[1;32mIn[152], line 1\u001b[0m\n\u001b[1;32m----> 1\u001b[0m scores \u001b[38;5;241m=\u001b[39m \u001b[43mmodel\u001b[49m\u001b[38;5;241;43m.\u001b[39;49m\u001b[43mevaluate\u001b[49m\u001b[43m(\u001b[49m\u001b[43mX_test\u001b[49m\u001b[43m,\u001b[49m\u001b[43m \u001b[49m\u001b[43my_test\u001b[49m\u001b[43m,\u001b[49m\u001b[43m \u001b[49m\u001b[43mverbose\u001b[49m\u001b[38;5;241;43m=\u001b[39;49m\u001b[38;5;241;43m0\u001b[39;49m\u001b[43m)\u001b[49m\n\u001b[0;32m      2\u001b[0m \u001b[38;5;28mprint\u001b[39m(\u001b[38;5;124m\"\u001b[39m\u001b[38;5;132;01m%s\u001b[39;00m\u001b[38;5;124m: \u001b[39m\u001b[38;5;132;01m%.2f\u001b[39;00m\u001b[38;5;132;01m%%\u001b[39;00m\u001b[38;5;124m\"\u001b[39m \u001b[38;5;241m%\u001b[39m (model\u001b[38;5;241m.\u001b[39mmetrics_names[\u001b[38;5;241m1\u001b[39m], scores[\u001b[38;5;241m1\u001b[39m]\u001b[38;5;241m*\u001b[39m\u001b[38;5;241m100\u001b[39m))\n\u001b[0;32m      3\u001b[0m \u001b[38;5;28mprint\u001b[39m(\u001b[38;5;124m\"\u001b[39m\u001b[38;5;132;01m%s\u001b[39;00m\u001b[38;5;124m: \u001b[39m\u001b[38;5;132;01m%f\u001b[39;00m\u001b[38;5;124m\"\u001b[39m \u001b[38;5;241m%\u001b[39m (model\u001b[38;5;241m.\u001b[39mmetrics_names[\u001b[38;5;241m0\u001b[39m], scores[\u001b[38;5;241m0\u001b[39m]))\n",
      "File \u001b[1;32mc:\\Users\\taver\\anaconda3\\envs\\new_tensor_env\\lib\\site-packages\\keras\\utils\\traceback_utils.py:70\u001b[0m, in \u001b[0;36mfilter_traceback.<locals>.error_handler\u001b[1;34m(*args, **kwargs)\u001b[0m\n\u001b[0;32m     67\u001b[0m     filtered_tb \u001b[38;5;241m=\u001b[39m _process_traceback_frames(e\u001b[38;5;241m.\u001b[39m__traceback__)\n\u001b[0;32m     68\u001b[0m     \u001b[38;5;66;03m# To get the full stack trace, call:\u001b[39;00m\n\u001b[0;32m     69\u001b[0m     \u001b[38;5;66;03m# `tf.debugging.disable_traceback_filtering()`\u001b[39;00m\n\u001b[1;32m---> 70\u001b[0m     \u001b[38;5;28;01mraise\u001b[39;00m e\u001b[38;5;241m.\u001b[39mwith_traceback(filtered_tb) \u001b[38;5;28;01mfrom\u001b[39;00m \u001b[38;5;28;01mNone\u001b[39;00m\n\u001b[0;32m     71\u001b[0m \u001b[38;5;28;01mfinally\u001b[39;00m:\n\u001b[0;32m     72\u001b[0m     \u001b[38;5;28;01mdel\u001b[39;00m filtered_tb\n",
      "File \u001b[1;32m~\\AppData\\Roaming\\Python\\Python38\\site-packages\\tensorflow\\python\\eager\\execute.py:54\u001b[0m, in \u001b[0;36mquick_execute\u001b[1;34m(op_name, num_outputs, inputs, attrs, ctx, name)\u001b[0m\n\u001b[0;32m     52\u001b[0m \u001b[38;5;28;01mtry\u001b[39;00m:\n\u001b[0;32m     53\u001b[0m   ctx\u001b[38;5;241m.\u001b[39mensure_initialized()\n\u001b[1;32m---> 54\u001b[0m   tensors \u001b[38;5;241m=\u001b[39m pywrap_tfe\u001b[38;5;241m.\u001b[39mTFE_Py_Execute(ctx\u001b[38;5;241m.\u001b[39m_handle, device_name, op_name,\n\u001b[0;32m     55\u001b[0m                                       inputs, attrs, num_outputs)\n\u001b[0;32m     56\u001b[0m \u001b[38;5;28;01mexcept\u001b[39;00m core\u001b[38;5;241m.\u001b[39m_NotOkStatusException \u001b[38;5;28;01mas\u001b[39;00m e:\n\u001b[0;32m     57\u001b[0m   \u001b[38;5;28;01mif\u001b[39;00m name \u001b[38;5;129;01mis\u001b[39;00m \u001b[38;5;129;01mnot\u001b[39;00m \u001b[38;5;28;01mNone\u001b[39;00m:\n",
      "\u001b[1;31mUnknownError\u001b[0m: Graph execution error:\n\nKeyError: '[0, 1, 2, 3, 4, 5, 6, 7, 9, 10, 11, 12, 13, 14, 16, 17, 18, 19, 20, 21, 22, 24, 25, 26, 27, 28, 30, 31] not in index'\nTraceback (most recent call last):\n\n  File \"C:\\Users\\taver\\AppData\\Roaming\\Python\\Python38\\site-packages\\tensorflow\\python\\ops\\script_ops.py\", line 269, in __call__\n    return func(device, token, args)\n\n  File \"C:\\Users\\taver\\AppData\\Roaming\\Python\\Python38\\site-packages\\tensorflow\\python\\ops\\script_ops.py\", line 147, in __call__\n    outputs = self._call(device, args)\n\n  File \"C:\\Users\\taver\\AppData\\Roaming\\Python\\Python38\\site-packages\\tensorflow\\python\\ops\\script_ops.py\", line 154, in _call\n    ret = self._func(*args)\n\n  File \"C:\\Users\\taver\\AppData\\Roaming\\Python\\Python38\\site-packages\\tensorflow\\python\\autograph\\impl\\api.py\", line 642, in wrapper\n    return func(*args, **kwargs)\n\n  File \"c:\\Users\\taver\\anaconda3\\envs\\new_tensor_env\\lib\\site-packages\\keras\\engine\\data_adapter.py\", line 513, in py_method\n    return [slice_array(inp) for inp in flat_inputs]\n\n  File \"c:\\Users\\taver\\anaconda3\\envs\\new_tensor_env\\lib\\site-packages\\keras\\engine\\data_adapter.py\", line 513, in <listcomp>\n    return [slice_array(inp) for inp in flat_inputs]\n\n  File \"c:\\Users\\taver\\anaconda3\\envs\\new_tensor_env\\lib\\site-packages\\keras\\engine\\data_adapter.py\", line 509, in slice_array\n    return training_utils.slice_arrays(\n\n  File \"c:\\Users\\taver\\anaconda3\\envs\\new_tensor_env\\lib\\site-packages\\keras\\engine\\training_utils.py\", line 52, in slice_arrays\n    slices = generic_utils.slice_arrays(arrays, indices)\n\n  File \"c:\\Users\\taver\\anaconda3\\envs\\new_tensor_env\\lib\\site-packages\\keras\\utils\\generic_utils.py\", line 1199, in slice_arrays\n    return [None if x is None else x[start] for x in arrays]\n\n  File \"c:\\Users\\taver\\anaconda3\\envs\\new_tensor_env\\lib\\site-packages\\keras\\utils\\generic_utils.py\", line 1199, in <listcomp>\n    return [None if x is None else x[start] for x in arrays]\n\n  File \"c:\\Users\\taver\\anaconda3\\envs\\new_tensor_env\\lib\\site-packages\\pandas\\core\\series.py\", line 1033, in __getitem__\n    return self._get_with(key)\n\n  File \"c:\\Users\\taver\\anaconda3\\envs\\new_tensor_env\\lib\\site-packages\\pandas\\core\\series.py\", line 1068, in _get_with\n    return self.loc[key]\n\n  File \"c:\\Users\\taver\\anaconda3\\envs\\new_tensor_env\\lib\\site-packages\\pandas\\core\\indexing.py\", line 1103, in __getitem__\n    return self._getitem_axis(maybe_callable, axis=axis)\n\n  File \"c:\\Users\\taver\\anaconda3\\envs\\new_tensor_env\\lib\\site-packages\\pandas\\core\\indexing.py\", line 1332, in _getitem_axis\n    return self._getitem_iterable(key, axis=axis)\n\n  File \"c:\\Users\\taver\\anaconda3\\envs\\new_tensor_env\\lib\\site-packages\\pandas\\core\\indexing.py\", line 1272, in _getitem_iterable\n    keyarr, indexer = self._get_listlike_indexer(key, axis)\n\n  File \"c:\\Users\\taver\\anaconda3\\envs\\new_tensor_env\\lib\\site-packages\\pandas\\core\\indexing.py\", line 1462, in _get_listlike_indexer\n    keyarr, indexer = ax._get_indexer_strict(key, axis_name)\n\n  File \"c:\\Users\\taver\\anaconda3\\envs\\new_tensor_env\\lib\\site-packages\\pandas\\core\\indexes\\base.py\", line 5877, in _get_indexer_strict\n    self._raise_if_missing(keyarr, indexer, axis_name)\n\n  File \"c:\\Users\\taver\\anaconda3\\envs\\new_tensor_env\\lib\\site-packages\\pandas\\core\\indexes\\base.py\", line 5941, in _raise_if_missing\n    raise KeyError(f\"{not_found} not in index\")\n\nKeyError: '[0, 1, 2, 3, 4, 5, 6, 7, 9, 10, 11, 12, 13, 14, 16, 17, 18, 19, 20, 21, 22, 24, 25, 26, 27, 28, 30, 31] not in index'\n\n\n\t [[{{node EagerPyFunc}}]]\n\t [[IteratorGetNext]] [Op:__inference_test_function_241720]"
     ]
    }
   ],
   "source": [
    "scores = model.evaluate(X_test, y_test, verbose=0)\n",
    "print(\"%s: %.2f%%\" % (model.metrics_names[1], scores[1]*100))\n",
    "print(\"%s: %f\" % (model.metrics_names[0], scores[0]))\n"
   ]
  },
  {
   "cell_type": "markdown",
   "metadata": {},
   "source": [
    "Better results !"
   ]
  },
  {
   "cell_type": "markdown",
   "metadata": {},
   "source": [
    "F1 score: "
   ]
  },
  {
   "cell_type": "code",
   "execution_count": 153,
   "metadata": {},
   "outputs": [
    {
     "name": "stdout",
     "output_type": "stream",
     "text": [
      "18/18 [==============================] - 0s 2ms/step\n",
      "F1 Score: 0.810811\n"
     ]
    }
   ],
   "source": [
    "y_pred = model.predict(X_test)\n",
    "y_pred_classes = (y_pred > 0.5).astype(\"int32\")\n",
    "\n",
    "#F1 score:\n",
    "score_f1 = f1_score(y_test, y_pred_classes)\n",
    "\n",
    "print(\"F1 Score: %f\" % score_f1)"
   ]
  },
  {
   "cell_type": "markdown",
   "metadata": {},
   "source": [
    "This were better parameters for the RNN models we used."
   ]
  },
  {
   "cell_type": "markdown",
   "metadata": {},
   "source": [
    "----------------- PART IV : WHAT IF WE COULD IMPORT A PRETRAINED RNN, AND DO SOME TRANSFER TUNING ? ----------"
   ]
  },
  {
   "cell_type": "markdown",
   "metadata": {},
   "source": [
    "Doing some transfer learning, is importing and using a pretrained model on internet, built by some  \n",
    "university or big lab research with important hardware ressources.  \n",
    "Have to choose one model pretrained with the same kind of fields we're working on : pictures, words...and  \n",
    "just 'cut' the last layer.  \n",
    "We replace then the last layer with our last one, as the output is specific to each project !"
   ]
  },
  {
   "cell_type": "markdown",
   "metadata": {},
   "source": [
    "--------------------------------------- For example, using 'BERT' -----------------------------------"
   ]
  },
  {
   "cell_type": "code",
   "execution_count": null,
   "metadata": {},
   "outputs": [],
   "source": [
    "#!pip install --upgrade tensorflow-hub"
   ]
  },
  {
   "cell_type": "code",
   "execution_count": 154,
   "metadata": {},
   "outputs": [],
   "source": [
    "import tensorflow as tf\n",
    "#from tensorflow.keras.models import Sequential\n",
    "#from tensorflow.keras.layers import Embedding, SimpleRNN, Dense\n",
    "import tensorflow_hub as hub"
   ]
  },
  {
   "cell_type": "code",
   "execution_count": null,
   "metadata": {},
   "outputs": [],
   "source": [
    "#!pip install  tensorflow_text"
   ]
  },
  {
   "cell_type": "code",
   "execution_count": 155,
   "metadata": {},
   "outputs": [],
   "source": [
    "import tensorflow_text"
   ]
  },
  {
   "cell_type": "markdown",
   "metadata": {},
   "source": [
    "=> Facing many environnements issues I had to try things and fix lot of buggs.  \n",
    "I let unused cells here as a reminder, just jump over them !"
   ]
  },
  {
   "cell_type": "code",
   "execution_count": null,
   "metadata": {},
   "outputs": [],
   "source": [
    "# import os\n",
    "# import sys\n",
    "\n",
    "# model_dir = \"C:/Users/taver/Documents/Jedha/Jedha_2023_2024/Bert\"\n",
    "# os.environ['TFHUB_MODEL_LOAD_FORMAT'] = 'COMPRESSED'\n",
    "# sys.modules['tensorflow_hub'] = hub\n",
    "# bert_encoder = hub.load(model_dir)"
   ]
  },
  {
   "cell_type": "code",
   "execution_count": null,
   "metadata": {},
   "outputs": [],
   "source": [
    "\n",
    "# model_dir = \"C:/Users/taver/Documents/Jedha/Jedha_2023_2024/Bert_Preprocessor\"\n",
    "# os.environ['TFHUB_MODEL_LOAD_FORMAT'] = 'COMPRESSED'\n",
    "# sys.modules['tensorflow_hub'] = hub\n",
    "# bert_preprocessor = hub.load(model_dir)"
   ]
  },
  {
   "cell_type": "code",
   "execution_count": null,
   "metadata": {},
   "outputs": [],
   "source": [
    "\n",
    "#preprocessor = hub.load(\"https://tfhub.dev/tensorflow/bert_en_uncased_preprocess/3\")\n",
    "#bert_preprocessor = hub.KerasLayer(\"https://tfhub.dev/tensorflow/bert_en_uncased_preprocess/3\", name='preprocessing')\n",
    "#bert_encoder = hub.KerasLayer('https://tfhub.dev/tensorflow/bert_en_uncased_L-12_H-768_A-12/4', trainable=False)\n",
    "#text_preprocessed = bert_preprocessor(text_test)\n",
    "\n",
    "# cache issue\n",
    "# have to download 'Bert' on my laptop"
   ]
  },
  {
   "cell_type": "code",
   "execution_count": 1,
   "metadata": {},
   "outputs": [],
   "source": [
    "#!pip install transformers"
   ]
  },
  {
   "cell_type": "code",
   "execution_count": 156,
   "metadata": {},
   "outputs": [
    {
     "name": "stderr",
     "output_type": "stream",
     "text": [
      "Some weights of the PyTorch model were not used when initializing the TF 2.0 model TFBertModel: ['cls.predictions.transform.LayerNorm.bias', 'cls.seq_relationship.bias', 'cls.predictions.bias', 'cls.predictions.transform.dense.weight', 'cls.predictions.transform.dense.bias', 'cls.seq_relationship.weight', 'cls.predictions.transform.LayerNorm.weight']\n",
      "- This IS expected if you are initializing TFBertModel from a PyTorch model trained on another task or with another architecture (e.g. initializing a TFBertForSequenceClassification model from a BertForPreTraining model).\n",
      "- This IS NOT expected if you are initializing TFBertModel from a PyTorch model that you expect to be exactly identical (e.g. initializing a TFBertForSequenceClassification model from a BertForSequenceClassification model).\n",
      "All the weights of TFBertModel were initialized from the PyTorch model.\n",
      "If your task is similar to the task the model of the checkpoint was trained on, you can already use TFBertModel for predictions without further training.\n"
     ]
    }
   ],
   "source": [
    "from transformers import BertConfig, TFBertModel\n",
    "\n",
    "config = BertConfig.from_pretrained('bert-base-uncased')\n",
    "bert_model = TFBertModel.from_pretrained('bert-base-uncased', config=config) "
   ]
  },
  {
   "cell_type": "code",
   "execution_count": 165,
   "metadata": {},
   "outputs": [],
   "source": [
    "from tensorflow.keras.preprocessing.sequence import pad_sequences\n",
    "\n",
    "#Tokenize the text data\n",
    "def tokenize_text(text):\n",
    "    return tokenizer2(text, padding=True, truncation=True, return_tensors=\"tf\")['input_ids'][0]\n",
    "\n",
    "df_model['tokenized_text'] = df_model['v2_clean'].apply(tokenize_text)\n",
    "\n",
    "#Split the data into training and testing sets\n",
    "train_df, test_df = train_test_split(df_model, test_size=0.2, random_state=42)\n",
    "\n",
    "#Pad the tokenized sequences to a fixed length\n",
    "max_length = 128  # Adjust as needed\n",
    "train_inputs = pad_sequences(train_df['tokenized_text'], maxlen=max_length, dtype=\"long\", padding=\"post\", truncating=\"post\")\n",
    "test_inputs = pad_sequences(test_df['tokenized_text'], maxlen=max_length, dtype=\"long\", padding=\"post\", truncating=\"post\")\n",
    "\n",
    "#Convert labels into numpy arrays\n",
    "train_labels = np.array(train_df['v1'])\n",
    "test_labels = np.array(test_df['v1'])"
   ]
  },
  {
   "cell_type": "code",
   "execution_count": 172,
   "metadata": {},
   "outputs": [],
   "source": [
    "train_masks = []\n",
    "\n",
    "#For each sequence in train_inputs, create the corresponding attention mask\n",
    "for seq in train_inputs:\n",
    "    # Create a mask of 1s for each token followed by 0s for padding\n",
    "    seq_mask = [float(i > 0) for i in seq]\n",
    "    train_masks.append(seq_mask)\n",
    "\n",
    "#Convert the lists of attention masks to numpy arrays\n",
    "train_masks = np.array(train_masks)"
   ]
  },
  {
   "cell_type": "code",
   "execution_count": 178,
   "metadata": {},
   "outputs": [],
   "source": [
    "#reshape\n",
    "train_labels = tf.reshape(train_labels, (-1, 1))\n",
    "train_masks = tf.cast(tf.not_equal(train_masks, 0), tf.int32)"
   ]
  },
  {
   "cell_type": "code",
   "execution_count": 179,
   "metadata": {},
   "outputs": [],
   "source": [
    "from tensorflow.keras.layers import Input, Dense\n",
    "from tensorflow.keras.models import Model\n",
    "\n",
    "#Define input layer\n",
    "max_length = 128\n",
    "input_ids = Input(shape=(max_length,), dtype=tf.int32, name=\"input_ids\")\n",
    "attention_mask = Input(shape=(max_length,), dtype=tf.int32, name=\"attention_mask\")\n",
    "\n",
    "#Get BERT output\n",
    "bert_output = bert_model({'input_ids': input_ids, 'attention_mask': attention_mask})[0]\n",
    "\n",
    "#Add classification head\n",
    "dense = Dense(256, activation='relu')(bert_output)\n",
    "output = Dense(1, activation='sigmoid')(dense)\n",
    "\n",
    "#Combine input and output to create model\n",
    "model = Model(inputs=[input_ids, attention_mask], outputs=output)"
   ]
  },
  {
   "cell_type": "code",
   "execution_count": 180,
   "metadata": {},
   "outputs": [
    {
     "data": {
      "text/plain": [
       "TensorShape([4457, 1])"
      ]
     },
     "execution_count": 180,
     "metadata": {},
     "output_type": "execute_result"
    }
   ],
   "source": [
    "train_labels.shape"
   ]
  },
  {
   "cell_type": "code",
   "execution_count": 181,
   "metadata": {},
   "outputs": [
    {
     "data": {
      "text/plain": [
       "(4457, 128)"
      ]
     },
     "execution_count": 181,
     "metadata": {},
     "output_type": "execute_result"
    }
   ],
   "source": [
    "train_inputs.shape"
   ]
  },
  {
   "cell_type": "code",
   "execution_count": 182,
   "metadata": {},
   "outputs": [
    {
     "data": {
      "text/plain": [
       "TensorShape([4457, 128])"
      ]
     },
     "execution_count": 182,
     "metadata": {},
     "output_type": "execute_result"
    }
   ],
   "source": [
    "train_masks.shape"
   ]
  },
  {
   "cell_type": "code",
   "execution_count": 183,
   "metadata": {},
   "outputs": [
    {
     "name": "stdout",
     "output_type": "stream",
     "text": [
      "Epoch 1/3\n"
     ]
    },
    {
     "name": "stdout",
     "output_type": "stream",
     "text": [
      "140/140 [==============================] - 504s 4s/step - loss: 0.4726 - accuracy: 0.8078\n",
      "Epoch 2/3\n",
      "140/140 [==============================] - 527s 4s/step - loss: 0.2842 - accuracy: 0.8862\n",
      "Epoch 3/3\n",
      "140/140 [==============================] - 611s 4s/step - loss: 0.2214 - accuracy: 0.9111\n"
     ]
    }
   ],
   "source": [
    "#Freeze BERT layers\n",
    "bert_model.trainable = False\n",
    "\n",
    "\n",
    "#Compile the model\n",
    "optimizer = tf.keras.optimizers.Adam(learning_rate=2e-5) # low learning rate as only last layer to train\n",
    "loss = tf.keras.losses.BinaryCrossentropy()\n",
    "metrics = ['accuracy']\n",
    "model.compile(optimizer=optimizer, loss=loss, metrics=metrics)\n",
    "\n",
    "#X_train_2_resampled = tf.convert_to_tensor(X_train_2_resampled)\n",
    "#y_train_2_resampled = tf.convert_to_tensor(y_train_2_resampled) \n",
    "\n",
    "#Train the model, only 3 epoch because last layer doesn't need more to learn\n",
    "history = model.fit(x={'input_ids': train_inputs, 'attention_mask': train_masks}, y=train_labels, epochs=3, batch_size=32)"
   ]
  },
  {
   "cell_type": "markdown",
   "metadata": {},
   "source": [
    "------------------------------------ PART IV : FINE TUNING --------------------------------------"
   ]
  },
  {
   "cell_type": "markdown",
   "metadata": {},
   "source": [
    "Fine tuning goes one step (...or more !) further than transfer learning.  \n",
    "We keep our last layer plugged on an imported model, as with transfer learning.\n",
    "Then going backward in layers, to choose how many of them we train to improve precision of our model."
   ]
  },
  {
   "cell_type": "code",
   "execution_count": null,
   "metadata": {},
   "outputs": [],
   "source": [
    "# Training some BERT layers\n",
    "\n",
    "bert_model.trainable = False\n",
    "\n",
    "# Unfreeze for example the last 5 layers\n",
    "for layer in bert_model.layers[-5:]:\n",
    "    layer.trainable = True\n",
    "\n",
    "#Compile the model\n",
    "optimizer = tf.keras.optimizers.Adam(learning_rate=2e-5)\n",
    "loss = tf.keras.losses.BinaryCrossentropy()\n",
    "metrics = ['accuracy']\n",
    "model.compile(optimizer=optimizer, loss=loss, metrics=metrics)\n",
    "\n",
    "#X_train_2_resampled = tf.convert_to_tensor(X_train_2_resampled)\n",
    "#y_train_2_resampled = tf.convert_to_tensor(y_train_2_resampled) \n",
    "\n",
    "#Train the model, only 3 epoch because last layer doesn't need more to learn\n",
    "history = model.fit(x={'input_ids': train_inputs, 'attention_mask': train_masks}, y=train_labels, epochs=20, batch_size=32)"
   ]
  },
  {
   "cell_type": "code",
   "execution_count": null,
   "metadata": {},
   "outputs": [
    {
     "ename": "TypeError",
     "evalue": "You are passing KerasTensor(type_spec=TensorSpec(shape=(None,), dtype=tf.string, name='Inputs'), name='Inputs', description=\"created by layer 'Inputs'\"), an intermediate Keras symbolic input/output, to a TF API that does not allow registering custom dispatchers, such as `tf.cond`, `tf.function`, gradient tapes, or `tf.map_fn`. Keras Functional model construction only supports TF API calls that *do* support dispatching, such as `tf.math.add` or `tf.reshape`. Other APIs cannot be called directly on symbolic Kerasinputs/outputs. You can work around this limitation by putting the operation in a custom Keras layer `call` and calling that layer on this symbolic input/output.",
     "output_type": "error",
     "traceback": [
      "\u001b[1;31m---------------------------------------------------------------------------\u001b[0m",
      "\u001b[1;31mTypeError\u001b[0m                                 Traceback (most recent call last)",
      "Cell \u001b[1;32mIn[6], line 2\u001b[0m\n\u001b[0;32m      1\u001b[0m text_input \u001b[38;5;241m=\u001b[39m tf\u001b[38;5;241m.\u001b[39mkeras\u001b[38;5;241m.\u001b[39mlayers\u001b[38;5;241m.\u001b[39mInput(shape \u001b[38;5;241m=\u001b[39m (), dtype \u001b[38;5;241m=\u001b[39m tf\u001b[38;5;241m.\u001b[39mstring, name \u001b[38;5;241m=\u001b[39m \u001b[38;5;124m'\u001b[39m\u001b[38;5;124mInputs\u001b[39m\u001b[38;5;124m'\u001b[39m)\n\u001b[1;32m----> 2\u001b[0m preprocessed_text \u001b[38;5;241m=\u001b[39m \u001b[43mbert_preprocessor\u001b[49m\u001b[43m(\u001b[49m\u001b[43mtext_input\u001b[49m\u001b[43m)\u001b[49m\n\u001b[0;32m      3\u001b[0m embeed \u001b[38;5;241m=\u001b[39m bert_encoder(preprocessed_text)\n\u001b[0;32m      4\u001b[0m outputs \u001b[38;5;241m=\u001b[39m tf\u001b[38;5;241m.\u001b[39mkeras\u001b[38;5;241m.\u001b[39mlayers\u001b[38;5;241m.\u001b[39mDense(\u001b[38;5;241m1\u001b[39m, activation \u001b[38;5;241m=\u001b[39m \u001b[38;5;124m'\u001b[39m\u001b[38;5;124msigmoid\u001b[39m\u001b[38;5;124m'\u001b[39m, name \u001b[38;5;241m=\u001b[39m \u001b[38;5;124m'\u001b[39m\u001b[38;5;124mDense\u001b[39m\u001b[38;5;124m'\u001b[39m)(embeed[\u001b[38;5;124m'\u001b[39m\u001b[38;5;124mpooled_output\u001b[39m\u001b[38;5;124m'\u001b[39m])\n",
      "File \u001b[1;32m~\\AppData\\Roaming\\Python\\Python38\\site-packages\\tensorflow\\python\\saved_model\\load.py:704\u001b[0m, in \u001b[0;36m_call_attribute\u001b[1;34m(instance, *args, **kwargs)\u001b[0m\n\u001b[0;32m    703\u001b[0m \u001b[38;5;28;01mdef\u001b[39;00m \u001b[38;5;21m_call_attribute\u001b[39m(instance, \u001b[38;5;241m*\u001b[39margs, \u001b[38;5;241m*\u001b[39m\u001b[38;5;241m*\u001b[39mkwargs):\n\u001b[1;32m--> 704\u001b[0m   \u001b[38;5;28;01mreturn\u001b[39;00m \u001b[43minstance\u001b[49m\u001b[38;5;241;43m.\u001b[39;49m\u001b[38;5;21;43m__call__\u001b[39;49m\u001b[43m(\u001b[49m\u001b[38;5;241;43m*\u001b[39;49m\u001b[43margs\u001b[49m\u001b[43m,\u001b[49m\u001b[43m \u001b[49m\u001b[38;5;241;43m*\u001b[39;49m\u001b[38;5;241;43m*\u001b[39;49m\u001b[43mkwargs\u001b[49m\u001b[43m)\u001b[49m\n",
      "File \u001b[1;32m~\\AppData\\Roaming\\Python\\Python38\\site-packages\\tensorflow\\python\\util\\traceback_utils.py:153\u001b[0m, in \u001b[0;36mfilter_traceback.<locals>.error_handler\u001b[1;34m(*args, **kwargs)\u001b[0m\n\u001b[0;32m    151\u001b[0m \u001b[38;5;28;01mexcept\u001b[39;00m \u001b[38;5;167;01mException\u001b[39;00m \u001b[38;5;28;01mas\u001b[39;00m e:\n\u001b[0;32m    152\u001b[0m   filtered_tb \u001b[38;5;241m=\u001b[39m _process_traceback_frames(e\u001b[38;5;241m.\u001b[39m__traceback__)\n\u001b[1;32m--> 153\u001b[0m   \u001b[38;5;28;01mraise\u001b[39;00m e\u001b[38;5;241m.\u001b[39mwith_traceback(filtered_tb) \u001b[38;5;28;01mfrom\u001b[39;00m \u001b[38;5;28;01mNone\u001b[39;00m\n\u001b[0;32m    154\u001b[0m \u001b[38;5;28;01mfinally\u001b[39;00m:\n\u001b[0;32m    155\u001b[0m   \u001b[38;5;28;01mdel\u001b[39;00m filtered_tb\n",
      "File \u001b[1;32mc:\\Users\\taver\\anaconda3\\envs\\new_tensor_env\\lib\\site-packages\\keras\\engine\\keras_tensor.py:283\u001b[0m, in \u001b[0;36mKerasTensor.__array__\u001b[1;34m(self, dtype)\u001b[0m\n\u001b[0;32m    282\u001b[0m \u001b[38;5;28;01mdef\u001b[39;00m \u001b[38;5;21m__array__\u001b[39m(\u001b[38;5;28mself\u001b[39m, dtype\u001b[38;5;241m=\u001b[39m\u001b[38;5;28;01mNone\u001b[39;00m):\n\u001b[1;32m--> 283\u001b[0m     \u001b[38;5;28;01mraise\u001b[39;00m \u001b[38;5;167;01mTypeError\u001b[39;00m(\n\u001b[0;32m    284\u001b[0m         \u001b[38;5;124mf\u001b[39m\u001b[38;5;124m\"\u001b[39m\u001b[38;5;124mYou are passing \u001b[39m\u001b[38;5;132;01m{\u001b[39;00m\u001b[38;5;28mself\u001b[39m\u001b[38;5;132;01m}\u001b[39;00m\u001b[38;5;124m, an intermediate Keras symbolic \u001b[39m\u001b[38;5;124m\"\u001b[39m\n\u001b[0;32m    285\u001b[0m         \u001b[38;5;124m\"\u001b[39m\u001b[38;5;124minput/output, to a TF API that does not allow registering custom \u001b[39m\u001b[38;5;124m\"\u001b[39m\n\u001b[0;32m    286\u001b[0m         \u001b[38;5;124m\"\u001b[39m\u001b[38;5;124mdispatchers, such as `tf.cond`, `tf.function`, gradient tapes, \u001b[39m\u001b[38;5;124m\"\u001b[39m\n\u001b[0;32m    287\u001b[0m         \u001b[38;5;124m\"\u001b[39m\u001b[38;5;124mor `tf.map_fn`. Keras Functional model construction only supports \u001b[39m\u001b[38;5;124m\"\u001b[39m\n\u001b[0;32m    288\u001b[0m         \u001b[38;5;124m\"\u001b[39m\u001b[38;5;124mTF API calls that *do* support dispatching, such as `tf.math.add` \u001b[39m\u001b[38;5;124m\"\u001b[39m\n\u001b[0;32m    289\u001b[0m         \u001b[38;5;124m\"\u001b[39m\u001b[38;5;124mor `tf.reshape`. \u001b[39m\u001b[38;5;124m\"\u001b[39m\n\u001b[0;32m    290\u001b[0m         \u001b[38;5;124m\"\u001b[39m\u001b[38;5;124mOther APIs cannot be called directly on symbolic Keras\u001b[39m\u001b[38;5;124m\"\u001b[39m\n\u001b[0;32m    291\u001b[0m         \u001b[38;5;124m\"\u001b[39m\u001b[38;5;124minputs/outputs. You can work around \u001b[39m\u001b[38;5;124m\"\u001b[39m\n\u001b[0;32m    292\u001b[0m         \u001b[38;5;124m\"\u001b[39m\u001b[38;5;124mthis limitation by putting the operation in a custom Keras layer \u001b[39m\u001b[38;5;124m\"\u001b[39m\n\u001b[0;32m    293\u001b[0m         \u001b[38;5;124m\"\u001b[39m\u001b[38;5;124m`call` and calling that layer \u001b[39m\u001b[38;5;124m\"\u001b[39m\n\u001b[0;32m    294\u001b[0m         \u001b[38;5;124m\"\u001b[39m\u001b[38;5;124mon this symbolic input/output.\u001b[39m\u001b[38;5;124m\"\u001b[39m\n\u001b[0;32m    295\u001b[0m     )\n",
      "\u001b[1;31mTypeError\u001b[0m: You are passing KerasTensor(type_spec=TensorSpec(shape=(None,), dtype=tf.string, name='Inputs'), name='Inputs', description=\"created by layer 'Inputs'\"), an intermediate Keras symbolic input/output, to a TF API that does not allow registering custom dispatchers, such as `tf.cond`, `tf.function`, gradient tapes, or `tf.map_fn`. Keras Functional model construction only supports TF API calls that *do* support dispatching, such as `tf.math.add` or `tf.reshape`. Other APIs cannot be called directly on symbolic Kerasinputs/outputs. You can work around this limitation by putting the operation in a custom Keras layer `call` and calling that layer on this symbolic input/output."
     ]
    }
   ],
   "source": [
    "text_input = tf.keras.layers.Input(shape = (), dtype = tf.string, name = 'Inputs')\n",
    "preprocessed_text = bert_preprocessor(text_input)\n",
    "embeed = bert_encoder(preprocessed_text)\n",
    "outputs = tf.keras.layers.Dense(1, activation = 'sigmoid', name = 'Dense')(embeed['pooled_output'])"
   ]
  },
  {
   "cell_type": "code",
   "execution_count": null,
   "metadata": {},
   "outputs": [
    {
     "ename": "NameError",
     "evalue": "name 'outputs' is not defined",
     "output_type": "error",
     "traceback": [
      "\u001b[1;31m---------------------------------------------------------------------------\u001b[0m",
      "\u001b[1;31mNameError\u001b[0m                                 Traceback (most recent call last)",
      "Cell \u001b[1;32mIn[58], line 2\u001b[0m\n\u001b[0;32m      1\u001b[0m \u001b[38;5;66;03m# creating final model\u001b[39;00m\n\u001b[1;32m----> 2\u001b[0m model_tlbert \u001b[38;5;241m=\u001b[39m tf\u001b[38;5;241m.\u001b[39mkeras\u001b[38;5;241m.\u001b[39mModel(inputs \u001b[38;5;241m=\u001b[39m [text_input], outputs \u001b[38;5;241m=\u001b[39m [\u001b[43moutputs\u001b[49m])\n",
      "\u001b[1;31mNameError\u001b[0m: name 'outputs' is not defined"
     ]
    }
   ],
   "source": [
    "# creating final model\n",
    "model_tlbert = tf.keras.Model(inputs = [text_input], outputs = [outputs])"
   ]
  },
  {
   "cell_type": "code",
   "execution_count": null,
   "metadata": {},
   "outputs": [
    {
     "ename": "",
     "evalue": "",
     "output_type": "error",
     "traceback": [
      "\u001b[1;31mRunning cells with 'pythonProject' requires the ipykernel package.\n",
      "\u001b[1;31mRun the following command to install 'ipykernel' into the Python environment. \n",
      "\u001b[1;31mCommand: 'conda install -n pythonProject ipykernel --update-deps --force-reinstall'"
     ]
    }
   ],
   "source": [
    "model_tlbert.summary()"
   ]
  },
  {
   "cell_type": "code",
   "execution_count": null,
   "metadata": {},
   "outputs": [
    {
     "ename": "",
     "evalue": "",
     "output_type": "error",
     "traceback": [
      "\u001b[1;31mRunning cells with 'pythonProject' requires the ipykernel package.\n",
      "\u001b[1;31mRun the following command to install 'ipykernel' into the Python environment. \n",
      "\u001b[1;31mCommand: 'conda install -n pythonProject ipykernel --update-deps --force-reinstall'"
     ]
    }
   ],
   "source": [
    "\n",
    "X_train, X_test, y_train, y_test = train_test_split(df_model['v2_clean'], df_model['v1'], test_size=0.1, random_state=42 )"
   ]
  },
  {
   "cell_type": "code",
   "execution_count": null,
   "metadata": {},
   "outputs": [
    {
     "ename": "",
     "evalue": "",
     "output_type": "error",
     "traceback": [
      "\u001b[1;31mRunning cells with 'pythonProject' requires the ipykernel package.\n",
      "\u001b[1;31mRun the following command to install 'ipykernel' into the Python environment. \n",
      "\u001b[1;31mCommand: 'conda install -n pythonProject ipykernel --update-deps --force-reinstall'"
     ]
    }
   ],
   "source": [
    "model_tlbert.compile(optimizer='adam',\n",
    "              loss='binary_crossentropy',\n",
    "              metrics=['accuracy'])\n",
    "model_tlbert.fit(X_train, y_train, batch_size=32, epochs=20, validation_split=0.2)"
   ]
  },
  {
   "cell_type": "code",
   "execution_count": null,
   "metadata": {},
   "outputs": [
    {
     "ename": "",
     "evalue": "",
     "output_type": "error",
     "traceback": [
      "\u001b[1;31mRunning cells with 'pythonProject' requires the ipykernel package.\n",
      "\u001b[1;31mRun the following command to install 'ipykernel' into the Python environment. \n",
      "\u001b[1;31mCommand: 'conda install -n pythonProject ipykernel --update-deps --force-reinstall'"
     ]
    }
   ],
   "source": []
  }
 ],
 "metadata": {
  "kernelspec": {
   "display_name": "base",
   "language": "python",
   "name": "python3"
  },
  "language_info": {
   "codemirror_mode": {
    "name": "ipython",
    "version": 3
   },
   "file_extension": ".py",
   "mimetype": "text/x-python",
   "name": "python",
   "nbconvert_exporter": "python",
   "pygments_lexer": "ipython3",
   "version": "3.8.19"
  }
 },
 "nbformat": 4,
 "nbformat_minor": 2
}
